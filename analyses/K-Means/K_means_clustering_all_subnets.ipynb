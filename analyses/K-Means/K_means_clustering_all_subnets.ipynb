{
 "cells": [
  {
   "cell_type": "markdown",
   "metadata": {},
   "source": [
    "# Clustering of hosts using K-means algorithm \n",
    "\n",
    "We will use k-means to cluster **all** hosts from subnets and evaluate clustering performamce.  "
   ]
  },
  {
   "cell_type": "markdown",
   "metadata": {},
   "source": [
    "### Imports"
   ]
  },
  {
   "cell_type": "code",
   "execution_count": 1,
   "metadata": {},
   "outputs": [],
   "source": [
    "import pandas as pd\n",
    "import numpy as np"
   ]
  },
  {
   "cell_type": "markdown",
   "metadata": {},
   "source": [
    "### Import dataset\n",
    "\n",
    "We have a preprocessed pandas dataframe consisting of anonymized host behaviour. Each host belongs to a certain **unit** within the subnet."
   ]
  },
  {
   "cell_type": "code",
   "execution_count": 2,
   "metadata": {},
   "outputs": [
    {
     "data": {
      "text/html": [
       "<div>\n",
       "<style scoped>\n",
       "    .dataframe tbody tr th:only-of-type {\n",
       "        vertical-align: middle;\n",
       "    }\n",
       "\n",
       "    .dataframe tbody tr th {\n",
       "        vertical-align: top;\n",
       "    }\n",
       "\n",
       "    .dataframe thead tr th {\n",
       "        text-align: left;\n",
       "    }\n",
       "</style>\n",
       "<table border=\"1\" class=\"dataframe\">\n",
       "  <thead>\n",
       "    <tr>\n",
       "      <th></th>\n",
       "      <th colspan=\"10\" halign=\"left\">mean</th>\n",
       "      <th>...</th>\n",
       "      <th colspan=\"5\" halign=\"left\">max</th>\n",
       "      <th colspan=\"4\" halign=\"left\">Label</th>\n",
       "      <th>Unit_encoding</th>\n",
       "    </tr>\n",
       "    <tr>\n",
       "      <th></th>\n",
       "      <th colspan=\"10\" halign=\"left\">FlowDuration</th>\n",
       "      <th>...</th>\n",
       "      <th colspan=\"5\" halign=\"left\">Bytes</th>\n",
       "      <th colspan=\"4\" halign=\"left\">Label</th>\n",
       "      <th></th>\n",
       "    </tr>\n",
       "    <tr>\n",
       "      <th></th>\n",
       "      <th>00</th>\n",
       "      <th>01</th>\n",
       "      <th>02</th>\n",
       "      <th>03</th>\n",
       "      <th>04</th>\n",
       "      <th>05</th>\n",
       "      <th>06</th>\n",
       "      <th>07</th>\n",
       "      <th>08</th>\n",
       "      <th>09</th>\n",
       "      <th>...</th>\n",
       "      <th>19</th>\n",
       "      <th>20</th>\n",
       "      <th>21</th>\n",
       "      <th>22</th>\n",
       "      <th>23</th>\n",
       "      <th>anon_net_range</th>\n",
       "      <th>addr_range</th>\n",
       "      <th>unit</th>\n",
       "      <th>subunit</th>\n",
       "      <th></th>\n",
       "    </tr>\n",
       "  </thead>\n",
       "  <tbody>\n",
       "    <tr>\n",
       "      <th>0</th>\n",
       "      <td>-0.007622</td>\n",
       "      <td>-0.006103</td>\n",
       "      <td>-0.009019</td>\n",
       "      <td>-0.006422</td>\n",
       "      <td>-0.012099</td>\n",
       "      <td>-0.007141</td>\n",
       "      <td>-0.007069</td>\n",
       "      <td>-0.012616</td>\n",
       "      <td>-0.009572</td>\n",
       "      <td>-0.011851</td>\n",
       "      <td>...</td>\n",
       "      <td>-0.015290</td>\n",
       "      <td>-0.014971</td>\n",
       "      <td>-0.016604</td>\n",
       "      <td>-0.016766</td>\n",
       "      <td>-0.016320</td>\n",
       "      <td>28</td>\n",
       "      <td>ef160f55b36bd48b37f22bc9c48819b1a0259c2dd27ccc...</td>\n",
       "      <td>CEITEC</td>\n",
       "      <td>frontendy diskovych poli a aplikacni servery ...</td>\n",
       "      <td>0</td>\n",
       "    </tr>\n",
       "    <tr>\n",
       "      <th>1</th>\n",
       "      <td>-0.009677</td>\n",
       "      <td>-0.011074</td>\n",
       "      <td>-0.010790</td>\n",
       "      <td>-0.008082</td>\n",
       "      <td>-0.013610</td>\n",
       "      <td>-0.009863</td>\n",
       "      <td>-0.009743</td>\n",
       "      <td>-0.014340</td>\n",
       "      <td>-0.011510</td>\n",
       "      <td>-0.014119</td>\n",
       "      <td>...</td>\n",
       "      <td>-0.015291</td>\n",
       "      <td>-0.014971</td>\n",
       "      <td>-0.016604</td>\n",
       "      <td>-0.016766</td>\n",
       "      <td>-0.016320</td>\n",
       "      <td>28</td>\n",
       "      <td>93b8f5a052053b0db4731b671f78b8c5e5817d38d51ba9...</td>\n",
       "      <td>CEITEC</td>\n",
       "      <td>frontendy diskovych poli a aplikacni servery ...</td>\n",
       "      <td>0</td>\n",
       "    </tr>\n",
       "    <tr>\n",
       "      <th>2</th>\n",
       "      <td>-0.009484</td>\n",
       "      <td>-0.010427</td>\n",
       "      <td>-0.010896</td>\n",
       "      <td>-0.008080</td>\n",
       "      <td>-0.013609</td>\n",
       "      <td>-0.009918</td>\n",
       "      <td>-0.009838</td>\n",
       "      <td>-0.014320</td>\n",
       "      <td>-0.011545</td>\n",
       "      <td>-0.013922</td>\n",
       "      <td>...</td>\n",
       "      <td>-0.015291</td>\n",
       "      <td>-0.014971</td>\n",
       "      <td>-0.016604</td>\n",
       "      <td>-0.016766</td>\n",
       "      <td>-0.016320</td>\n",
       "      <td>28</td>\n",
       "      <td>ac600c8985d0f198d532737ea9d58db00905c6c6bebb6b...</td>\n",
       "      <td>CEITEC</td>\n",
       "      <td>frontendy diskovych poli a aplikacni servery ...</td>\n",
       "      <td>0</td>\n",
       "    </tr>\n",
       "    <tr>\n",
       "      <th>3</th>\n",
       "      <td>-0.009932</td>\n",
       "      <td>-0.011126</td>\n",
       "      <td>-0.010762</td>\n",
       "      <td>-0.007984</td>\n",
       "      <td>-0.013595</td>\n",
       "      <td>-0.009918</td>\n",
       "      <td>-0.009470</td>\n",
       "      <td>-0.014341</td>\n",
       "      <td>-0.011979</td>\n",
       "      <td>-0.014230</td>\n",
       "      <td>...</td>\n",
       "      <td>-0.015291</td>\n",
       "      <td>-0.014971</td>\n",
       "      <td>-0.016604</td>\n",
       "      <td>-0.016766</td>\n",
       "      <td>-0.016320</td>\n",
       "      <td>28</td>\n",
       "      <td>48bab257d30b1c6eaa225275fe60fc5e1dfe61afe54ace...</td>\n",
       "      <td>CEITEC</td>\n",
       "      <td>frontendy diskovych poli a aplikacni servery ...</td>\n",
       "      <td>0</td>\n",
       "    </tr>\n",
       "    <tr>\n",
       "      <th>4</th>\n",
       "      <td>-0.007484</td>\n",
       "      <td>-0.005790</td>\n",
       "      <td>-0.008930</td>\n",
       "      <td>-0.006322</td>\n",
       "      <td>-0.012029</td>\n",
       "      <td>-0.007007</td>\n",
       "      <td>-0.006911</td>\n",
       "      <td>-0.012538</td>\n",
       "      <td>-0.009441</td>\n",
       "      <td>-0.011706</td>\n",
       "      <td>...</td>\n",
       "      <td>-0.015274</td>\n",
       "      <td>-0.014955</td>\n",
       "      <td>-0.016588</td>\n",
       "      <td>-0.016752</td>\n",
       "      <td>-0.016307</td>\n",
       "      <td>26</td>\n",
       "      <td>1cd00c373ace404b829e822bf076631b564bf2bc70db82...</td>\n",
       "      <td>CEITEC</td>\n",
       "      <td>CRS</td>\n",
       "      <td>0</td>\n",
       "    </tr>\n",
       "  </tbody>\n",
       "</table>\n",
       "<p>5 rows × 653 columns</p>\n",
       "</div>"
      ],
      "text/plain": [
       "          mean                                                              \\\n",
       "  FlowDuration                                                               \n",
       "            00        01        02        03        04        05        06   \n",
       "0    -0.007622 -0.006103 -0.009019 -0.006422 -0.012099 -0.007141 -0.007069   \n",
       "1    -0.009677 -0.011074 -0.010790 -0.008082 -0.013610 -0.009863 -0.009743   \n",
       "2    -0.009484 -0.010427 -0.010896 -0.008080 -0.013609 -0.009918 -0.009838   \n",
       "3    -0.009932 -0.011126 -0.010762 -0.007984 -0.013595 -0.009918 -0.009470   \n",
       "4    -0.007484 -0.005790 -0.008930 -0.006322 -0.012029 -0.007007 -0.006911   \n",
       "\n",
       "                                     ...            max                      \\\n",
       "                                     ...          Bytes                       \n",
       "         07        08        09      ...             19        20        21   \n",
       "0 -0.012616 -0.009572 -0.011851      ...      -0.015290 -0.014971 -0.016604   \n",
       "1 -0.014340 -0.011510 -0.014119      ...      -0.015291 -0.014971 -0.016604   \n",
       "2 -0.014320 -0.011545 -0.013922      ...      -0.015291 -0.014971 -0.016604   \n",
       "3 -0.014341 -0.011979 -0.014230      ...      -0.015291 -0.014971 -0.016604   \n",
       "4 -0.012538 -0.009441 -0.011706      ...      -0.015274 -0.014955 -0.016588   \n",
       "\n",
       "                               Label  \\\n",
       "                               Label   \n",
       "         22        23 anon_net_range   \n",
       "0 -0.016766 -0.016320             28   \n",
       "1 -0.016766 -0.016320             28   \n",
       "2 -0.016766 -0.016320             28   \n",
       "3 -0.016766 -0.016320             28   \n",
       "4 -0.016752 -0.016307             26   \n",
       "\n",
       "                                                              \\\n",
       "                                                               \n",
       "                                          addr_range    unit   \n",
       "0  ef160f55b36bd48b37f22bc9c48819b1a0259c2dd27ccc...  CEITEC   \n",
       "1  93b8f5a052053b0db4731b671f78b8c5e5817d38d51ba9...  CEITEC   \n",
       "2  ac600c8985d0f198d532737ea9d58db00905c6c6bebb6b...  CEITEC   \n",
       "3  48bab257d30b1c6eaa225275fe60fc5e1dfe61afe54ace...  CEITEC   \n",
       "4  1cd00c373ace404b829e822bf076631b564bf2bc70db82...  CEITEC   \n",
       "\n",
       "                                                     Unit_encoding  \n",
       "                                                                    \n",
       "                                             subunit                \n",
       "0   frontendy diskovych poli a aplikacni servery ...             0  \n",
       "1   frontendy diskovych poli a aplikacni servery ...             0  \n",
       "2   frontendy diskovych poli a aplikacni servery ...             0  \n",
       "3   frontendy diskovych poli a aplikacni servery ...             0  \n",
       "4                                                CRS             0  \n",
       "\n",
       "[5 rows x 653 columns]"
      ]
     },
     "execution_count": 2,
     "metadata": {},
     "output_type": "execute_result"
    }
   ],
   "source": [
    "df = pd.read_pickle('balanced_preprocessed_dataset.pkl')\n",
    "df.head()"
   ]
  },
  {
   "cell_type": "code",
   "execution_count": 3,
   "metadata": {},
   "outputs": [
    {
     "data": {
      "text/plain": [
       "array(['CEITEC', 'CESNET', 'CTT', 'ESF', 'FF', 'FI', 'FIeduroamnaFI',\n",
       "       'FNBrno', 'FSS', 'FSpS', 'IBA', 'LF', 'PedF', 'PravF', 'PrirF',\n",
       "       'RMU', 'SKM', 'Teiresias', 'Telc', 'UKB', 'UVT', 'VPN'],\n",
       "      dtype=object)"
      ]
     },
     "execution_count": 3,
     "metadata": {},
     "output_type": "execute_result"
    }
   ],
   "source": [
    "df['Label', 'Label', 'unit'].unique()"
   ]
  },
  {
   "cell_type": "code",
   "execution_count": 4,
   "metadata": {},
   "outputs": [
    {
     "data": {
      "text/plain": [
       "UVT              3500\n",
       "SKM              3246\n",
       "PrirF            2599\n",
       "CEITEC           2223\n",
       "LF               1475\n",
       "FI               1289\n",
       "FF               1089\n",
       "FIeduroamnaFI    1020\n",
       "FSS               802\n",
       "PedF              740\n",
       "UKB               649\n",
       "ESF               554\n",
       "PravF             536\n",
       "RMU               429\n",
       "FSpS              410\n",
       "Teiresias         130\n",
       "Telc               99\n",
       "IBA                96\n",
       "VPN                83\n",
       "CTT                19\n",
       "FNBrno              7\n",
       "CESNET              3\n",
       "Name: (Label, Label, unit), dtype: int64"
      ]
     },
     "execution_count": 4,
     "metadata": {},
     "output_type": "execute_result"
    }
   ],
   "source": [
    "df['Label', 'Label', 'unit'].value_counts()"
   ]
  },
  {
   "cell_type": "markdown",
   "metadata": {},
   "source": [
    "### Create train test split"
   ]
  },
  {
   "cell_type": "code",
   "execution_count": 5,
   "metadata": {},
   "outputs": [
    {
     "data": {
      "text/html": [
       "<div>\n",
       "<style scoped>\n",
       "    .dataframe tbody tr th:only-of-type {\n",
       "        vertical-align: middle;\n",
       "    }\n",
       "\n",
       "    .dataframe tbody tr th {\n",
       "        vertical-align: top;\n",
       "    }\n",
       "\n",
       "    .dataframe thead tr th {\n",
       "        text-align: left;\n",
       "    }\n",
       "</style>\n",
       "<table border=\"1\" class=\"dataframe\">\n",
       "  <thead>\n",
       "    <tr>\n",
       "      <th></th>\n",
       "      <th colspan=\"10\" halign=\"left\">mean</th>\n",
       "      <th>...</th>\n",
       "      <th colspan=\"10\" halign=\"left\">max</th>\n",
       "    </tr>\n",
       "    <tr>\n",
       "      <th></th>\n",
       "      <th colspan=\"10\" halign=\"left\">FlowDuration</th>\n",
       "      <th>...</th>\n",
       "      <th colspan=\"10\" halign=\"left\">Bytes</th>\n",
       "    </tr>\n",
       "    <tr>\n",
       "      <th></th>\n",
       "      <th>00</th>\n",
       "      <th>01</th>\n",
       "      <th>02</th>\n",
       "      <th>03</th>\n",
       "      <th>04</th>\n",
       "      <th>05</th>\n",
       "      <th>06</th>\n",
       "      <th>07</th>\n",
       "      <th>08</th>\n",
       "      <th>09</th>\n",
       "      <th>...</th>\n",
       "      <th>14</th>\n",
       "      <th>15</th>\n",
       "      <th>16</th>\n",
       "      <th>17</th>\n",
       "      <th>18</th>\n",
       "      <th>19</th>\n",
       "      <th>20</th>\n",
       "      <th>21</th>\n",
       "      <th>22</th>\n",
       "      <th>23</th>\n",
       "    </tr>\n",
       "  </thead>\n",
       "  <tbody>\n",
       "    <tr>\n",
       "      <th>0</th>\n",
       "      <td>-0.007622</td>\n",
       "      <td>-0.006103</td>\n",
       "      <td>-0.009019</td>\n",
       "      <td>-0.006422</td>\n",
       "      <td>-0.012099</td>\n",
       "      <td>-0.007141</td>\n",
       "      <td>-0.007069</td>\n",
       "      <td>-0.012616</td>\n",
       "      <td>-0.009572</td>\n",
       "      <td>-0.011851</td>\n",
       "      <td>...</td>\n",
       "      <td>-0.018135</td>\n",
       "      <td>-0.017941</td>\n",
       "      <td>-0.017531</td>\n",
       "      <td>-0.017640</td>\n",
       "      <td>-0.015971</td>\n",
       "      <td>-0.015290</td>\n",
       "      <td>-0.014971</td>\n",
       "      <td>-0.016604</td>\n",
       "      <td>-0.016766</td>\n",
       "      <td>-0.016320</td>\n",
       "    </tr>\n",
       "    <tr>\n",
       "      <th>1</th>\n",
       "      <td>-0.009677</td>\n",
       "      <td>-0.011074</td>\n",
       "      <td>-0.010790</td>\n",
       "      <td>-0.008082</td>\n",
       "      <td>-0.013610</td>\n",
       "      <td>-0.009863</td>\n",
       "      <td>-0.009743</td>\n",
       "      <td>-0.014340</td>\n",
       "      <td>-0.011510</td>\n",
       "      <td>-0.014119</td>\n",
       "      <td>...</td>\n",
       "      <td>-0.018135</td>\n",
       "      <td>-0.017942</td>\n",
       "      <td>-0.017531</td>\n",
       "      <td>-0.017641</td>\n",
       "      <td>-0.015971</td>\n",
       "      <td>-0.015291</td>\n",
       "      <td>-0.014971</td>\n",
       "      <td>-0.016604</td>\n",
       "      <td>-0.016766</td>\n",
       "      <td>-0.016320</td>\n",
       "    </tr>\n",
       "    <tr>\n",
       "      <th>2</th>\n",
       "      <td>-0.009484</td>\n",
       "      <td>-0.010427</td>\n",
       "      <td>-0.010896</td>\n",
       "      <td>-0.008080</td>\n",
       "      <td>-0.013609</td>\n",
       "      <td>-0.009918</td>\n",
       "      <td>-0.009838</td>\n",
       "      <td>-0.014320</td>\n",
       "      <td>-0.011545</td>\n",
       "      <td>-0.013922</td>\n",
       "      <td>...</td>\n",
       "      <td>-0.018135</td>\n",
       "      <td>-0.017942</td>\n",
       "      <td>-0.017531</td>\n",
       "      <td>-0.017641</td>\n",
       "      <td>-0.015971</td>\n",
       "      <td>-0.015291</td>\n",
       "      <td>-0.014971</td>\n",
       "      <td>-0.016604</td>\n",
       "      <td>-0.016766</td>\n",
       "      <td>-0.016320</td>\n",
       "    </tr>\n",
       "    <tr>\n",
       "      <th>3</th>\n",
       "      <td>-0.009932</td>\n",
       "      <td>-0.011126</td>\n",
       "      <td>-0.010762</td>\n",
       "      <td>-0.007984</td>\n",
       "      <td>-0.013595</td>\n",
       "      <td>-0.009918</td>\n",
       "      <td>-0.009470</td>\n",
       "      <td>-0.014341</td>\n",
       "      <td>-0.011979</td>\n",
       "      <td>-0.014230</td>\n",
       "      <td>...</td>\n",
       "      <td>-0.018135</td>\n",
       "      <td>-0.017942</td>\n",
       "      <td>-0.017531</td>\n",
       "      <td>-0.017641</td>\n",
       "      <td>-0.015971</td>\n",
       "      <td>-0.015291</td>\n",
       "      <td>-0.014971</td>\n",
       "      <td>-0.016604</td>\n",
       "      <td>-0.016766</td>\n",
       "      <td>-0.016320</td>\n",
       "    </tr>\n",
       "    <tr>\n",
       "      <th>4</th>\n",
       "      <td>-0.007484</td>\n",
       "      <td>-0.005790</td>\n",
       "      <td>-0.008930</td>\n",
       "      <td>-0.006322</td>\n",
       "      <td>-0.012029</td>\n",
       "      <td>-0.007007</td>\n",
       "      <td>-0.006911</td>\n",
       "      <td>-0.012538</td>\n",
       "      <td>-0.009441</td>\n",
       "      <td>-0.011706</td>\n",
       "      <td>...</td>\n",
       "      <td>-0.018115</td>\n",
       "      <td>-0.017918</td>\n",
       "      <td>-0.017516</td>\n",
       "      <td>-0.017627</td>\n",
       "      <td>-0.015957</td>\n",
       "      <td>-0.015274</td>\n",
       "      <td>-0.014955</td>\n",
       "      <td>-0.016588</td>\n",
       "      <td>-0.016752</td>\n",
       "      <td>-0.016307</td>\n",
       "    </tr>\n",
       "  </tbody>\n",
       "</table>\n",
       "<p>5 rows × 648 columns</p>\n",
       "</div>"
      ],
      "text/plain": [
       "          mean                                                              \\\n",
       "  FlowDuration                                                               \n",
       "            00        01        02        03        04        05        06   \n",
       "0    -0.007622 -0.006103 -0.009019 -0.006422 -0.012099 -0.007141 -0.007069   \n",
       "1    -0.009677 -0.011074 -0.010790 -0.008082 -0.013610 -0.009863 -0.009743   \n",
       "2    -0.009484 -0.010427 -0.010896 -0.008080 -0.013609 -0.009918 -0.009838   \n",
       "3    -0.009932 -0.011126 -0.010762 -0.007984 -0.013595 -0.009918 -0.009470   \n",
       "4    -0.007484 -0.005790 -0.008930 -0.006322 -0.012029 -0.007007 -0.006911   \n",
       "\n",
       "                                   ...          max                      \\\n",
       "                                   ...        Bytes                       \n",
       "         07        08        09    ...           14        15        16   \n",
       "0 -0.012616 -0.009572 -0.011851    ...    -0.018135 -0.017941 -0.017531   \n",
       "1 -0.014340 -0.011510 -0.014119    ...    -0.018135 -0.017942 -0.017531   \n",
       "2 -0.014320 -0.011545 -0.013922    ...    -0.018135 -0.017942 -0.017531   \n",
       "3 -0.014341 -0.011979 -0.014230    ...    -0.018135 -0.017942 -0.017531   \n",
       "4 -0.012538 -0.009441 -0.011706    ...    -0.018115 -0.017918 -0.017516   \n",
       "\n",
       "                                                                         \n",
       "                                                                         \n",
       "         17        18        19        20        21        22        23  \n",
       "0 -0.017640 -0.015971 -0.015290 -0.014971 -0.016604 -0.016766 -0.016320  \n",
       "1 -0.017641 -0.015971 -0.015291 -0.014971 -0.016604 -0.016766 -0.016320  \n",
       "2 -0.017641 -0.015971 -0.015291 -0.014971 -0.016604 -0.016766 -0.016320  \n",
       "3 -0.017641 -0.015971 -0.015291 -0.014971 -0.016604 -0.016766 -0.016320  \n",
       "4 -0.017627 -0.015957 -0.015274 -0.014955 -0.016588 -0.016752 -0.016307  \n",
       "\n",
       "[5 rows x 648 columns]"
      ]
     },
     "execution_count": 5,
     "metadata": {},
     "output_type": "execute_result"
    }
   ],
   "source": [
    "x = df.drop(['Label', 'Unit_encoding'], level=0, axis=1)\n",
    "y = df['Unit_encoding']\n",
    "x.head()"
   ]
  },
  {
   "cell_type": "markdown",
   "metadata": {},
   "source": [
    "## K-means implementation (LB_Keogh as a metric)"
   ]
  },
  {
   "cell_type": "code",
   "execution_count": 6,
   "metadata": {},
   "outputs": [],
   "source": [
    "from DTW import LB_Keogh\n",
    "from timeit import default_timer as timer"
   ]
  },
  {
   "cell_type": "code",
   "execution_count": 7,
   "metadata": {},
   "outputs": [],
   "source": [
    "def k_means(dataframe, print_progress=True, n_iter=10, k=5):\n",
    "    size = dataframe.shape[0]\n",
    "    series_length = dataframe.shape[1]\n",
    "    centroids = dataframe.sample(n=k).values # setting initial random cluster centroids\n",
    "    data = dataframe.values\n",
    "    r = 5 # LB_Keogh reach parameter\n",
    "    output = {}\n",
    "    output_array = [] # will hold final assignments of each host\n",
    "    for iternum in range(n_iter): # perform n_iter iterations\n",
    "        start = timer()\n",
    "        output = {}\n",
    "        for i in range(size): # for every host in our dataset\n",
    "            min_dist = np.inf\n",
    "            cluster = 0\n",
    "            for c in range(k): # find closest cluster\n",
    "                dist = LB_Keogh(data[i], centroids[c], series_length, r) # LB_Keogh used as a distance metric\n",
    "                if dist < min_dist:\n",
    "                    min_dist = dist\n",
    "                    cluster = c\n",
    "            if iternum == n_iter - 1: # fill output array at last iteration\n",
    "                output_array.append(cluster)\n",
    "            if cluster in output: # assign host cluster according to closes centroid \n",
    "                output[cluster] = np.append(output[cluster], i)\n",
    "            else:\n",
    "                output[cluster] = np.array([i])\n",
    "        for cluster in output: # calculate new clusters after each iteration\n",
    "            centroids[cluster] = np.mean(data[output[cluster]], axis=0)\n",
    "        if print_progress:\n",
    "            print(\"Finished iteration number \" + str(iternum + 1) + \", time: \" + str(timer() - start))\n",
    "    for cluster in output:\n",
    "        print('Cluster ' + str(cluster) + ', number of assigned hosts: ' + str(output[cluster].size))\n",
    "    return output_array"
   ]
  },
  {
   "cell_type": "markdown",
   "metadata": {},
   "source": [
    "## Apply K-means"
   ]
  },
  {
   "cell_type": "code",
   "execution_count": 8,
   "metadata": {},
   "outputs": [
    {
     "name": "stdout",
     "output_type": "stream",
     "text": [
      "Finished iteration number 1, time: 29.295739072000288\n",
      "Finished iteration number 2, time: 20.8072960100003\n",
      "Finished iteration number 3, time: 21.882607993999954\n",
      "Finished iteration number 4, time: 20.865493464000338\n",
      "Finished iteration number 5, time: 20.537845019000088\n",
      "Finished iteration number 6, time: 20.274761675999798\n",
      "Finished iteration number 7, time: 20.271782238000014\n",
      "Finished iteration number 8, time: 20.25250736099997\n",
      "Finished iteration number 9, time: 20.34529250500009\n",
      "Finished iteration number 10, time: 19.83924134000017\n",
      "Finished iteration number 11, time: 20.386332999999922\n",
      "Finished iteration number 12, time: 19.95099080099999\n",
      "Finished iteration number 13, time: 19.97147336299986\n",
      "Finished iteration number 14, time: 19.649057111000275\n",
      "Finished iteration number 15, time: 20.549734988999717\n",
      "Finished iteration number 16, time: 20.139452852999966\n",
      "Finished iteration number 17, time: 20.07763465900007\n",
      "Finished iteration number 18, time: 19.954326693999974\n",
      "Finished iteration number 19, time: 20.43343769100011\n",
      "Finished iteration number 20, time: 19.996019713999885\n",
      "Finished iteration number 21, time: 20.01431231100014\n",
      "Finished iteration number 22, time: 19.93495132199996\n",
      "Finished iteration number 23, time: 20.064028808999865\n",
      "Finished iteration number 24, time: 19.751583822000157\n",
      "Finished iteration number 25, time: 19.969267683999988\n",
      "Finished iteration number 26, time: 19.911798297000132\n",
      "Finished iteration number 27, time: 20.01081279400023\n",
      "Finished iteration number 28, time: 19.962962213000083\n",
      "Finished iteration number 29, time: 20.042899665999812\n",
      "Finished iteration number 30, time: 19.944607667000128\n",
      "Cluster 17, number of assigned hosts: 758\n",
      "Cluster 3, number of assigned hosts: 3402\n",
      "Cluster 6, number of assigned hosts: 3115\n",
      "Cluster 16, number of assigned hosts: 2824\n",
      "Cluster 7, number of assigned hosts: 1177\n",
      "Cluster 11, number of assigned hosts: 1035\n",
      "Cluster 13, number of assigned hosts: 928\n",
      "Cluster 18, number of assigned hosts: 777\n",
      "Cluster 20, number of assigned hosts: 21\n",
      "Cluster 0, number of assigned hosts: 1037\n",
      "Cluster 8, number of assigned hosts: 472\n",
      "Cluster 10, number of assigned hosts: 413\n",
      "Cluster 19, number of assigned hosts: 453\n",
      "Cluster 21, number of assigned hosts: 809\n",
      "Cluster 4, number of assigned hosts: 200\n",
      "Cluster 15, number of assigned hosts: 1181\n",
      "Cluster 1, number of assigned hosts: 639\n",
      "Cluster 2, number of assigned hosts: 200\n",
      "Cluster 5, number of assigned hosts: 130\n",
      "Cluster 12, number of assigned hosts: 198\n",
      "Cluster 9, number of assigned hosts: 1117\n",
      "Cluster 14, number of assigned hosts: 112\n",
      "K-means finished in: 615.0936466420003 seconds\n"
     ]
    }
   ],
   "source": [
    "n_iters = 30\n",
    "num_clusts = df['Label', 'Label', 'unit'].nunique()\n",
    "start = timer()\n",
    "predictions_dtw = k_means(x, True, n_iters, num_clusts)\n",
    "print(\"K-means finished in: \" + str(timer() - start) + \" seconds\")"
   ]
  },
  {
   "cell_type": "code",
   "execution_count": 9,
   "metadata": {},
   "outputs": [
    {
     "data": {
      "text/plain": [
       "UVT              3500\n",
       "SKM              3246\n",
       "PrirF            2599\n",
       "CEITEC           2223\n",
       "LF               1475\n",
       "FI               1289\n",
       "FF               1089\n",
       "FIeduroamnaFI    1020\n",
       "FSS               802\n",
       "PedF              740\n",
       "UKB               649\n",
       "ESF               554\n",
       "PravF             536\n",
       "RMU               429\n",
       "FSpS              410\n",
       "Teiresias         130\n",
       "Telc               99\n",
       "IBA                96\n",
       "VPN                83\n",
       "CTT                19\n",
       "FNBrno              7\n",
       "CESNET              3\n",
       "Name: (Label, Label, unit), dtype: int64"
      ]
     },
     "execution_count": 9,
     "metadata": {},
     "output_type": "execute_result"
    }
   ],
   "source": [
    "df['Label', 'Label', 'unit'].value_counts()"
   ]
  },
  {
   "cell_type": "markdown",
   "metadata": {},
   "source": [
    "## Compare with sklearn implementation (metric is euclidean distance)"
   ]
  },
  {
   "cell_type": "code",
   "execution_count": 10,
   "metadata": {},
   "outputs": [],
   "source": [
    "from sklearn.cluster import KMeans\n",
    "\n",
    "kmeans = KMeans(n_clusters=num_clusts)"
   ]
  },
  {
   "cell_type": "code",
   "execution_count": 11,
   "metadata": {},
   "outputs": [
    {
     "data": {
      "text/plain": [
       "(array([ 0,  1,  2,  3,  4,  5,  6,  7,  8,  9, 10, 11, 12, 13, 14, 15, 16,\n",
       "        17, 18, 19, 20, 21], dtype=int32),\n",
       " array([ 976, 2224,    1,    1,    1,    1,   27,    1,    1,   11,    2,\n",
       "        1160, 1866,   82, 4941,    1, 2294,    1, 2927,    1, 4478,    1]))"
      ]
     },
     "execution_count": 11,
     "metadata": {},
     "output_type": "execute_result"
    }
   ],
   "source": [
    "predictions_euclid = kmeans.fit_predict(x)\n",
    "np.unique(predictions_euclid, return_counts=True)"
   ]
  },
  {
   "cell_type": "markdown",
   "metadata": {},
   "source": [
    "# Performance evaluation"
   ]
  },
  {
   "cell_type": "markdown",
   "metadata": {},
   "source": [
    "## Adjusted Rand index"
   ]
  },
  {
   "cell_type": "code",
   "execution_count": 12,
   "metadata": {},
   "outputs": [],
   "source": [
    "from sklearn import metrics"
   ]
  },
  {
   "cell_type": "markdown",
   "metadata": {},
   "source": [
    "#### With DTW using LB_Keogh as metric"
   ]
  },
  {
   "cell_type": "code",
   "execution_count": 13,
   "metadata": {},
   "outputs": [],
   "source": [
    "true_labels = y\n",
    "pred_labels = predictions_dtw"
   ]
  },
  {
   "cell_type": "code",
   "execution_count": 14,
   "metadata": {},
   "outputs": [
    {
     "data": {
      "text/plain": [
       "0.1432387989094331"
      ]
     },
     "execution_count": 14,
     "metadata": {},
     "output_type": "execute_result"
    }
   ],
   "source": [
    "dtw_score = metrics.adjusted_rand_score(true_labels, pred_labels) \n",
    "dtw_score"
   ]
  },
  {
   "cell_type": "markdown",
   "metadata": {},
   "source": [
    "#### Using builtin sklearn - euclidean distance metric"
   ]
  },
  {
   "cell_type": "code",
   "execution_count": 15,
   "metadata": {},
   "outputs": [],
   "source": [
    "pred_labels = predictions_euclid"
   ]
  },
  {
   "cell_type": "code",
   "execution_count": 16,
   "metadata": {},
   "outputs": [
    {
     "data": {
      "text/plain": [
       "0.12498040314904307"
      ]
     },
     "execution_count": 16,
     "metadata": {},
     "output_type": "execute_result"
    }
   ],
   "source": [
    "ed_score = metrics.adjusted_rand_score(true_labels, pred_labels) \n",
    "ed_score"
   ]
  },
  {
   "cell_type": "code",
   "execution_count": 17,
   "metadata": {},
   "outputs": [
    {
     "name": "stdout",
     "output_type": "stream",
     "text": [
      "Score difference: 0.01825839576039004\n"
     ]
    }
   ],
   "source": [
    "print(\"Score difference: \" + str(dtw_score - ed_score))"
   ]
  },
  {
   "cell_type": "markdown",
   "metadata": {},
   "source": [
    "## Silhoutte Coefficient "
   ]
  },
  {
   "cell_type": "markdown",
   "metadata": {},
   "source": [
    "#### With DTW using LB_Keogh as metric"
   ]
  },
  {
   "cell_type": "markdown",
   "metadata": {},
   "source": [
    "_euclidean_"
   ]
  },
  {
   "cell_type": "code",
   "execution_count": 18,
   "metadata": {},
   "outputs": [
    {
     "data": {
      "text/plain": [
       "0.13180142243859644"
      ]
     },
     "execution_count": 18,
     "metadata": {},
     "output_type": "execute_result"
    }
   ],
   "source": [
    "silhouette_dtw = metrics.silhouette_score(x, predictions_dtw)\n",
    "silhouette_dtw"
   ]
  },
  {
   "cell_type": "markdown",
   "metadata": {},
   "source": [
    "_dtw_"
   ]
  },
  {
   "cell_type": "markdown",
   "metadata": {},
   "source": [
    "#### Using builtin sklearn - euclidean distance metric"
   ]
  },
  {
   "cell_type": "code",
   "execution_count": 19,
   "metadata": {},
   "outputs": [
    {
     "data": {
      "text/plain": [
       "0.20083985829691794"
      ]
     },
     "execution_count": 19,
     "metadata": {},
     "output_type": "execute_result"
    }
   ],
   "source": [
    "silhouette_euclid = metrics.silhouette_score(x, predictions_euclid)\n",
    "silhouette_euclid"
   ]
  }
 ],
 "metadata": {
  "kernelspec": {
   "display_name": "Python 3",
   "language": "python",
   "name": "python3"
  },
  "language_info": {
   "codemirror_mode": {
    "name": "ipython",
    "version": 3
   },
   "file_extension": ".py",
   "mimetype": "text/x-python",
   "name": "python",
   "nbconvert_exporter": "python",
   "pygments_lexer": "ipython3",
   "version": "3.7.1"
  }
 },
 "nbformat": 4,
 "nbformat_minor": 2
}
