{
 "cells": [
  {
   "cell_type": "markdown",
   "metadata": {},
   "source": [
    "# Clustering of hosts using K-means algorithm \n",
    "\n",
    "We will use k-means to cluster hosts from **2** subnets and evaluate clustering performamce.  "
   ]
  },
  {
   "cell_type": "markdown",
   "metadata": {},
   "source": [
    "### Imports"
   ]
  },
  {
   "cell_type": "code",
   "execution_count": 1,
   "metadata": {},
   "outputs": [],
   "source": [
    "import pandas as pd\n",
    "import numpy as np"
   ]
  },
  {
   "cell_type": "markdown",
   "metadata": {},
   "source": [
    "### Import dataset\n",
    "\n",
    "We have a preprocessed pandas dataframe consisting of anonymized host behaviour. Each host belongs to a certain **unit** within the subnet."
   ]
  },
  {
   "cell_type": "code",
   "execution_count": 2,
   "metadata": {},
   "outputs": [
    {
     "data": {
      "text/html": [
       "<div>\n",
       "<style scoped>\n",
       "    .dataframe tbody tr th:only-of-type {\n",
       "        vertical-align: middle;\n",
       "    }\n",
       "\n",
       "    .dataframe tbody tr th {\n",
       "        vertical-align: top;\n",
       "    }\n",
       "\n",
       "    .dataframe thead tr th {\n",
       "        text-align: left;\n",
       "    }\n",
       "</style>\n",
       "<table border=\"1\" class=\"dataframe\">\n",
       "  <thead>\n",
       "    <tr>\n",
       "      <th></th>\n",
       "      <th colspan=\"10\" halign=\"left\">mean</th>\n",
       "      <th>...</th>\n",
       "      <th colspan=\"5\" halign=\"left\">max</th>\n",
       "      <th colspan=\"4\" halign=\"left\">Label</th>\n",
       "      <th>Unit_encoding</th>\n",
       "    </tr>\n",
       "    <tr>\n",
       "      <th></th>\n",
       "      <th colspan=\"10\" halign=\"left\">FlowDuration</th>\n",
       "      <th>...</th>\n",
       "      <th colspan=\"5\" halign=\"left\">Bytes</th>\n",
       "      <th colspan=\"4\" halign=\"left\">Label</th>\n",
       "      <th></th>\n",
       "    </tr>\n",
       "    <tr>\n",
       "      <th></th>\n",
       "      <th>00</th>\n",
       "      <th>01</th>\n",
       "      <th>02</th>\n",
       "      <th>03</th>\n",
       "      <th>04</th>\n",
       "      <th>05</th>\n",
       "      <th>06</th>\n",
       "      <th>07</th>\n",
       "      <th>08</th>\n",
       "      <th>09</th>\n",
       "      <th>...</th>\n",
       "      <th>19</th>\n",
       "      <th>20</th>\n",
       "      <th>21</th>\n",
       "      <th>22</th>\n",
       "      <th>23</th>\n",
       "      <th>anon_net_range</th>\n",
       "      <th>addr_range</th>\n",
       "      <th>unit</th>\n",
       "      <th>subunit</th>\n",
       "      <th></th>\n",
       "    </tr>\n",
       "  </thead>\n",
       "  <tbody>\n",
       "    <tr>\n",
       "      <th>0</th>\n",
       "      <td>-0.007622</td>\n",
       "      <td>-0.006103</td>\n",
       "      <td>-0.009019</td>\n",
       "      <td>-0.006422</td>\n",
       "      <td>-0.012099</td>\n",
       "      <td>-0.007141</td>\n",
       "      <td>-0.007069</td>\n",
       "      <td>-0.012616</td>\n",
       "      <td>-0.009572</td>\n",
       "      <td>-0.011851</td>\n",
       "      <td>...</td>\n",
       "      <td>-0.015290</td>\n",
       "      <td>-0.014971</td>\n",
       "      <td>-0.016604</td>\n",
       "      <td>-0.016766</td>\n",
       "      <td>-0.016320</td>\n",
       "      <td>28</td>\n",
       "      <td>ef160f55b36bd48b37f22bc9c48819b1a0259c2dd27ccc...</td>\n",
       "      <td>CEITEC</td>\n",
       "      <td>frontendy diskovych poli a aplikacni servery ...</td>\n",
       "      <td>0</td>\n",
       "    </tr>\n",
       "    <tr>\n",
       "      <th>1</th>\n",
       "      <td>-0.009677</td>\n",
       "      <td>-0.011074</td>\n",
       "      <td>-0.010790</td>\n",
       "      <td>-0.008082</td>\n",
       "      <td>-0.013610</td>\n",
       "      <td>-0.009863</td>\n",
       "      <td>-0.009743</td>\n",
       "      <td>-0.014340</td>\n",
       "      <td>-0.011510</td>\n",
       "      <td>-0.014119</td>\n",
       "      <td>...</td>\n",
       "      <td>-0.015291</td>\n",
       "      <td>-0.014971</td>\n",
       "      <td>-0.016604</td>\n",
       "      <td>-0.016766</td>\n",
       "      <td>-0.016320</td>\n",
       "      <td>28</td>\n",
       "      <td>93b8f5a052053b0db4731b671f78b8c5e5817d38d51ba9...</td>\n",
       "      <td>CEITEC</td>\n",
       "      <td>frontendy diskovych poli a aplikacni servery ...</td>\n",
       "      <td>0</td>\n",
       "    </tr>\n",
       "    <tr>\n",
       "      <th>2</th>\n",
       "      <td>-0.009484</td>\n",
       "      <td>-0.010427</td>\n",
       "      <td>-0.010896</td>\n",
       "      <td>-0.008080</td>\n",
       "      <td>-0.013609</td>\n",
       "      <td>-0.009918</td>\n",
       "      <td>-0.009838</td>\n",
       "      <td>-0.014320</td>\n",
       "      <td>-0.011545</td>\n",
       "      <td>-0.013922</td>\n",
       "      <td>...</td>\n",
       "      <td>-0.015291</td>\n",
       "      <td>-0.014971</td>\n",
       "      <td>-0.016604</td>\n",
       "      <td>-0.016766</td>\n",
       "      <td>-0.016320</td>\n",
       "      <td>28</td>\n",
       "      <td>ac600c8985d0f198d532737ea9d58db00905c6c6bebb6b...</td>\n",
       "      <td>CEITEC</td>\n",
       "      <td>frontendy diskovych poli a aplikacni servery ...</td>\n",
       "      <td>0</td>\n",
       "    </tr>\n",
       "    <tr>\n",
       "      <th>3</th>\n",
       "      <td>-0.009932</td>\n",
       "      <td>-0.011126</td>\n",
       "      <td>-0.010762</td>\n",
       "      <td>-0.007984</td>\n",
       "      <td>-0.013595</td>\n",
       "      <td>-0.009918</td>\n",
       "      <td>-0.009470</td>\n",
       "      <td>-0.014341</td>\n",
       "      <td>-0.011979</td>\n",
       "      <td>-0.014230</td>\n",
       "      <td>...</td>\n",
       "      <td>-0.015291</td>\n",
       "      <td>-0.014971</td>\n",
       "      <td>-0.016604</td>\n",
       "      <td>-0.016766</td>\n",
       "      <td>-0.016320</td>\n",
       "      <td>28</td>\n",
       "      <td>48bab257d30b1c6eaa225275fe60fc5e1dfe61afe54ace...</td>\n",
       "      <td>CEITEC</td>\n",
       "      <td>frontendy diskovych poli a aplikacni servery ...</td>\n",
       "      <td>0</td>\n",
       "    </tr>\n",
       "    <tr>\n",
       "      <th>4</th>\n",
       "      <td>-0.007484</td>\n",
       "      <td>-0.005790</td>\n",
       "      <td>-0.008930</td>\n",
       "      <td>-0.006322</td>\n",
       "      <td>-0.012029</td>\n",
       "      <td>-0.007007</td>\n",
       "      <td>-0.006911</td>\n",
       "      <td>-0.012538</td>\n",
       "      <td>-0.009441</td>\n",
       "      <td>-0.011706</td>\n",
       "      <td>...</td>\n",
       "      <td>-0.015274</td>\n",
       "      <td>-0.014955</td>\n",
       "      <td>-0.016588</td>\n",
       "      <td>-0.016752</td>\n",
       "      <td>-0.016307</td>\n",
       "      <td>26</td>\n",
       "      <td>1cd00c373ace404b829e822bf076631b564bf2bc70db82...</td>\n",
       "      <td>CEITEC</td>\n",
       "      <td>CRS</td>\n",
       "      <td>0</td>\n",
       "    </tr>\n",
       "  </tbody>\n",
       "</table>\n",
       "<p>5 rows × 653 columns</p>\n",
       "</div>"
      ],
      "text/plain": [
       "          mean                                                              \\\n",
       "  FlowDuration                                                               \n",
       "            00        01        02        03        04        05        06   \n",
       "0    -0.007622 -0.006103 -0.009019 -0.006422 -0.012099 -0.007141 -0.007069   \n",
       "1    -0.009677 -0.011074 -0.010790 -0.008082 -0.013610 -0.009863 -0.009743   \n",
       "2    -0.009484 -0.010427 -0.010896 -0.008080 -0.013609 -0.009918 -0.009838   \n",
       "3    -0.009932 -0.011126 -0.010762 -0.007984 -0.013595 -0.009918 -0.009470   \n",
       "4    -0.007484 -0.005790 -0.008930 -0.006322 -0.012029 -0.007007 -0.006911   \n",
       "\n",
       "                                     ...            max                      \\\n",
       "                                     ...          Bytes                       \n",
       "         07        08        09      ...             19        20        21   \n",
       "0 -0.012616 -0.009572 -0.011851      ...      -0.015290 -0.014971 -0.016604   \n",
       "1 -0.014340 -0.011510 -0.014119      ...      -0.015291 -0.014971 -0.016604   \n",
       "2 -0.014320 -0.011545 -0.013922      ...      -0.015291 -0.014971 -0.016604   \n",
       "3 -0.014341 -0.011979 -0.014230      ...      -0.015291 -0.014971 -0.016604   \n",
       "4 -0.012538 -0.009441 -0.011706      ...      -0.015274 -0.014955 -0.016588   \n",
       "\n",
       "                               Label  \\\n",
       "                               Label   \n",
       "         22        23 anon_net_range   \n",
       "0 -0.016766 -0.016320             28   \n",
       "1 -0.016766 -0.016320             28   \n",
       "2 -0.016766 -0.016320             28   \n",
       "3 -0.016766 -0.016320             28   \n",
       "4 -0.016752 -0.016307             26   \n",
       "\n",
       "                                                              \\\n",
       "                                                               \n",
       "                                          addr_range    unit   \n",
       "0  ef160f55b36bd48b37f22bc9c48819b1a0259c2dd27ccc...  CEITEC   \n",
       "1  93b8f5a052053b0db4731b671f78b8c5e5817d38d51ba9...  CEITEC   \n",
       "2  ac600c8985d0f198d532737ea9d58db00905c6c6bebb6b...  CEITEC   \n",
       "3  48bab257d30b1c6eaa225275fe60fc5e1dfe61afe54ace...  CEITEC   \n",
       "4  1cd00c373ace404b829e822bf076631b564bf2bc70db82...  CEITEC   \n",
       "\n",
       "                                                     Unit_encoding  \n",
       "                                                                    \n",
       "                                             subunit                \n",
       "0   frontendy diskovych poli a aplikacni servery ...             0  \n",
       "1   frontendy diskovych poli a aplikacni servery ...             0  \n",
       "2   frontendy diskovych poli a aplikacni servery ...             0  \n",
       "3   frontendy diskovych poli a aplikacni servery ...             0  \n",
       "4                                                CRS             0  \n",
       "\n",
       "[5 rows x 653 columns]"
      ]
     },
     "execution_count": 2,
     "metadata": {},
     "output_type": "execute_result"
    }
   ],
   "source": [
    "df = pd.read_pickle('balanced_preprocessed_dataset.pkl')\n",
    "df.head()"
   ]
  },
  {
   "cell_type": "code",
   "execution_count": 3,
   "metadata": {},
   "outputs": [
    {
     "data": {
      "text/plain": [
       "array(['CEITEC', 'CESNET', 'CTT', 'ESF', 'FF', 'FI', 'FIeduroamnaFI',\n",
       "       'FNBrno', 'FSS', 'FSpS', 'IBA', 'LF', 'PedF', 'PravF', 'PrirF',\n",
       "       'RMU', 'SKM', 'Teiresias', 'Telc', 'UKB', 'UVT', 'VPN'],\n",
       "      dtype=object)"
      ]
     },
     "execution_count": 3,
     "metadata": {},
     "output_type": "execute_result"
    }
   ],
   "source": [
    "df['Label', 'Label', 'unit'].unique()"
   ]
  },
  {
   "cell_type": "code",
   "execution_count": 4,
   "metadata": {},
   "outputs": [
    {
     "data": {
      "text/plain": [
       "UVT              3500\n",
       "SKM              3246\n",
       "PrirF            2599\n",
       "CEITEC           2223\n",
       "LF               1475\n",
       "FI               1289\n",
       "FF               1089\n",
       "FIeduroamnaFI    1020\n",
       "FSS               802\n",
       "PedF              740\n",
       "UKB               649\n",
       "ESF               554\n",
       "PravF             536\n",
       "RMU               429\n",
       "FSpS              410\n",
       "Teiresias         130\n",
       "Telc               99\n",
       "IBA                96\n",
       "VPN                83\n",
       "CTT                19\n",
       "FNBrno              7\n",
       "CESNET              3\n",
       "Name: (Label, Label, unit), dtype: int64"
      ]
     },
     "execution_count": 4,
     "metadata": {},
     "output_type": "execute_result"
    }
   ],
   "source": [
    "df['Label', 'Label', 'unit'].value_counts()"
   ]
  },
  {
   "cell_type": "markdown",
   "metadata": {},
   "source": [
    "### More data preprocessing"
   ]
  },
  {
   "cell_type": "markdown",
   "metadata": {},
   "source": [
    "We are only going to use hosts within group"
   ]
  },
  {
   "cell_type": "code",
   "execution_count": 5,
   "metadata": {},
   "outputs": [],
   "source": [
    "groups = ['UVT', 'SKM']"
   ]
  },
  {
   "cell_type": "code",
   "execution_count": 6,
   "metadata": {},
   "outputs": [
    {
     "name": "stdout",
     "output_type": "stream",
     "text": [
      "UVT    3500\n",
      "SKM    3246\n",
      "Name: (Label, Label, unit), dtype: int64\n"
     ]
    },
    {
     "data": {
      "text/html": [
       "<div>\n",
       "<style scoped>\n",
       "    .dataframe tbody tr th:only-of-type {\n",
       "        vertical-align: middle;\n",
       "    }\n",
       "\n",
       "    .dataframe tbody tr th {\n",
       "        vertical-align: top;\n",
       "    }\n",
       "\n",
       "    .dataframe thead tr th {\n",
       "        text-align: left;\n",
       "    }\n",
       "</style>\n",
       "<table border=\"1\" class=\"dataframe\">\n",
       "  <thead>\n",
       "    <tr>\n",
       "      <th></th>\n",
       "      <th colspan=\"10\" halign=\"left\">mean</th>\n",
       "      <th>...</th>\n",
       "      <th colspan=\"5\" halign=\"left\">max</th>\n",
       "      <th colspan=\"4\" halign=\"left\">Label</th>\n",
       "      <th>Unit_encoding</th>\n",
       "    </tr>\n",
       "    <tr>\n",
       "      <th></th>\n",
       "      <th colspan=\"10\" halign=\"left\">FlowDuration</th>\n",
       "      <th>...</th>\n",
       "      <th colspan=\"5\" halign=\"left\">Bytes</th>\n",
       "      <th colspan=\"4\" halign=\"left\">Label</th>\n",
       "      <th></th>\n",
       "    </tr>\n",
       "    <tr>\n",
       "      <th></th>\n",
       "      <th>00</th>\n",
       "      <th>01</th>\n",
       "      <th>02</th>\n",
       "      <th>03</th>\n",
       "      <th>04</th>\n",
       "      <th>05</th>\n",
       "      <th>06</th>\n",
       "      <th>07</th>\n",
       "      <th>08</th>\n",
       "      <th>09</th>\n",
       "      <th>...</th>\n",
       "      <th>19</th>\n",
       "      <th>20</th>\n",
       "      <th>21</th>\n",
       "      <th>22</th>\n",
       "      <th>23</th>\n",
       "      <th>anon_net_range</th>\n",
       "      <th>addr_range</th>\n",
       "      <th>unit</th>\n",
       "      <th>subunit</th>\n",
       "      <th></th>\n",
       "    </tr>\n",
       "  </thead>\n",
       "  <tbody>\n",
       "    <tr>\n",
       "      <th>13291</th>\n",
       "      <td>-0.007496</td>\n",
       "      <td>-0.005742</td>\n",
       "      <td>-0.008903</td>\n",
       "      <td>-0.006316</td>\n",
       "      <td>-0.012004</td>\n",
       "      <td>-0.006973</td>\n",
       "      <td>-0.006919</td>\n",
       "      <td>-0.012518</td>\n",
       "      <td>-0.009461</td>\n",
       "      <td>-0.011721</td>\n",
       "      <td>...</td>\n",
       "      <td>-0.015274</td>\n",
       "      <td>-0.014957</td>\n",
       "      <td>-0.016592</td>\n",
       "      <td>-0.016750</td>\n",
       "      <td>-0.016306</td>\n",
       "      <td>24</td>\n",
       "      <td>a8ce8c3977ebd10bba6849d15645105eed4d5e78006cfb...</td>\n",
       "      <td>SKM</td>\n",
       "      <td>centrum Slapanice</td>\n",
       "      <td>16</td>\n",
       "    </tr>\n",
       "    <tr>\n",
       "      <th>13292</th>\n",
       "      <td>-0.008895</td>\n",
       "      <td>-0.008315</td>\n",
       "      <td>-0.010002</td>\n",
       "      <td>-0.006953</td>\n",
       "      <td>-0.012740</td>\n",
       "      <td>-0.008184</td>\n",
       "      <td>-0.008276</td>\n",
       "      <td>-0.013226</td>\n",
       "      <td>-0.010829</td>\n",
       "      <td>-0.012773</td>\n",
       "      <td>...</td>\n",
       "      <td>-0.015291</td>\n",
       "      <td>-0.014971</td>\n",
       "      <td>-0.016604</td>\n",
       "      <td>-0.016766</td>\n",
       "      <td>-0.016320</td>\n",
       "      <td>24</td>\n",
       "      <td>5a5fa9cbb0325b8b154b37dfee873af049c3f7fbad8141...</td>\n",
       "      <td>SKM</td>\n",
       "      <td>centrum Slapanice</td>\n",
       "      <td>16</td>\n",
       "    </tr>\n",
       "    <tr>\n",
       "      <th>13293</th>\n",
       "      <td>-0.007623</td>\n",
       "      <td>-0.006104</td>\n",
       "      <td>-0.009037</td>\n",
       "      <td>-0.006413</td>\n",
       "      <td>-0.012109</td>\n",
       "      <td>-0.007140</td>\n",
       "      <td>-0.007082</td>\n",
       "      <td>-0.012616</td>\n",
       "      <td>-0.009489</td>\n",
       "      <td>-0.011722</td>\n",
       "      <td>...</td>\n",
       "      <td>-0.015289</td>\n",
       "      <td>-0.014950</td>\n",
       "      <td>-0.016603</td>\n",
       "      <td>-0.016765</td>\n",
       "      <td>-0.016319</td>\n",
       "      <td>24</td>\n",
       "      <td>0eb624c7b418aec4d9779fe9a69f171a3c452e8a163e96...</td>\n",
       "      <td>SKM</td>\n",
       "      <td>centrum Slapanice</td>\n",
       "      <td>16</td>\n",
       "    </tr>\n",
       "    <tr>\n",
       "      <th>13294</th>\n",
       "      <td>-0.007596</td>\n",
       "      <td>-0.006030</td>\n",
       "      <td>-0.009027</td>\n",
       "      <td>-0.006398</td>\n",
       "      <td>-0.012092</td>\n",
       "      <td>-0.007123</td>\n",
       "      <td>-0.007039</td>\n",
       "      <td>-0.012571</td>\n",
       "      <td>-0.009517</td>\n",
       "      <td>-0.011771</td>\n",
       "      <td>...</td>\n",
       "      <td>-0.014638</td>\n",
       "      <td>-0.014446</td>\n",
       "      <td>-0.016041</td>\n",
       "      <td>-0.016122</td>\n",
       "      <td>-0.016018</td>\n",
       "      <td>24</td>\n",
       "      <td>8d2375a96a2a821d927c290ed665767957ffbbdc55e547...</td>\n",
       "      <td>SKM</td>\n",
       "      <td>centrum Slapanice</td>\n",
       "      <td>16</td>\n",
       "    </tr>\n",
       "    <tr>\n",
       "      <th>13295</th>\n",
       "      <td>-0.008925</td>\n",
       "      <td>-0.009641</td>\n",
       "      <td>-0.010201</td>\n",
       "      <td>-0.007432</td>\n",
       "      <td>-0.012726</td>\n",
       "      <td>-0.008296</td>\n",
       "      <td>-0.008540</td>\n",
       "      <td>-0.013556</td>\n",
       "      <td>-0.010859</td>\n",
       "      <td>-0.013467</td>\n",
       "      <td>...</td>\n",
       "      <td>-0.015291</td>\n",
       "      <td>-0.014971</td>\n",
       "      <td>-0.016604</td>\n",
       "      <td>-0.016766</td>\n",
       "      <td>-0.016320</td>\n",
       "      <td>24</td>\n",
       "      <td>ceab45b2cd2a4b0f2af9c73236e4fe98f1bcd1ca8b3bff...</td>\n",
       "      <td>SKM</td>\n",
       "      <td>centrum Slapanice</td>\n",
       "      <td>16</td>\n",
       "    </tr>\n",
       "  </tbody>\n",
       "</table>\n",
       "<p>5 rows × 653 columns</p>\n",
       "</div>"
      ],
      "text/plain": [
       "              mean                                                    \\\n",
       "      FlowDuration                                                     \n",
       "                00        01        02        03        04        05   \n",
       "13291    -0.007496 -0.005742 -0.008903 -0.006316 -0.012004 -0.006973   \n",
       "13292    -0.008895 -0.008315 -0.010002 -0.006953 -0.012740 -0.008184   \n",
       "13293    -0.007623 -0.006104 -0.009037 -0.006413 -0.012109 -0.007140   \n",
       "13294    -0.007596 -0.006030 -0.009027 -0.006398 -0.012092 -0.007123   \n",
       "13295    -0.008925 -0.009641 -0.010201 -0.007432 -0.012726 -0.008296   \n",
       "\n",
       "                                                   ...            max  \\\n",
       "                                                   ...          Bytes   \n",
       "             06        07        08        09      ...             19   \n",
       "13291 -0.006919 -0.012518 -0.009461 -0.011721      ...      -0.015274   \n",
       "13292 -0.008276 -0.013226 -0.010829 -0.012773      ...      -0.015291   \n",
       "13293 -0.007082 -0.012616 -0.009489 -0.011722      ...      -0.015289   \n",
       "13294 -0.007039 -0.012571 -0.009517 -0.011771      ...      -0.014638   \n",
       "13295 -0.008540 -0.013556 -0.010859 -0.013467      ...      -0.015291   \n",
       "\n",
       "                                                       Label  \\\n",
       "                                                       Label   \n",
       "             20        21        22        23 anon_net_range   \n",
       "13291 -0.014957 -0.016592 -0.016750 -0.016306             24   \n",
       "13292 -0.014971 -0.016604 -0.016766 -0.016320             24   \n",
       "13293 -0.014950 -0.016603 -0.016765 -0.016319             24   \n",
       "13294 -0.014446 -0.016041 -0.016122 -0.016018             24   \n",
       "13295 -0.014971 -0.016604 -0.016766 -0.016320             24   \n",
       "\n",
       "                                                               \\\n",
       "                                                                \n",
       "                                              addr_range unit   \n",
       "13291  a8ce8c3977ebd10bba6849d15645105eed4d5e78006cfb...  SKM   \n",
       "13292  5a5fa9cbb0325b8b154b37dfee873af049c3f7fbad8141...  SKM   \n",
       "13293  0eb624c7b418aec4d9779fe9a69f171a3c452e8a163e96...  SKM   \n",
       "13294  8d2375a96a2a821d927c290ed665767957ffbbdc55e547...  SKM   \n",
       "13295  ceab45b2cd2a4b0f2af9c73236e4fe98f1bcd1ca8b3bff...  SKM   \n",
       "\n",
       "                          Unit_encoding  \n",
       "                                         \n",
       "                  subunit                \n",
       "13291   centrum Slapanice            16  \n",
       "13292   centrum Slapanice            16  \n",
       "13293   centrum Slapanice            16  \n",
       "13294   centrum Slapanice            16  \n",
       "13295   centrum Slapanice            16  \n",
       "\n",
       "[5 rows x 653 columns]"
      ]
     },
     "execution_count": 6,
     "metadata": {},
     "output_type": "execute_result"
    }
   ],
   "source": [
    "df = df[df['Label', 'Label', 'unit'].isin(groups)]\n",
    "print(df['Label', 'Label', 'unit'].value_counts())\n",
    "df.head()"
   ]
  },
  {
   "cell_type": "code",
   "execution_count": 7,
   "metadata": {},
   "outputs": [
    {
     "data": {
      "text/plain": [
       "array(['SKM', 'UVT'], dtype=object)"
      ]
     },
     "execution_count": 7,
     "metadata": {},
     "output_type": "execute_result"
    }
   ],
   "source": [
    "df['Label', 'Label', 'unit'].unique()"
   ]
  },
  {
   "cell_type": "markdown",
   "metadata": {},
   "source": [
    "#### Add numeric labels to groups "
   ]
  },
  {
   "cell_type": "code",
   "execution_count": 8,
   "metadata": {},
   "outputs": [],
   "source": [
    "from sklearn.preprocessing import LabelEncoder"
   ]
  },
  {
   "cell_type": "code",
   "execution_count": 9,
   "metadata": {},
   "outputs": [
    {
     "data": {
      "text/html": [
       "<div>\n",
       "<style scoped>\n",
       "    .dataframe tbody tr th:only-of-type {\n",
       "        vertical-align: middle;\n",
       "    }\n",
       "\n",
       "    .dataframe tbody tr th {\n",
       "        vertical-align: top;\n",
       "    }\n",
       "\n",
       "    .dataframe thead tr th {\n",
       "        text-align: left;\n",
       "    }\n",
       "</style>\n",
       "<table border=\"1\" class=\"dataframe\">\n",
       "  <thead>\n",
       "    <tr>\n",
       "      <th></th>\n",
       "      <th colspan=\"10\" halign=\"left\">mean</th>\n",
       "      <th>...</th>\n",
       "      <th colspan=\"5\" halign=\"left\">max</th>\n",
       "      <th colspan=\"4\" halign=\"left\">Label</th>\n",
       "      <th>Unit_encoding</th>\n",
       "    </tr>\n",
       "    <tr>\n",
       "      <th></th>\n",
       "      <th colspan=\"10\" halign=\"left\">FlowDuration</th>\n",
       "      <th>...</th>\n",
       "      <th colspan=\"5\" halign=\"left\">Bytes</th>\n",
       "      <th colspan=\"4\" halign=\"left\">Label</th>\n",
       "      <th></th>\n",
       "    </tr>\n",
       "    <tr>\n",
       "      <th></th>\n",
       "      <th>00</th>\n",
       "      <th>01</th>\n",
       "      <th>02</th>\n",
       "      <th>03</th>\n",
       "      <th>04</th>\n",
       "      <th>05</th>\n",
       "      <th>06</th>\n",
       "      <th>07</th>\n",
       "      <th>08</th>\n",
       "      <th>09</th>\n",
       "      <th>...</th>\n",
       "      <th>19</th>\n",
       "      <th>20</th>\n",
       "      <th>21</th>\n",
       "      <th>22</th>\n",
       "      <th>23</th>\n",
       "      <th>anon_net_range</th>\n",
       "      <th>addr_range</th>\n",
       "      <th>unit</th>\n",
       "      <th>subunit</th>\n",
       "      <th></th>\n",
       "    </tr>\n",
       "  </thead>\n",
       "  <tbody>\n",
       "    <tr>\n",
       "      <th>13291</th>\n",
       "      <td>-0.007496</td>\n",
       "      <td>-0.005742</td>\n",
       "      <td>-0.008903</td>\n",
       "      <td>-0.006316</td>\n",
       "      <td>-0.012004</td>\n",
       "      <td>-0.006973</td>\n",
       "      <td>-0.006919</td>\n",
       "      <td>-0.012518</td>\n",
       "      <td>-0.009461</td>\n",
       "      <td>-0.011721</td>\n",
       "      <td>...</td>\n",
       "      <td>-0.015274</td>\n",
       "      <td>-0.014957</td>\n",
       "      <td>-0.016592</td>\n",
       "      <td>-0.016750</td>\n",
       "      <td>-0.016306</td>\n",
       "      <td>24</td>\n",
       "      <td>a8ce8c3977ebd10bba6849d15645105eed4d5e78006cfb...</td>\n",
       "      <td>SKM</td>\n",
       "      <td>centrum Slapanice</td>\n",
       "      <td>0</td>\n",
       "    </tr>\n",
       "    <tr>\n",
       "      <th>13292</th>\n",
       "      <td>-0.008895</td>\n",
       "      <td>-0.008315</td>\n",
       "      <td>-0.010002</td>\n",
       "      <td>-0.006953</td>\n",
       "      <td>-0.012740</td>\n",
       "      <td>-0.008184</td>\n",
       "      <td>-0.008276</td>\n",
       "      <td>-0.013226</td>\n",
       "      <td>-0.010829</td>\n",
       "      <td>-0.012773</td>\n",
       "      <td>...</td>\n",
       "      <td>-0.015291</td>\n",
       "      <td>-0.014971</td>\n",
       "      <td>-0.016604</td>\n",
       "      <td>-0.016766</td>\n",
       "      <td>-0.016320</td>\n",
       "      <td>24</td>\n",
       "      <td>5a5fa9cbb0325b8b154b37dfee873af049c3f7fbad8141...</td>\n",
       "      <td>SKM</td>\n",
       "      <td>centrum Slapanice</td>\n",
       "      <td>0</td>\n",
       "    </tr>\n",
       "    <tr>\n",
       "      <th>13293</th>\n",
       "      <td>-0.007623</td>\n",
       "      <td>-0.006104</td>\n",
       "      <td>-0.009037</td>\n",
       "      <td>-0.006413</td>\n",
       "      <td>-0.012109</td>\n",
       "      <td>-0.007140</td>\n",
       "      <td>-0.007082</td>\n",
       "      <td>-0.012616</td>\n",
       "      <td>-0.009489</td>\n",
       "      <td>-0.011722</td>\n",
       "      <td>...</td>\n",
       "      <td>-0.015289</td>\n",
       "      <td>-0.014950</td>\n",
       "      <td>-0.016603</td>\n",
       "      <td>-0.016765</td>\n",
       "      <td>-0.016319</td>\n",
       "      <td>24</td>\n",
       "      <td>0eb624c7b418aec4d9779fe9a69f171a3c452e8a163e96...</td>\n",
       "      <td>SKM</td>\n",
       "      <td>centrum Slapanice</td>\n",
       "      <td>0</td>\n",
       "    </tr>\n",
       "    <tr>\n",
       "      <th>13294</th>\n",
       "      <td>-0.007596</td>\n",
       "      <td>-0.006030</td>\n",
       "      <td>-0.009027</td>\n",
       "      <td>-0.006398</td>\n",
       "      <td>-0.012092</td>\n",
       "      <td>-0.007123</td>\n",
       "      <td>-0.007039</td>\n",
       "      <td>-0.012571</td>\n",
       "      <td>-0.009517</td>\n",
       "      <td>-0.011771</td>\n",
       "      <td>...</td>\n",
       "      <td>-0.014638</td>\n",
       "      <td>-0.014446</td>\n",
       "      <td>-0.016041</td>\n",
       "      <td>-0.016122</td>\n",
       "      <td>-0.016018</td>\n",
       "      <td>24</td>\n",
       "      <td>8d2375a96a2a821d927c290ed665767957ffbbdc55e547...</td>\n",
       "      <td>SKM</td>\n",
       "      <td>centrum Slapanice</td>\n",
       "      <td>0</td>\n",
       "    </tr>\n",
       "    <tr>\n",
       "      <th>13295</th>\n",
       "      <td>-0.008925</td>\n",
       "      <td>-0.009641</td>\n",
       "      <td>-0.010201</td>\n",
       "      <td>-0.007432</td>\n",
       "      <td>-0.012726</td>\n",
       "      <td>-0.008296</td>\n",
       "      <td>-0.008540</td>\n",
       "      <td>-0.013556</td>\n",
       "      <td>-0.010859</td>\n",
       "      <td>-0.013467</td>\n",
       "      <td>...</td>\n",
       "      <td>-0.015291</td>\n",
       "      <td>-0.014971</td>\n",
       "      <td>-0.016604</td>\n",
       "      <td>-0.016766</td>\n",
       "      <td>-0.016320</td>\n",
       "      <td>24</td>\n",
       "      <td>ceab45b2cd2a4b0f2af9c73236e4fe98f1bcd1ca8b3bff...</td>\n",
       "      <td>SKM</td>\n",
       "      <td>centrum Slapanice</td>\n",
       "      <td>0</td>\n",
       "    </tr>\n",
       "  </tbody>\n",
       "</table>\n",
       "<p>5 rows × 653 columns</p>\n",
       "</div>"
      ],
      "text/plain": [
       "              mean                                                    \\\n",
       "      FlowDuration                                                     \n",
       "                00        01        02        03        04        05   \n",
       "13291    -0.007496 -0.005742 -0.008903 -0.006316 -0.012004 -0.006973   \n",
       "13292    -0.008895 -0.008315 -0.010002 -0.006953 -0.012740 -0.008184   \n",
       "13293    -0.007623 -0.006104 -0.009037 -0.006413 -0.012109 -0.007140   \n",
       "13294    -0.007596 -0.006030 -0.009027 -0.006398 -0.012092 -0.007123   \n",
       "13295    -0.008925 -0.009641 -0.010201 -0.007432 -0.012726 -0.008296   \n",
       "\n",
       "                                                   ...            max  \\\n",
       "                                                   ...          Bytes   \n",
       "             06        07        08        09      ...             19   \n",
       "13291 -0.006919 -0.012518 -0.009461 -0.011721      ...      -0.015274   \n",
       "13292 -0.008276 -0.013226 -0.010829 -0.012773      ...      -0.015291   \n",
       "13293 -0.007082 -0.012616 -0.009489 -0.011722      ...      -0.015289   \n",
       "13294 -0.007039 -0.012571 -0.009517 -0.011771      ...      -0.014638   \n",
       "13295 -0.008540 -0.013556 -0.010859 -0.013467      ...      -0.015291   \n",
       "\n",
       "                                                       Label  \\\n",
       "                                                       Label   \n",
       "             20        21        22        23 anon_net_range   \n",
       "13291 -0.014957 -0.016592 -0.016750 -0.016306             24   \n",
       "13292 -0.014971 -0.016604 -0.016766 -0.016320             24   \n",
       "13293 -0.014950 -0.016603 -0.016765 -0.016319             24   \n",
       "13294 -0.014446 -0.016041 -0.016122 -0.016018             24   \n",
       "13295 -0.014971 -0.016604 -0.016766 -0.016320             24   \n",
       "\n",
       "                                                               \\\n",
       "                                                                \n",
       "                                              addr_range unit   \n",
       "13291  a8ce8c3977ebd10bba6849d15645105eed4d5e78006cfb...  SKM   \n",
       "13292  5a5fa9cbb0325b8b154b37dfee873af049c3f7fbad8141...  SKM   \n",
       "13293  0eb624c7b418aec4d9779fe9a69f171a3c452e8a163e96...  SKM   \n",
       "13294  8d2375a96a2a821d927c290ed665767957ffbbdc55e547...  SKM   \n",
       "13295  ceab45b2cd2a4b0f2af9c73236e4fe98f1bcd1ca8b3bff...  SKM   \n",
       "\n",
       "                          Unit_encoding  \n",
       "                                         \n",
       "                  subunit                \n",
       "13291   centrum Slapanice             0  \n",
       "13292   centrum Slapanice             0  \n",
       "13293   centrum Slapanice             0  \n",
       "13294   centrum Slapanice             0  \n",
       "13295   centrum Slapanice             0  \n",
       "\n",
       "[5 rows x 653 columns]"
      ]
     },
     "execution_count": 9,
     "metadata": {},
     "output_type": "execute_result"
    }
   ],
   "source": [
    "df['Unit_encoding'] = LabelEncoder().fit_transform(df['Label', 'Label','unit'].astype(str))\n",
    "df.head()"
   ]
  },
  {
   "cell_type": "code",
   "execution_count": 10,
   "metadata": {},
   "outputs": [
    {
     "data": {
      "text/plain": [
       "1    3500\n",
       "0    3246\n",
       "Name: Unit_encoding, dtype: int64"
      ]
     },
     "execution_count": 10,
     "metadata": {},
     "output_type": "execute_result"
    }
   ],
   "source": [
    "df['Unit_encoding'].value_counts()"
   ]
  },
  {
   "cell_type": "markdown",
   "metadata": {},
   "source": [
    "Cleanup the index"
   ]
  },
  {
   "cell_type": "code",
   "execution_count": 11,
   "metadata": {},
   "outputs": [],
   "source": [
    "df = df.reset_index(drop=True)"
   ]
  },
  {
   "cell_type": "markdown",
   "metadata": {},
   "source": [
    "### Create train test split"
   ]
  },
  {
   "cell_type": "code",
   "execution_count": 12,
   "metadata": {},
   "outputs": [
    {
     "data": {
      "text/html": [
       "<div>\n",
       "<style scoped>\n",
       "    .dataframe tbody tr th:only-of-type {\n",
       "        vertical-align: middle;\n",
       "    }\n",
       "\n",
       "    .dataframe tbody tr th {\n",
       "        vertical-align: top;\n",
       "    }\n",
       "\n",
       "    .dataframe thead tr th {\n",
       "        text-align: left;\n",
       "    }\n",
       "</style>\n",
       "<table border=\"1\" class=\"dataframe\">\n",
       "  <thead>\n",
       "    <tr>\n",
       "      <th></th>\n",
       "      <th colspan=\"10\" halign=\"left\">mean</th>\n",
       "      <th>...</th>\n",
       "      <th colspan=\"10\" halign=\"left\">max</th>\n",
       "    </tr>\n",
       "    <tr>\n",
       "      <th></th>\n",
       "      <th colspan=\"10\" halign=\"left\">FlowDuration</th>\n",
       "      <th>...</th>\n",
       "      <th colspan=\"10\" halign=\"left\">Bytes</th>\n",
       "    </tr>\n",
       "    <tr>\n",
       "      <th></th>\n",
       "      <th>00</th>\n",
       "      <th>01</th>\n",
       "      <th>02</th>\n",
       "      <th>03</th>\n",
       "      <th>04</th>\n",
       "      <th>05</th>\n",
       "      <th>06</th>\n",
       "      <th>07</th>\n",
       "      <th>08</th>\n",
       "      <th>09</th>\n",
       "      <th>...</th>\n",
       "      <th>14</th>\n",
       "      <th>15</th>\n",
       "      <th>16</th>\n",
       "      <th>17</th>\n",
       "      <th>18</th>\n",
       "      <th>19</th>\n",
       "      <th>20</th>\n",
       "      <th>21</th>\n",
       "      <th>22</th>\n",
       "      <th>23</th>\n",
       "    </tr>\n",
       "  </thead>\n",
       "  <tbody>\n",
       "    <tr>\n",
       "      <th>0</th>\n",
       "      <td>-0.007496</td>\n",
       "      <td>-0.005742</td>\n",
       "      <td>-0.008903</td>\n",
       "      <td>-0.006316</td>\n",
       "      <td>-0.012004</td>\n",
       "      <td>-0.006973</td>\n",
       "      <td>-0.006919</td>\n",
       "      <td>-0.012518</td>\n",
       "      <td>-0.009461</td>\n",
       "      <td>-0.011721</td>\n",
       "      <td>...</td>\n",
       "      <td>-0.018114</td>\n",
       "      <td>-0.017923</td>\n",
       "      <td>-0.017517</td>\n",
       "      <td>-0.017624</td>\n",
       "      <td>-0.015950</td>\n",
       "      <td>-0.015274</td>\n",
       "      <td>-0.014957</td>\n",
       "      <td>-0.016592</td>\n",
       "      <td>-0.016750</td>\n",
       "      <td>-0.016306</td>\n",
       "    </tr>\n",
       "    <tr>\n",
       "      <th>1</th>\n",
       "      <td>-0.008895</td>\n",
       "      <td>-0.008315</td>\n",
       "      <td>-0.010002</td>\n",
       "      <td>-0.006953</td>\n",
       "      <td>-0.012740</td>\n",
       "      <td>-0.008184</td>\n",
       "      <td>-0.008276</td>\n",
       "      <td>-0.013226</td>\n",
       "      <td>-0.010829</td>\n",
       "      <td>-0.012773</td>\n",
       "      <td>...</td>\n",
       "      <td>-0.018135</td>\n",
       "      <td>-0.017942</td>\n",
       "      <td>-0.017531</td>\n",
       "      <td>-0.017641</td>\n",
       "      <td>-0.015971</td>\n",
       "      <td>-0.015291</td>\n",
       "      <td>-0.014971</td>\n",
       "      <td>-0.016604</td>\n",
       "      <td>-0.016766</td>\n",
       "      <td>-0.016320</td>\n",
       "    </tr>\n",
       "    <tr>\n",
       "      <th>2</th>\n",
       "      <td>-0.007623</td>\n",
       "      <td>-0.006104</td>\n",
       "      <td>-0.009037</td>\n",
       "      <td>-0.006413</td>\n",
       "      <td>-0.012109</td>\n",
       "      <td>-0.007140</td>\n",
       "      <td>-0.007082</td>\n",
       "      <td>-0.012616</td>\n",
       "      <td>-0.009489</td>\n",
       "      <td>-0.011722</td>\n",
       "      <td>...</td>\n",
       "      <td>-0.017943</td>\n",
       "      <td>-0.017941</td>\n",
       "      <td>-0.017526</td>\n",
       "      <td>-0.017639</td>\n",
       "      <td>-0.015971</td>\n",
       "      <td>-0.015289</td>\n",
       "      <td>-0.014950</td>\n",
       "      <td>-0.016603</td>\n",
       "      <td>-0.016765</td>\n",
       "      <td>-0.016319</td>\n",
       "    </tr>\n",
       "    <tr>\n",
       "      <th>3</th>\n",
       "      <td>-0.007596</td>\n",
       "      <td>-0.006030</td>\n",
       "      <td>-0.009027</td>\n",
       "      <td>-0.006398</td>\n",
       "      <td>-0.012092</td>\n",
       "      <td>-0.007123</td>\n",
       "      <td>-0.007039</td>\n",
       "      <td>-0.012571</td>\n",
       "      <td>-0.009517</td>\n",
       "      <td>-0.011771</td>\n",
       "      <td>...</td>\n",
       "      <td>-0.017672</td>\n",
       "      <td>-0.017679</td>\n",
       "      <td>-0.017014</td>\n",
       "      <td>-0.017126</td>\n",
       "      <td>-0.015627</td>\n",
       "      <td>-0.014638</td>\n",
       "      <td>-0.014446</td>\n",
       "      <td>-0.016041</td>\n",
       "      <td>-0.016122</td>\n",
       "      <td>-0.016018</td>\n",
       "    </tr>\n",
       "    <tr>\n",
       "      <th>4</th>\n",
       "      <td>-0.008925</td>\n",
       "      <td>-0.009641</td>\n",
       "      <td>-0.010201</td>\n",
       "      <td>-0.007432</td>\n",
       "      <td>-0.012726</td>\n",
       "      <td>-0.008296</td>\n",
       "      <td>-0.008540</td>\n",
       "      <td>-0.013556</td>\n",
       "      <td>-0.010859</td>\n",
       "      <td>-0.013467</td>\n",
       "      <td>...</td>\n",
       "      <td>-0.018135</td>\n",
       "      <td>-0.017942</td>\n",
       "      <td>-0.017531</td>\n",
       "      <td>-0.017641</td>\n",
       "      <td>-0.015971</td>\n",
       "      <td>-0.015291</td>\n",
       "      <td>-0.014971</td>\n",
       "      <td>-0.016604</td>\n",
       "      <td>-0.016766</td>\n",
       "      <td>-0.016320</td>\n",
       "    </tr>\n",
       "  </tbody>\n",
       "</table>\n",
       "<p>5 rows × 648 columns</p>\n",
       "</div>"
      ],
      "text/plain": [
       "          mean                                                              \\\n",
       "  FlowDuration                                                               \n",
       "            00        01        02        03        04        05        06   \n",
       "0    -0.007496 -0.005742 -0.008903 -0.006316 -0.012004 -0.006973 -0.006919   \n",
       "1    -0.008895 -0.008315 -0.010002 -0.006953 -0.012740 -0.008184 -0.008276   \n",
       "2    -0.007623 -0.006104 -0.009037 -0.006413 -0.012109 -0.007140 -0.007082   \n",
       "3    -0.007596 -0.006030 -0.009027 -0.006398 -0.012092 -0.007123 -0.007039   \n",
       "4    -0.008925 -0.009641 -0.010201 -0.007432 -0.012726 -0.008296 -0.008540   \n",
       "\n",
       "                                   ...          max                      \\\n",
       "                                   ...        Bytes                       \n",
       "         07        08        09    ...           14        15        16   \n",
       "0 -0.012518 -0.009461 -0.011721    ...    -0.018114 -0.017923 -0.017517   \n",
       "1 -0.013226 -0.010829 -0.012773    ...    -0.018135 -0.017942 -0.017531   \n",
       "2 -0.012616 -0.009489 -0.011722    ...    -0.017943 -0.017941 -0.017526   \n",
       "3 -0.012571 -0.009517 -0.011771    ...    -0.017672 -0.017679 -0.017014   \n",
       "4 -0.013556 -0.010859 -0.013467    ...    -0.018135 -0.017942 -0.017531   \n",
       "\n",
       "                                                                         \n",
       "                                                                         \n",
       "         17        18        19        20        21        22        23  \n",
       "0 -0.017624 -0.015950 -0.015274 -0.014957 -0.016592 -0.016750 -0.016306  \n",
       "1 -0.017641 -0.015971 -0.015291 -0.014971 -0.016604 -0.016766 -0.016320  \n",
       "2 -0.017639 -0.015971 -0.015289 -0.014950 -0.016603 -0.016765 -0.016319  \n",
       "3 -0.017126 -0.015627 -0.014638 -0.014446 -0.016041 -0.016122 -0.016018  \n",
       "4 -0.017641 -0.015971 -0.015291 -0.014971 -0.016604 -0.016766 -0.016320  \n",
       "\n",
       "[5 rows x 648 columns]"
      ]
     },
     "execution_count": 12,
     "metadata": {},
     "output_type": "execute_result"
    }
   ],
   "source": [
    "x = df.drop(['Label', 'Unit_encoding'], level=0, axis=1)\n",
    "y = df['Unit_encoding']\n",
    "x.head()"
   ]
  },
  {
   "cell_type": "markdown",
   "metadata": {},
   "source": [
    "## K-means implementation (LB_Keogh as a metric)"
   ]
  },
  {
   "cell_type": "code",
   "execution_count": 13,
   "metadata": {},
   "outputs": [],
   "source": [
    "from DTW import LB_Keogh\n",
    "from timeit import default_timer as timer"
   ]
  },
  {
   "cell_type": "code",
   "execution_count": 14,
   "metadata": {},
   "outputs": [],
   "source": [
    "def k_means(dataframe, print_progress=True, n_iter=10, k=5):\n",
    "    size = dataframe.shape[0]\n",
    "    series_length = dataframe.shape[1]\n",
    "    centroids = dataframe.sample(n=k).values # setting initial random cluster centroids\n",
    "    data = dataframe.values\n",
    "    r = 5 # LB_Keogh reach parameter\n",
    "    output = {}\n",
    "    output_array = [] # will hold final assignments of each host\n",
    "    for iternum in range(n_iter): # perform n_iter iterations\n",
    "        start = timer()\n",
    "        output = {}\n",
    "        for i in range(size): # for every host in our dataset\n",
    "            min_dist = np.inf\n",
    "            cluster = 0\n",
    "            for c in range(k): # find closest cluster\n",
    "                dist = LB_Keogh(data[i], centroids[c], series_length, r) # LB_Keogh used as a distance metric\n",
    "                if dist < min_dist:\n",
    "                    min_dist = dist\n",
    "                    cluster = c\n",
    "            if iternum == n_iter - 1: # fill output array at last iteration\n",
    "                output_array.append(cluster)\n",
    "            if cluster in output: # assign host cluster according to closes centroid \n",
    "                output[cluster] = np.append(output[cluster], i)\n",
    "            else:\n",
    "                output[cluster] = np.array([i])\n",
    "        for cluster in output: # calculate new clusters after each iteration\n",
    "            centroids[cluster] = np.mean(data[output[cluster]], axis=0)\n",
    "        if print_progress:\n",
    "            print(\"Finished iteration number \" + str(iternum + 1) + \", time: \" + str(timer() - start))\n",
    "    for cluster in output:\n",
    "        print('Cluster ' + str(cluster) + ', number of assigned hosts: ' + str(output[cluster].size))\n",
    "    return output_array"
   ]
  },
  {
   "cell_type": "markdown",
   "metadata": {},
   "source": [
    "## Apply K-means"
   ]
  },
  {
   "cell_type": "code",
   "execution_count": 15,
   "metadata": {
    "scrolled": true
   },
   "outputs": [
    {
     "name": "stdout",
     "output_type": "stream",
     "text": [
      "Finished iteration number 1, time: 0.7272722500001692\n",
      "Finished iteration number 2, time: 0.6915609470001982\n",
      "Finished iteration number 3, time: 0.6610153890001129\n",
      "Finished iteration number 4, time: 0.6589604199998575\n",
      "Finished iteration number 5, time: 0.773480162999931\n",
      "Finished iteration number 6, time: 0.6588509940002041\n",
      "Finished iteration number 7, time: 0.6529551499997979\n",
      "Finished iteration number 8, time: 0.652922297999794\n",
      "Finished iteration number 9, time: 0.6588369619998957\n",
      "Finished iteration number 10, time: 0.6500966810003774\n",
      "Finished iteration number 11, time: 0.6493085759998394\n",
      "Finished iteration number 12, time: 0.651694507999764\n",
      "Finished iteration number 13, time: 0.6521489960000508\n",
      "Finished iteration number 14, time: 0.6493100479997338\n",
      "Finished iteration number 15, time: 0.653083245000289\n",
      "Finished iteration number 16, time: 0.6529343829997742\n",
      "Finished iteration number 17, time: 0.6528396700000485\n",
      "Finished iteration number 18, time: 0.6551179939997382\n",
      "Finished iteration number 19, time: 0.6605417460000353\n",
      "Finished iteration number 20, time: 0.6461921279997114\n",
      "Finished iteration number 21, time: 0.6626822389998779\n",
      "Finished iteration number 22, time: 0.6569993370003431\n",
      "Finished iteration number 23, time: 0.6548666339999727\n",
      "Finished iteration number 24, time: 0.6694159019998551\n",
      "Finished iteration number 25, time: 0.6798679910002647\n",
      "Finished iteration number 26, time: 0.6803846220000196\n",
      "Finished iteration number 27, time: 0.6774048610000136\n",
      "Finished iteration number 28, time: 0.6744913560000896\n",
      "Finished iteration number 29, time: 0.6579270360002738\n",
      "Finished iteration number 30, time: 0.6530542159998731\n",
      "Cluster 1, number of assigned hosts: 3633\n",
      "Cluster 0, number of assigned hosts: 3113\n",
      "K-means finished in: 19.981460082000012 seconds\n"
     ]
    }
   ],
   "source": [
    "n_iters = 30\n",
    "num_clusts = len(groups)\n",
    "start = timer()\n",
    "predictions_dtw = k_means(x, True, n_iters, num_clusts)\n",
    "print(\"K-means finished in: \" + str(timer() - start) + \" seconds\")"
   ]
  },
  {
   "cell_type": "code",
   "execution_count": 16,
   "metadata": {},
   "outputs": [
    {
     "data": {
      "text/plain": [
       "UVT    3500\n",
       "SKM    3246\n",
       "Name: (Label, Label, unit), dtype: int64"
      ]
     },
     "execution_count": 16,
     "metadata": {},
     "output_type": "execute_result"
    }
   ],
   "source": [
    "df['Label', 'Label', 'unit'].value_counts()"
   ]
  },
  {
   "cell_type": "markdown",
   "metadata": {},
   "source": [
    "## Compare with sklearn implementation (metric is euclidean distance)"
   ]
  },
  {
   "cell_type": "code",
   "execution_count": 17,
   "metadata": {},
   "outputs": [],
   "source": [
    "from sklearn.cluster import KMeans\n",
    "\n",
    "kmeans = KMeans(n_clusters=num_clusts)"
   ]
  },
  {
   "cell_type": "code",
   "execution_count": 18,
   "metadata": {},
   "outputs": [
    {
     "data": {
      "text/plain": [
       "(array([0, 1], dtype=int32), array([6745,    1]))"
      ]
     },
     "execution_count": 18,
     "metadata": {},
     "output_type": "execute_result"
    }
   ],
   "source": [
    "predictions_euclid = kmeans.fit_predict(x)\n",
    "np.unique(predictions_euclid, return_counts=True)"
   ]
  },
  {
   "cell_type": "markdown",
   "metadata": {},
   "source": [
    "# Performance evaluation"
   ]
  },
  {
   "cell_type": "markdown",
   "metadata": {},
   "source": [
    "## Adjusted Rand index"
   ]
  },
  {
   "cell_type": "code",
   "execution_count": 19,
   "metadata": {},
   "outputs": [],
   "source": [
    "from sklearn import metrics"
   ]
  },
  {
   "cell_type": "markdown",
   "metadata": {},
   "source": [
    "#### With DTW using LB_Keogh as metric"
   ]
  },
  {
   "cell_type": "code",
   "execution_count": 20,
   "metadata": {},
   "outputs": [],
   "source": [
    "true_labels = y\n",
    "pred_labels = predictions_dtw"
   ]
  },
  {
   "cell_type": "code",
   "execution_count": 21,
   "metadata": {},
   "outputs": [
    {
     "data": {
      "text/plain": [
       "0.03107117943207805"
      ]
     },
     "execution_count": 21,
     "metadata": {},
     "output_type": "execute_result"
    }
   ],
   "source": [
    "dtw_score = metrics.adjusted_rand_score(true_labels, pred_labels) \n",
    "dtw_score"
   ]
  },
  {
   "cell_type": "markdown",
   "metadata": {},
   "source": [
    "#### Using builtin sklearn - euclidean distance metric"
   ]
  },
  {
   "cell_type": "code",
   "execution_count": 22,
   "metadata": {},
   "outputs": [],
   "source": [
    "pred_labels = predictions_euclid"
   ]
  },
  {
   "cell_type": "code",
   "execution_count": 23,
   "metadata": {},
   "outputs": [
    {
     "data": {
      "text/plain": [
       "-2.1515379149058398e-05"
      ]
     },
     "execution_count": 23,
     "metadata": {},
     "output_type": "execute_result"
    }
   ],
   "source": [
    "ed_score = metrics.adjusted_rand_score(true_labels, pred_labels) \n",
    "ed_score"
   ]
  },
  {
   "cell_type": "code",
   "execution_count": 24,
   "metadata": {},
   "outputs": [
    {
     "name": "stdout",
     "output_type": "stream",
     "text": [
      "Score difference: 0.03109269481122711\n"
     ]
    }
   ],
   "source": [
    "print(\"Score difference: \" + str(dtw_score - ed_score))"
   ]
  },
  {
   "cell_type": "markdown",
   "metadata": {},
   "source": [
    "## Silhoutte Coefficient "
   ]
  },
  {
   "cell_type": "markdown",
   "metadata": {},
   "source": [
    "#### With DTW using LB_Keogh as metric"
   ]
  },
  {
   "cell_type": "markdown",
   "metadata": {},
   "source": [
    "_euclidean_"
   ]
  },
  {
   "cell_type": "code",
   "execution_count": 25,
   "metadata": {},
   "outputs": [
    {
     "data": {
      "text/plain": [
       "0.11584237563942723"
      ]
     },
     "execution_count": 25,
     "metadata": {},
     "output_type": "execute_result"
    }
   ],
   "source": [
    "silhouette_dtw = metrics.silhouette_score(x, predictions_dtw)\n",
    "silhouette_dtw"
   ]
  },
  {
   "cell_type": "markdown",
   "metadata": {},
   "source": [
    "_dtw_"
   ]
  },
  {
   "cell_type": "markdown",
   "metadata": {},
   "source": [
    "#### Using builtin sklearn - euclidean distance metric"
   ]
  },
  {
   "cell_type": "code",
   "execution_count": 26,
   "metadata": {},
   "outputs": [
    {
     "data": {
      "text/plain": [
       "0.973805071353198"
      ]
     },
     "execution_count": 26,
     "metadata": {},
     "output_type": "execute_result"
    }
   ],
   "source": [
    "silhouette_euclid = metrics.silhouette_score(x, predictions_euclid)\n",
    "silhouette_euclid"
   ]
  }
 ],
 "metadata": {
  "kernelspec": {
   "display_name": "Python 3",
   "language": "python",
   "name": "python3"
  },
  "language_info": {
   "codemirror_mode": {
    "name": "ipython",
    "version": 3
   },
   "file_extension": ".py",
   "mimetype": "text/x-python",
   "name": "python",
   "nbconvert_exporter": "python",
   "pygments_lexer": "ipython3",
   "version": "3.7.1"
  }
 },
 "nbformat": 4,
 "nbformat_minor": 2
}
