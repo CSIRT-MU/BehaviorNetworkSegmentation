{
 "cells": [
  {
   "cell_type": "markdown",
   "metadata": {},
   "source": [
    "# DBSCAN clustering of hosts within subnet\n",
    "\n",
    "In this notebook we are going to apply DBSCAN clustering algorithms on all hosts within our dataset"
   ]
  },
  {
   "cell_type": "markdown",
   "metadata": {},
   "source": [
    "## Imports"
   ]
  },
  {
   "cell_type": "code",
   "execution_count": 1,
   "metadata": {},
   "outputs": [],
   "source": [
    "import numpy as np\n",
    "import seaborn as sns\n",
    "import pandas as pd\n",
    "import matplotlib.pyplot as plt\n",
    "%matplotlib inline"
   ]
  },
  {
   "cell_type": "markdown",
   "metadata": {},
   "source": [
    "## Import dataset\n",
    "\n",
    "We are using pickled preprocessed dataframe of host network behaviour "
   ]
  },
  {
   "cell_type": "code",
   "execution_count": 2,
   "metadata": {},
   "outputs": [
    {
     "data": {
      "text/html": [
       "<div>\n",
       "<style scoped>\n",
       "    .dataframe tbody tr th:only-of-type {\n",
       "        vertical-align: middle;\n",
       "    }\n",
       "\n",
       "    .dataframe tbody tr th {\n",
       "        vertical-align: top;\n",
       "    }\n",
       "\n",
       "    .dataframe thead tr th {\n",
       "        text-align: left;\n",
       "    }\n",
       "</style>\n",
       "<table border=\"1\" class=\"dataframe\">\n",
       "  <thead>\n",
       "    <tr>\n",
       "      <th></th>\n",
       "      <th colspan=\"10\" halign=\"left\">mean</th>\n",
       "      <th>...</th>\n",
       "      <th colspan=\"5\" halign=\"left\">max</th>\n",
       "      <th colspan=\"4\" halign=\"left\">Label</th>\n",
       "      <th>Unit_encoding</th>\n",
       "    </tr>\n",
       "    <tr>\n",
       "      <th></th>\n",
       "      <th colspan=\"10\" halign=\"left\">FlowDuration</th>\n",
       "      <th>...</th>\n",
       "      <th colspan=\"5\" halign=\"left\">Bytes</th>\n",
       "      <th colspan=\"4\" halign=\"left\">Label</th>\n",
       "      <th></th>\n",
       "    </tr>\n",
       "    <tr>\n",
       "      <th></th>\n",
       "      <th>00</th>\n",
       "      <th>01</th>\n",
       "      <th>02</th>\n",
       "      <th>03</th>\n",
       "      <th>04</th>\n",
       "      <th>05</th>\n",
       "      <th>06</th>\n",
       "      <th>07</th>\n",
       "      <th>08</th>\n",
       "      <th>09</th>\n",
       "      <th>...</th>\n",
       "      <th>19</th>\n",
       "      <th>20</th>\n",
       "      <th>21</th>\n",
       "      <th>22</th>\n",
       "      <th>23</th>\n",
       "      <th>anon_net_range</th>\n",
       "      <th>addr_range</th>\n",
       "      <th>unit</th>\n",
       "      <th>subunit</th>\n",
       "      <th></th>\n",
       "    </tr>\n",
       "  </thead>\n",
       "  <tbody>\n",
       "    <tr>\n",
       "      <th>0</th>\n",
       "      <td>-0.007622</td>\n",
       "      <td>-0.006103</td>\n",
       "      <td>-0.009019</td>\n",
       "      <td>-0.006422</td>\n",
       "      <td>-0.012099</td>\n",
       "      <td>-0.007141</td>\n",
       "      <td>-0.007069</td>\n",
       "      <td>-0.012616</td>\n",
       "      <td>-0.009572</td>\n",
       "      <td>-0.011851</td>\n",
       "      <td>...</td>\n",
       "      <td>-0.015290</td>\n",
       "      <td>-0.014971</td>\n",
       "      <td>-0.016604</td>\n",
       "      <td>-0.016766</td>\n",
       "      <td>-0.016320</td>\n",
       "      <td>28</td>\n",
       "      <td>ef160f55b36bd48b37f22bc9c48819b1a0259c2dd27ccc...</td>\n",
       "      <td>CEITEC</td>\n",
       "      <td>frontendy diskovych poli a aplikacni servery ...</td>\n",
       "      <td>0</td>\n",
       "    </tr>\n",
       "    <tr>\n",
       "      <th>1</th>\n",
       "      <td>-0.009677</td>\n",
       "      <td>-0.011074</td>\n",
       "      <td>-0.010790</td>\n",
       "      <td>-0.008082</td>\n",
       "      <td>-0.013610</td>\n",
       "      <td>-0.009863</td>\n",
       "      <td>-0.009743</td>\n",
       "      <td>-0.014340</td>\n",
       "      <td>-0.011510</td>\n",
       "      <td>-0.014119</td>\n",
       "      <td>...</td>\n",
       "      <td>-0.015291</td>\n",
       "      <td>-0.014971</td>\n",
       "      <td>-0.016604</td>\n",
       "      <td>-0.016766</td>\n",
       "      <td>-0.016320</td>\n",
       "      <td>28</td>\n",
       "      <td>93b8f5a052053b0db4731b671f78b8c5e5817d38d51ba9...</td>\n",
       "      <td>CEITEC</td>\n",
       "      <td>frontendy diskovych poli a aplikacni servery ...</td>\n",
       "      <td>0</td>\n",
       "    </tr>\n",
       "    <tr>\n",
       "      <th>2</th>\n",
       "      <td>-0.009484</td>\n",
       "      <td>-0.010427</td>\n",
       "      <td>-0.010896</td>\n",
       "      <td>-0.008080</td>\n",
       "      <td>-0.013609</td>\n",
       "      <td>-0.009918</td>\n",
       "      <td>-0.009838</td>\n",
       "      <td>-0.014320</td>\n",
       "      <td>-0.011545</td>\n",
       "      <td>-0.013922</td>\n",
       "      <td>...</td>\n",
       "      <td>-0.015291</td>\n",
       "      <td>-0.014971</td>\n",
       "      <td>-0.016604</td>\n",
       "      <td>-0.016766</td>\n",
       "      <td>-0.016320</td>\n",
       "      <td>28</td>\n",
       "      <td>ac600c8985d0f198d532737ea9d58db00905c6c6bebb6b...</td>\n",
       "      <td>CEITEC</td>\n",
       "      <td>frontendy diskovych poli a aplikacni servery ...</td>\n",
       "      <td>0</td>\n",
       "    </tr>\n",
       "    <tr>\n",
       "      <th>3</th>\n",
       "      <td>-0.009932</td>\n",
       "      <td>-0.011126</td>\n",
       "      <td>-0.010762</td>\n",
       "      <td>-0.007984</td>\n",
       "      <td>-0.013595</td>\n",
       "      <td>-0.009918</td>\n",
       "      <td>-0.009470</td>\n",
       "      <td>-0.014341</td>\n",
       "      <td>-0.011979</td>\n",
       "      <td>-0.014230</td>\n",
       "      <td>...</td>\n",
       "      <td>-0.015291</td>\n",
       "      <td>-0.014971</td>\n",
       "      <td>-0.016604</td>\n",
       "      <td>-0.016766</td>\n",
       "      <td>-0.016320</td>\n",
       "      <td>28</td>\n",
       "      <td>48bab257d30b1c6eaa225275fe60fc5e1dfe61afe54ace...</td>\n",
       "      <td>CEITEC</td>\n",
       "      <td>frontendy diskovych poli a aplikacni servery ...</td>\n",
       "      <td>0</td>\n",
       "    </tr>\n",
       "    <tr>\n",
       "      <th>4</th>\n",
       "      <td>-0.007484</td>\n",
       "      <td>-0.005790</td>\n",
       "      <td>-0.008930</td>\n",
       "      <td>-0.006322</td>\n",
       "      <td>-0.012029</td>\n",
       "      <td>-0.007007</td>\n",
       "      <td>-0.006911</td>\n",
       "      <td>-0.012538</td>\n",
       "      <td>-0.009441</td>\n",
       "      <td>-0.011706</td>\n",
       "      <td>...</td>\n",
       "      <td>-0.015274</td>\n",
       "      <td>-0.014955</td>\n",
       "      <td>-0.016588</td>\n",
       "      <td>-0.016752</td>\n",
       "      <td>-0.016307</td>\n",
       "      <td>26</td>\n",
       "      <td>1cd00c373ace404b829e822bf076631b564bf2bc70db82...</td>\n",
       "      <td>CEITEC</td>\n",
       "      <td>CRS</td>\n",
       "      <td>0</td>\n",
       "    </tr>\n",
       "  </tbody>\n",
       "</table>\n",
       "<p>5 rows × 653 columns</p>\n",
       "</div>"
      ],
      "text/plain": [
       "          mean                                                              \\\n",
       "  FlowDuration                                                               \n",
       "            00        01        02        03        04        05        06   \n",
       "0    -0.007622 -0.006103 -0.009019 -0.006422 -0.012099 -0.007141 -0.007069   \n",
       "1    -0.009677 -0.011074 -0.010790 -0.008082 -0.013610 -0.009863 -0.009743   \n",
       "2    -0.009484 -0.010427 -0.010896 -0.008080 -0.013609 -0.009918 -0.009838   \n",
       "3    -0.009932 -0.011126 -0.010762 -0.007984 -0.013595 -0.009918 -0.009470   \n",
       "4    -0.007484 -0.005790 -0.008930 -0.006322 -0.012029 -0.007007 -0.006911   \n",
       "\n",
       "                                     ...            max                      \\\n",
       "                                     ...          Bytes                       \n",
       "         07        08        09      ...             19        20        21   \n",
       "0 -0.012616 -0.009572 -0.011851      ...      -0.015290 -0.014971 -0.016604   \n",
       "1 -0.014340 -0.011510 -0.014119      ...      -0.015291 -0.014971 -0.016604   \n",
       "2 -0.014320 -0.011545 -0.013922      ...      -0.015291 -0.014971 -0.016604   \n",
       "3 -0.014341 -0.011979 -0.014230      ...      -0.015291 -0.014971 -0.016604   \n",
       "4 -0.012538 -0.009441 -0.011706      ...      -0.015274 -0.014955 -0.016588   \n",
       "\n",
       "                               Label  \\\n",
       "                               Label   \n",
       "         22        23 anon_net_range   \n",
       "0 -0.016766 -0.016320             28   \n",
       "1 -0.016766 -0.016320             28   \n",
       "2 -0.016766 -0.016320             28   \n",
       "3 -0.016766 -0.016320             28   \n",
       "4 -0.016752 -0.016307             26   \n",
       "\n",
       "                                                              \\\n",
       "                                                               \n",
       "                                          addr_range    unit   \n",
       "0  ef160f55b36bd48b37f22bc9c48819b1a0259c2dd27ccc...  CEITEC   \n",
       "1  93b8f5a052053b0db4731b671f78b8c5e5817d38d51ba9...  CEITEC   \n",
       "2  ac600c8985d0f198d532737ea9d58db00905c6c6bebb6b...  CEITEC   \n",
       "3  48bab257d30b1c6eaa225275fe60fc5e1dfe61afe54ace...  CEITEC   \n",
       "4  1cd00c373ace404b829e822bf076631b564bf2bc70db82...  CEITEC   \n",
       "\n",
       "                                                     Unit_encoding  \n",
       "                                                                    \n",
       "                                             subunit                \n",
       "0   frontendy diskovych poli a aplikacni servery ...             0  \n",
       "1   frontendy diskovych poli a aplikacni servery ...             0  \n",
       "2   frontendy diskovych poli a aplikacni servery ...             0  \n",
       "3   frontendy diskovych poli a aplikacni servery ...             0  \n",
       "4                                                CRS             0  \n",
       "\n",
       "[5 rows x 653 columns]"
      ]
     },
     "execution_count": 2,
     "metadata": {},
     "output_type": "execute_result"
    }
   ],
   "source": [
    "df = pd.read_pickle('balanced_preprocessed_dataset.pkl')\n",
    "df.head()"
   ]
  },
  {
   "cell_type": "code",
   "execution_count": 3,
   "metadata": {},
   "outputs": [
    {
     "data": {
      "text/plain": [
       "UVT              3500\n",
       "SKM              3246\n",
       "PrirF            2599\n",
       "CEITEC           2223\n",
       "LF               1475\n",
       "FI               1289\n",
       "FF               1089\n",
       "FIeduroamnaFI    1020\n",
       "FSS               802\n",
       "PedF              740\n",
       "UKB               649\n",
       "ESF               554\n",
       "PravF             536\n",
       "RMU               429\n",
       "FSpS              410\n",
       "Teiresias         130\n",
       "Telc               99\n",
       "IBA                96\n",
       "VPN                83\n",
       "CTT                19\n",
       "FNBrno              7\n",
       "CESNET              3\n",
       "Name: (Label, Label, unit), dtype: int64"
      ]
     },
     "execution_count": 3,
     "metadata": {},
     "output_type": "execute_result"
    }
   ],
   "source": [
    "df['Label', 'Label', 'unit'].value_counts()"
   ]
  },
  {
   "cell_type": "code",
   "execution_count": 4,
   "metadata": {},
   "outputs": [
    {
     "data": {
      "text/plain": [
       "(20998, 653)"
      ]
     },
     "execution_count": 4,
     "metadata": {},
     "output_type": "execute_result"
    }
   ],
   "source": [
    "df.shape"
   ]
  },
  {
   "cell_type": "markdown",
   "metadata": {},
   "source": [
    "## Dataset preprocessing\n"
   ]
  },
  {
   "cell_type": "markdown",
   "metadata": {},
   "source": [
    "## Train/Test Split"
   ]
  },
  {
   "cell_type": "code",
   "execution_count": 5,
   "metadata": {},
   "outputs": [
    {
     "data": {
      "text/html": [
       "<div>\n",
       "<style scoped>\n",
       "    .dataframe tbody tr th:only-of-type {\n",
       "        vertical-align: middle;\n",
       "    }\n",
       "\n",
       "    .dataframe tbody tr th {\n",
       "        vertical-align: top;\n",
       "    }\n",
       "\n",
       "    .dataframe thead tr th {\n",
       "        text-align: left;\n",
       "    }\n",
       "</style>\n",
       "<table border=\"1\" class=\"dataframe\">\n",
       "  <thead>\n",
       "    <tr>\n",
       "      <th></th>\n",
       "      <th colspan=\"10\" halign=\"left\">mean</th>\n",
       "      <th>...</th>\n",
       "      <th colspan=\"10\" halign=\"left\">min</th>\n",
       "    </tr>\n",
       "    <tr>\n",
       "      <th></th>\n",
       "      <th colspan=\"10\" halign=\"left\">FlowDuration</th>\n",
       "      <th>...</th>\n",
       "      <th colspan=\"10\" halign=\"left\">Bytes</th>\n",
       "    </tr>\n",
       "    <tr>\n",
       "      <th></th>\n",
       "      <th>00</th>\n",
       "      <th>01</th>\n",
       "      <th>02</th>\n",
       "      <th>03</th>\n",
       "      <th>04</th>\n",
       "      <th>05</th>\n",
       "      <th>06</th>\n",
       "      <th>07</th>\n",
       "      <th>08</th>\n",
       "      <th>09</th>\n",
       "      <th>...</th>\n",
       "      <th>14</th>\n",
       "      <th>15</th>\n",
       "      <th>16</th>\n",
       "      <th>17</th>\n",
       "      <th>18</th>\n",
       "      <th>19</th>\n",
       "      <th>20</th>\n",
       "      <th>21</th>\n",
       "      <th>22</th>\n",
       "      <th>23</th>\n",
       "    </tr>\n",
       "  </thead>\n",
       "  <tbody>\n",
       "    <tr>\n",
       "      <th>0</th>\n",
       "      <td>-0.007622</td>\n",
       "      <td>-0.006103</td>\n",
       "      <td>-0.009019</td>\n",
       "      <td>-0.006422</td>\n",
       "      <td>-0.012099</td>\n",
       "      <td>-0.007141</td>\n",
       "      <td>-0.007069</td>\n",
       "      <td>-0.012616</td>\n",
       "      <td>-0.009572</td>\n",
       "      <td>-0.011851</td>\n",
       "      <td>...</td>\n",
       "      <td>-0.020730</td>\n",
       "      <td>-0.018019</td>\n",
       "      <td>-0.018878</td>\n",
       "      <td>-0.021280</td>\n",
       "      <td>-0.015753</td>\n",
       "      <td>-0.015868</td>\n",
       "      <td>-0.017892</td>\n",
       "      <td>-0.022608</td>\n",
       "      <td>-0.020415</td>\n",
       "      <td>-0.022789</td>\n",
       "    </tr>\n",
       "    <tr>\n",
       "      <th>1</th>\n",
       "      <td>-0.009677</td>\n",
       "      <td>-0.011074</td>\n",
       "      <td>-0.010790</td>\n",
       "      <td>-0.008082</td>\n",
       "      <td>-0.013610</td>\n",
       "      <td>-0.009863</td>\n",
       "      <td>-0.009743</td>\n",
       "      <td>-0.014340</td>\n",
       "      <td>-0.011510</td>\n",
       "      <td>-0.014119</td>\n",
       "      <td>...</td>\n",
       "      <td>-0.020752</td>\n",
       "      <td>-0.018040</td>\n",
       "      <td>-0.018899</td>\n",
       "      <td>-0.021301</td>\n",
       "      <td>-0.015771</td>\n",
       "      <td>-0.015889</td>\n",
       "      <td>-0.017910</td>\n",
       "      <td>-0.022626</td>\n",
       "      <td>-0.020430</td>\n",
       "      <td>-0.022810</td>\n",
       "    </tr>\n",
       "    <tr>\n",
       "      <th>2</th>\n",
       "      <td>-0.009484</td>\n",
       "      <td>-0.010427</td>\n",
       "      <td>-0.010896</td>\n",
       "      <td>-0.008080</td>\n",
       "      <td>-0.013609</td>\n",
       "      <td>-0.009918</td>\n",
       "      <td>-0.009838</td>\n",
       "      <td>-0.014320</td>\n",
       "      <td>-0.011545</td>\n",
       "      <td>-0.013922</td>\n",
       "      <td>...</td>\n",
       "      <td>-0.020752</td>\n",
       "      <td>-0.018040</td>\n",
       "      <td>-0.018899</td>\n",
       "      <td>-0.021301</td>\n",
       "      <td>-0.015771</td>\n",
       "      <td>-0.015889</td>\n",
       "      <td>-0.017910</td>\n",
       "      <td>-0.022626</td>\n",
       "      <td>-0.020430</td>\n",
       "      <td>-0.022810</td>\n",
       "    </tr>\n",
       "    <tr>\n",
       "      <th>3</th>\n",
       "      <td>-0.009932</td>\n",
       "      <td>-0.011126</td>\n",
       "      <td>-0.010762</td>\n",
       "      <td>-0.007984</td>\n",
       "      <td>-0.013595</td>\n",
       "      <td>-0.009918</td>\n",
       "      <td>-0.009470</td>\n",
       "      <td>-0.014341</td>\n",
       "      <td>-0.011979</td>\n",
       "      <td>-0.014230</td>\n",
       "      <td>...</td>\n",
       "      <td>-0.020752</td>\n",
       "      <td>-0.018040</td>\n",
       "      <td>-0.018899</td>\n",
       "      <td>-0.021301</td>\n",
       "      <td>-0.015771</td>\n",
       "      <td>-0.015889</td>\n",
       "      <td>-0.017910</td>\n",
       "      <td>-0.022626</td>\n",
       "      <td>-0.020430</td>\n",
       "      <td>-0.022810</td>\n",
       "    </tr>\n",
       "    <tr>\n",
       "      <th>4</th>\n",
       "      <td>-0.007484</td>\n",
       "      <td>-0.005790</td>\n",
       "      <td>-0.008930</td>\n",
       "      <td>-0.006322</td>\n",
       "      <td>-0.012029</td>\n",
       "      <td>-0.007007</td>\n",
       "      <td>-0.006911</td>\n",
       "      <td>-0.012538</td>\n",
       "      <td>-0.009441</td>\n",
       "      <td>-0.011706</td>\n",
       "      <td>...</td>\n",
       "      <td>-0.020322</td>\n",
       "      <td>-0.017750</td>\n",
       "      <td>-0.018128</td>\n",
       "      <td>-0.021017</td>\n",
       "      <td>-0.015511</td>\n",
       "      <td>-0.015545</td>\n",
       "      <td>-0.017444</td>\n",
       "      <td>-0.022333</td>\n",
       "      <td>-0.020035</td>\n",
       "      <td>-0.022432</td>\n",
       "    </tr>\n",
       "  </tbody>\n",
       "</table>\n",
       "<p>5 rows × 648 columns</p>\n",
       "</div>"
      ],
      "text/plain": [
       "          mean                                                              \\\n",
       "  FlowDuration                                                               \n",
       "            00        01        02        03        04        05        06   \n",
       "0    -0.007622 -0.006103 -0.009019 -0.006422 -0.012099 -0.007141 -0.007069   \n",
       "1    -0.009677 -0.011074 -0.010790 -0.008082 -0.013610 -0.009863 -0.009743   \n",
       "2    -0.009484 -0.010427 -0.010896 -0.008080 -0.013609 -0.009918 -0.009838   \n",
       "3    -0.009932 -0.011126 -0.010762 -0.007984 -0.013595 -0.009918 -0.009470   \n",
       "4    -0.007484 -0.005790 -0.008930 -0.006322 -0.012029 -0.007007 -0.006911   \n",
       "\n",
       "                                   ...          min                      \\\n",
       "                                   ...        Bytes                       \n",
       "         07        08        09    ...           14        15        16   \n",
       "0 -0.012616 -0.009572 -0.011851    ...    -0.020730 -0.018019 -0.018878   \n",
       "1 -0.014340 -0.011510 -0.014119    ...    -0.020752 -0.018040 -0.018899   \n",
       "2 -0.014320 -0.011545 -0.013922    ...    -0.020752 -0.018040 -0.018899   \n",
       "3 -0.014341 -0.011979 -0.014230    ...    -0.020752 -0.018040 -0.018899   \n",
       "4 -0.012538 -0.009441 -0.011706    ...    -0.020322 -0.017750 -0.018128   \n",
       "\n",
       "                                                                         \n",
       "                                                                         \n",
       "         17        18        19        20        21        22        23  \n",
       "0 -0.021280 -0.015753 -0.015868 -0.017892 -0.022608 -0.020415 -0.022789  \n",
       "1 -0.021301 -0.015771 -0.015889 -0.017910 -0.022626 -0.020430 -0.022810  \n",
       "2 -0.021301 -0.015771 -0.015889 -0.017910 -0.022626 -0.020430 -0.022810  \n",
       "3 -0.021301 -0.015771 -0.015889 -0.017910 -0.022626 -0.020430 -0.022810  \n",
       "4 -0.021017 -0.015511 -0.015545 -0.017444 -0.022333 -0.020035 -0.022432  \n",
       "\n",
       "[5 rows x 648 columns]"
      ]
     },
     "execution_count": 5,
     "metadata": {},
     "output_type": "execute_result"
    }
   ],
   "source": [
    "from sklearn.model_selection import train_test_split\n",
    "\n",
    "x = df[['mean', 'max', 'min']]\n",
    "y = df['Unit_encoding']\n",
    "x.head()"
   ]
  },
  {
   "cell_type": "markdown",
   "metadata": {},
   "source": [
    "## DBSCAN parameters"
   ]
  },
  {
   "cell_type": "markdown",
   "metadata": {},
   "source": [
    "### minpts\n",
    "\n",
    "Try 50 as a starting point"
   ]
  },
  {
   "cell_type": "code",
   "execution_count": 6,
   "metadata": {},
   "outputs": [],
   "source": [
    "minpts = 50"
   ]
  },
  {
   "cell_type": "markdown",
   "metadata": {},
   "source": [
    "### epsilon\n",
    "\n",
    "We are going to compute k-distances for each host using knn classifier, with **k** parameter se to **minpts**"
   ]
  },
  {
   "cell_type": "code",
   "execution_count": 7,
   "metadata": {},
   "outputs": [],
   "source": [
    "from sklearn.neighbors import KNeighborsClassifier\n",
    "def get_k_distances(min_points):\n",
    "    knn = KNeighborsClassifier(n_neighbors=min_points)\n",
    "    knn.fit(x, y)\n",
    "    distances, inds = knn.kneighbors(x, min_points) # returns k nearest distance for each datapoint\n",
    "    distances = np.sort(distances.flatten('C')) # transform to 1-d array and sort in ascending order\n",
    "    nrows = x.shape[0]\n",
    "    start_ind = int((nrows * min_points) - ((nrows * min_points) / 300)) # plot only the last x distances to recognize knee\n",
    "    distances = distances[start_ind::]\n",
    "    fig = plt.figure(figsize=(12,10))\n",
    "    plt.plot(distances)\n",
    "    plt.ylabel('distance')\n",
    "    plt.xlabel('index')\n",
    "    plt.grid(b=True, which='major', axis='y')\n",
    "    plt.title('KNN computed distance with k = ' + str(min_points))\n",
    "    plt.show()"
   ]
  },
  {
   "cell_type": "code",
   "execution_count": 8,
   "metadata": {},
   "outputs": [
    {
     "data": {
      "image/png": "[encoded data removed]",
      "text/plain": [
       "<Figure size 864x720 with 1 Axes>"
      ]
     },
     "metadata": {
      "needs_background": "light"
     },
     "output_type": "display_data"
    }
   ],
   "source": [
    "get_k_distances(minpts)"
   ]
  },
  {
   "cell_type": "markdown",
   "metadata": {},
   "source": [
    "Knee of this graph is at around 300"
   ]
  },
  {
   "cell_type": "code",
   "execution_count": 9,
   "metadata": {},
   "outputs": [],
   "source": [
    "eps = 300"
   ]
  },
  {
   "cell_type": "markdown",
   "metadata": {},
   "source": [
    "## Apply DBSCAN"
   ]
  },
  {
   "cell_type": "code",
   "execution_count": 10,
   "metadata": {},
   "outputs": [],
   "source": [
    "from sklearn.cluster import DBSCAN\n",
    "\n",
    "dbscan = DBSCAN(eps=eps, min_samples=minpts)"
   ]
  },
  {
   "cell_type": "markdown",
   "metadata": {},
   "source": [
    "### Performance evaluation"
   ]
  },
  {
   "cell_type": "code",
   "execution_count": 11,
   "metadata": {},
   "outputs": [
    {
     "data": {
      "text/plain": [
       "(array([-1,  0]), array([    9, 20989]))"
      ]
     },
     "execution_count": 11,
     "metadata": {},
     "output_type": "execute_result"
    }
   ],
   "source": [
    "prediction = dbscan.fit_predict(x)\n",
    "np.unique(prediction, return_counts=True)"
   ]
  },
  {
   "cell_type": "code",
   "execution_count": 12,
   "metadata": {},
   "outputs": [],
   "source": [
    "from sklearn import metrics"
   ]
  },
  {
   "cell_type": "code",
   "execution_count": 13,
   "metadata": {},
   "outputs": [],
   "source": [
    "true_labels = df['Unit_encoding'].values\n",
    "pred_labels = prediction"
   ]
  },
  {
   "cell_type": "markdown",
   "metadata": {},
   "source": [
    "### ARI"
   ]
  },
  {
   "cell_type": "code",
   "execution_count": 14,
   "metadata": {},
   "outputs": [
    {
     "data": {
      "text/plain": [
       "-1.734235356538021e-05"
      ]
     },
     "execution_count": 14,
     "metadata": {},
     "output_type": "execute_result"
    }
   ],
   "source": [
    "score = metrics.adjusted_rand_score(true_labels, pred_labels) \n",
    "score"
   ]
  },
  {
   "cell_type": "markdown",
   "metadata": {},
   "source": [
    "### Silhouette"
   ]
  },
  {
   "cell_type": "code",
   "execution_count": 15,
   "metadata": {
    "scrolled": true
   },
   "outputs": [
    {
     "data": {
      "text/plain": [
       "0.9779261306528014"
      ]
     },
     "execution_count": 15,
     "metadata": {},
     "output_type": "execute_result"
    }
   ],
   "source": [
    "silhouette = metrics.silhouette_score(x, pred_labels)\n",
    "silhouette"
   ]
  },
  {
   "cell_type": "markdown",
   "metadata": {},
   "source": [
    "## Try to find higher performing parameters using gridsearch"
   ]
  },
  {
   "cell_type": "code",
   "execution_count": 16,
   "metadata": {},
   "outputs": [],
   "source": [
    "params = { 'min_samples' : [5, 25, 50], 'eps' : [2, 4, 8, 16, 32, 64] }"
   ]
  },
  {
   "cell_type": "code",
   "execution_count": 17,
   "metadata": {},
   "outputs": [],
   "source": [
    "def DBSCAN_Gridsearch(params):\n",
    "    best_ari = -np.inf # highest achieved Adjuster Rand Index\n",
    "    silhoutte_at_best = -np.inf # silhouette score at the best ari\n",
    "    best_ms = -np.inf\n",
    "    best_eps = -np.inf # dbscan parameters at best ARI\n",
    "    for ms in params['min_samples']:\n",
    "        for ep in params['eps']:\n",
    "            dbscan = DBSCAN(eps=ep, min_samples=ms)\n",
    "            prediction = dbscan.fit_predict(x)\n",
    "            print('Params[ min_samples: ' + str(ms) + ', epsilon: ' + str(ep) + ' ]')\n",
    "            print(np.unique(prediction, return_counts=True))\n",
    "            score = metrics.adjusted_rand_score(true_labels, prediction)\n",
    "            print(\"ARI: \" + str(score))\n",
    "            silhouette = metrics.silhouette_score(x, prediction)\n",
    "            print(\"Silhouette: \" + str(silhouette))\n",
    "            print('--------------')\n",
    "            if score > best_ari:\n",
    "                best_ari = score\n",
    "                best_ms = ms\n",
    "                best_eps = ep\n",
    "                silhouette_at_best = silhouette\n",
    "    return best_ms, best_eps, best_ari, silhouette_at_best"
   ]
  },
  {
   "cell_type": "code",
   "execution_count": 18,
   "metadata": {},
   "outputs": [
    {
     "name": "stdout",
     "output_type": "stream",
     "text": [
      "Params[ min_samples: 5, epsilon: 2 ]\n",
      "(array([-1,  0,  1,  2,  3,  4,  5,  6,  7,  8,  9, 10, 11, 12, 13, 14, 15,\n",
      "       16, 17, 18, 19, 20, 21, 22, 23, 24, 25, 26, 27, 28, 29, 30, 31, 32,\n",
      "       33, 34, 35, 36, 37, 38, 39, 40, 41, 42, 43, 44, 45, 46, 47, 48, 49]), array([15662,  3284,    22,    77,     5,    49,   125,    53,    32,\n",
      "          23,   364,   795,     5,    22,    10,     7,     7,     8,\n",
      "           8,    15,     8,     6,    86,    14,    24,    12,    10,\n",
      "           5,     5,     9,     9,    10,     7,     7,    11,    10,\n",
      "          21,    23,     5,    16,     6,     5,     5,    28,     9,\n",
      "          34,    17,     5,     5,     7,     6]))\n",
      "ARI: 0.054833602266112495\n",
      "Silhouette: -0.1878665898073125\n",
      "--------------\n",
      "Params[ min_samples: 5, epsilon: 4 ]\n",
      "(array([-1,  0,  1,  2,  3,  4,  5,  6,  7,  8,  9, 10, 11, 12, 13, 14, 15,\n",
      "       16, 17, 18, 19, 20, 21, 22, 23, 24, 25, 26, 27, 28, 29, 30, 31, 32,\n",
      "       33, 34, 35, 36, 37, 38, 39, 40, 41, 42, 43, 44, 45, 46]), array([12287,   174,  5658,    51,   647,    18,   366,    27,   104,\n",
      "         990,     6,    38,     6,    13,     8,     5,     6,    37,\n",
      "           8,    38,    18,     5,    17,   170,     9,     8,    14,\n",
      "          37,     9,    14,     5,     4,     5,     6,     4,     5,\n",
      "          18,    84,     5,    15,    11,     5,     5,     5,    18,\n",
      "           6,     4,     5]))\n",
      "ARI: 0.08801698908892346\n",
      "Silhouette: -0.17160416131940778\n",
      "--------------\n",
      "Params[ min_samples: 5, epsilon: 8 ]\n",
      "(array([-1,  0,  1,  2,  3]), array([ 3683, 17285,    21,     5,     4]))\n",
      "ARI: -0.004460203050953909\n",
      "Silhouette: -0.006771574108949925\n",
      "--------------\n",
      "Params[ min_samples: 5, epsilon: 16 ]\n",
      "(array([-1,  0,  1]), array([  561, 20429,     8]))\n",
      "ARI: -0.003261213701748012\n",
      "Silhouette: 0.7151790031016985\n",
      "--------------\n",
      "Params[ min_samples: 5, epsilon: 32 ]\n",
      "(array([-1,  0]), array([  180, 20818]))\n",
      "ARI: -0.000968077962599383\n",
      "Silhouette: 0.8718423877223496\n",
      "--------------\n",
      "Params[ min_samples: 5, epsilon: 64 ]\n",
      "(array([-1,  0]), array([   68, 20930]))\n",
      "ARI: -0.00027154666416303507\n",
      "Silhouette: 0.9270270280537684\n",
      "--------------\n",
      "Params[ min_samples: 25, epsilon: 2 ]\n",
      "(array([-1,  0,  1,  2,  3,  4,  5,  6,  7,  8]), array([16275,  3204,    76,    48,   110,    25,   358,   795,    82,\n",
      "          25]))\n",
      "ARI: 0.04819196832948062\n",
      "Silhouette: -0.14582140516666095\n",
      "--------------\n",
      "Params[ min_samples: 25, epsilon: 4 ]\n",
      "(array([-1,  0,  1,  2,  3,  4,  5,  6,  7,  8,  9, 10, 11, 12]), array([13302,   138,  5239,   502,    51,   327,   971,    50,    49,\n",
      "          28,   170,    35,    52,    84]))\n",
      "ARI: 0.07713401002238722\n",
      "Silhouette: -0.10842077689034191\n",
      "--------------\n",
      "Params[ min_samples: 25, epsilon: 8 ]\n",
      "(array([-1,  0]), array([ 4118, 16880]))\n",
      "ARI: -0.0002153320586350952\n",
      "Silhouette: 0.3163051405021758\n",
      "--------------\n",
      "Params[ min_samples: 25, epsilon: 16 ]\n",
      "(array([-1,  0]), array([  607, 20391]))\n",
      "ARI: -0.003355722241176435\n",
      "Silhouette: 0.7425623821331834\n",
      "--------------\n",
      "Params[ min_samples: 25, epsilon: 32 ]\n",
      "(array([-1,  0]), array([  197, 20801]))\n",
      "ARI: -0.0009490992426562027\n",
      "Silhouette: 0.8668814445624689\n",
      "--------------\n",
      "Params[ min_samples: 25, epsilon: 64 ]\n",
      "(array([-1,  0]), array([   70, 20928]))\n",
      "ARI: -0.00026549346479890406\n",
      "Silhouette: 0.9263712392256084\n",
      "--------------\n",
      "Params[ min_samples: 50, epsilon: 2 ]\n",
      "(array([-1,  0,  1,  2,  3,  4,  5]), array([16459,  3184,   356,   795,    68,    60,    76]))\n",
      "ARI: 0.0463320078487855\n",
      "Silhouette: -0.12484297575903541\n",
      "--------------\n",
      "Params[ min_samples: 50, epsilon: 4 ]\n",
      "(array([-1,  0,  1,  2,  3,  4,  5,  6,  7]), array([13770,  5130,   466,   118,   183,   966,   111,   170,    84]))\n",
      "ARI: 0.07228726112095059\n",
      "Silhouette: -0.07336045858459901\n",
      "--------------\n",
      "Params[ min_samples: 50, epsilon: 8 ]\n",
      "(array([-1,  0]), array([ 4411, 16587]))\n",
      "ARI: 0.0033859145930833705\n",
      "Silhouette: 0.30158014676541806\n",
      "--------------\n",
      "Params[ min_samples: 50, epsilon: 16 ]\n",
      "(array([-1,  0]), array([  612, 20386]))\n",
      "ARI: -0.0033408620955050635\n",
      "Silhouette: 0.7414373262761788\n",
      "--------------\n",
      "Params[ min_samples: 50, epsilon: 32 ]\n",
      "(array([-1,  0]), array([  202, 20796]))\n",
      "ARI: -0.000981974474818762\n",
      "Silhouette: 0.8655358719983471\n",
      "--------------\n",
      "Params[ min_samples: 50, epsilon: 64 ]\n",
      "(array([-1,  0]), array([   73, 20925]))\n",
      "ARI: -0.00025075821139420554\n",
      "Silhouette: 0.9250880093052777\n",
      "--------------\n"
     ]
    }
   ],
   "source": [
    "best_ms, best_eps, best_ari, silhouette_at_best = DBSCAN_Gridsearch(params)"
   ]
  },
  {
   "cell_type": "code",
   "execution_count": 19,
   "metadata": {},
   "outputs": [
    {
     "name": "stdout",
     "output_type": "stream",
     "text": [
      "Best parameters: \n",
      "Params[ min_samples: 5, epsilon: 4 ]\n",
      "ARI: 0.08801698908892346\n",
      "Silhouette coefficient: -0.17160416131940778\n"
     ]
    }
   ],
   "source": [
    "print(\"Best parameters: \")\n",
    "print('Params[ min_samples: ' + str(best_ms) + ', epsilon: ' + str(best_eps) + ' ]')\n",
    "print(\"ARI: \" + str(best_ari))\n",
    "print(\"Silhouette coefficient: \" + str(silhouette_at_best))"
   ]
  },
  {
   "cell_type": "markdown",
   "metadata": {},
   "source": [
    "### More grid search with refined params table"
   ]
  },
  {
   "cell_type": "code",
   "execution_count": 20,
   "metadata": {},
   "outputs": [],
   "source": [
    "params = { 'min_samples' : [40, 50, 60, 70, 80], 'eps' : [4, 5, 6, 8] }"
   ]
  },
  {
   "cell_type": "code",
   "execution_count": 21,
   "metadata": {},
   "outputs": [
    {
     "name": "stdout",
     "output_type": "stream",
     "text": [
      "Params[ min_samples: 40, epsilon: 4 ]\n",
      "(array([-1,  0,  1,  2,  3,  4,  5,  6,  7,  8]), array([13634,   122,  5174,   479,   190,   968,   127,    50,   170,\n",
      "          84]))\n",
      "ARI: 0.07288316561855841\n",
      "Silhouette: -0.06995248721349671\n",
      "--------------\n",
      "Params[ min_samples: 40, epsilon: 5 ]\n",
      "(array([-1,  0,  1,  2,  3,  4,  5,  6]), array([11447,  7387,    53,   695,   445,   693,   178,   100]))\n",
      "ARI: 0.08498473811841097\n",
      "Silhouette: -0.1331806262540938\n",
      "--------------\n",
      "Params[ min_samples: 40, epsilon: 6 ]\n",
      "(array([-1,  0]), array([ 8514, 12484]))\n",
      "ARI: 0.05978537661557063\n",
      "Silhouette: 0.14845340575701585\n",
      "--------------\n",
      "Params[ min_samples: 40, epsilon: 8 ]\n",
      "(array([-1,  0]), array([ 4287, 16711]))\n",
      "ARI: 0.0016019779752438304\n",
      "Silhouette: 0.3078224078354312\n",
      "--------------\n",
      "Params[ min_samples: 50, epsilon: 4 ]\n",
      "(array([-1,  0,  1,  2,  3,  4,  5,  6,  7]), array([13770,  5130,   466,   118,   183,   966,   111,   170,    84]))\n",
      "ARI: 0.07228726112095059\n",
      "Silhouette: -0.07336045858459901\n",
      "--------------\n",
      "Params[ min_samples: 50, epsilon: 5 ]\n",
      "(array([-1,  0,  1,  2,  3,  4,  5,  6,  7,  8]), array([11723,  7299,    53,   645,   445,   448,    62,   178,    45,\n",
      "         100]))\n",
      "ARI: 0.08140461832955449\n",
      "Silhouette: -0.1606957683910618\n",
      "--------------\n",
      "Params[ min_samples: 50, epsilon: 6 ]\n",
      "(array([-1,  0]), array([ 8621, 12377]))\n",
      "ARI: 0.060607505576060865\n",
      "Silhouette: 0.1448483913167734\n",
      "--------------\n",
      "Params[ min_samples: 50, epsilon: 8 ]\n",
      "(array([-1,  0]), array([ 4411, 16587]))\n",
      "ARI: 0.0033859145930833705\n",
      "Silhouette: 0.30158014676541806\n",
      "--------------\n",
      "Params[ min_samples: 60, epsilon: 4 ]\n",
      "(array([-1,  0,  1,  2,  3,  4,  5,  6,  7]), array([13804,  5120,   466,   113,   167,   958,   116,   170,    84]))\n",
      "ARI: 0.07229256337481987\n",
      "Silhouette: -0.07390948741800728\n",
      "--------------\n",
      "Params[ min_samples: 60, epsilon: 5 ]\n",
      "(array([-1,  0,  1,  2,  3,  4,  5,  6,  7]), array([12055,  7132,   640,   434,   148,   249,   179,    61,   100]))\n",
      "ARI: 0.07632643453094401\n",
      "Silhouette: -0.15553558679227877\n",
      "--------------\n",
      "Params[ min_samples: 60, epsilon: 6 ]\n",
      "(array([-1,  0]), array([ 8723, 12275]))\n",
      "ARI: 0.06094451645970196\n",
      "Silhouette: 0.1428078958865558\n",
      "--------------\n",
      "Params[ min_samples: 60, epsilon: 8 ]\n",
      "(array([-1,  0]), array([ 4566, 16432]))\n",
      "ARI: 0.005880812907731641\n",
      "Silhouette: 0.2934495205282619\n",
      "--------------\n",
      "Params[ min_samples: 70, epsilon: 4 ]\n",
      "(array([-1,  0,  1,  2,  3,  4,  5,  6,  7,  8]), array([13926,  4398,   428,   101,   155,   955,   692,    89,   170,\n",
      "          84]))\n",
      "ARI: 0.07600284413216916\n",
      "Silhouette: -0.04709830274268735\n",
      "--------------\n",
      "Params[ min_samples: 70, epsilon: 5 ]\n",
      "(array([-1,  0,  1,  2,  3,  4,  5,  6,  7]), array([12410,   228,  6803,   634,   430,   144,    71,   178,   100]))\n",
      "ARI: 0.07260481555479274\n",
      "Silhouette: -0.16414096225421454\n",
      "--------------\n",
      "Params[ min_samples: 70, epsilon: 6 ]\n",
      "(array([-1,  0]), array([ 8832, 12166]))\n",
      "ARI: 0.061062219035831304\n",
      "Silhouette: 0.14088111023488203\n",
      "--------------\n",
      "Params[ min_samples: 70, epsilon: 8 ]\n",
      "(array([-1,  0]), array([ 4659, 16339]))\n",
      "ARI: 0.0069689341513507665\n",
      "Silhouette: 0.2898685466681365\n",
      "--------------\n",
      "Params[ min_samples: 80, epsilon: 4 ]\n",
      "(array([-1,  0,  1,  2,  3,  4,  5,  6,  7,  8]), array([14062,  4389,   428,   147,   675,   887,   167,    97,    84,\n",
      "          62]))\n",
      "ARI: 0.07377696690170912\n",
      "Silhouette: -0.05293503409284785\n",
      "--------------\n",
      "Params[ min_samples: 80, epsilon: 5 ]\n",
      "(array([-1,  0,  1,  2,  3,  4,  5,  6,  7]), array([12550,   207,  5776,   627,   427,  1003,   177,   100,   131]))\n",
      "ARI: 0.07981710155150008\n",
      "Silhouette: -0.04381053788145499\n",
      "--------------\n",
      "Params[ min_samples: 80, epsilon: 6 ]\n",
      "(array([-1,  0]), array([ 8912, 12086]))\n",
      "ARI: 0.061074366493624396\n",
      "Silhouette: 0.1380177134754458\n",
      "--------------\n",
      "Params[ min_samples: 80, epsilon: 8 ]\n",
      "(array([-1,  0]), array([ 4699, 16299]))\n",
      "ARI: 0.007472926765599259\n",
      "Silhouette: 0.2880478128106844\n",
      "--------------\n"
     ]
    }
   ],
   "source": [
    "best_ms, best_eps, best_ari, silhouette_at_best = DBSCAN_Gridsearch(params)"
   ]
  },
  {
   "cell_type": "code",
   "execution_count": 22,
   "metadata": {},
   "outputs": [
    {
     "name": "stdout",
     "output_type": "stream",
     "text": [
      "Best parameters: \n",
      "Params[ min_samples: 40, epsilon: 5 ]\n",
      "ARI: 0.08498473811841097\n",
      "Silhouette coefficient: -0.1331806262540938\n"
     ]
    }
   ],
   "source": [
    "print(\"Best parameters: \")\n",
    "print('Params[ min_samples: ' + str(best_ms) + ', epsilon: ' + str(best_eps) + ' ]')\n",
    "print(\"ARI: \" + str(best_ari))\n",
    "print(\"Silhouette coefficient: \" + str(silhouette_at_best))"
   ]
  }
 ],
 "metadata": {
  "kernelspec": {
   "display_name": "Python 3",
   "language": "python",
   "name": "python3"
  },
  "language_info": {
   "codemirror_mode": {
    "name": "ipython",
    "version": 3
   },
   "file_extension": ".py",
   "mimetype": "text/x-python",
   "name": "python",
   "nbconvert_exporter": "python",
   "pygments_lexer": "ipython3",
   "version": "3.7.1"
  }
 },
 "nbformat": 4,
 "nbformat_minor": 2
}
