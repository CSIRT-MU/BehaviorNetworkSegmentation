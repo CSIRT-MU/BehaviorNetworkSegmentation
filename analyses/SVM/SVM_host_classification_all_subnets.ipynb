{
 "cells": [
  {
   "cell_type": "markdown",
   "metadata": {},
   "source": [
    "# Classification of hosts within subnet\n",
    "\n",
    "We are going to perform SVM on hosts from all units of given subnet"
   ]
  },
  {
   "cell_type": "markdown",
   "metadata": {},
   "source": [
    "### Imports"
   ]
  },
  {
   "cell_type": "code",
   "execution_count": 1,
   "metadata": {},
   "outputs": [],
   "source": [
    "import pandas as pd"
   ]
  },
  {
   "cell_type": "markdown",
   "metadata": {},
   "source": [
    "### Import dataset\n",
    "\n",
    "We have a preprocessed pandas dataframe consisting of anonymized host behaviour. Each host belongs to a certain **unit** within the subnet."
   ]
  },
  {
   "cell_type": "code",
   "execution_count": 2,
   "metadata": {},
   "outputs": [
    {
     "data": {
      "text/html": [
       "<div>\n",
       "<style scoped>\n",
       "    .dataframe tbody tr th:only-of-type {\n",
       "        vertical-align: middle;\n",
       "    }\n",
       "\n",
       "    .dataframe tbody tr th {\n",
       "        vertical-align: top;\n",
       "    }\n",
       "\n",
       "    .dataframe thead tr th {\n",
       "        text-align: left;\n",
       "    }\n",
       "</style>\n",
       "<table border=\"1\" class=\"dataframe\">\n",
       "  <thead>\n",
       "    <tr>\n",
       "      <th></th>\n",
       "      <th colspan=\"10\" halign=\"left\">mean</th>\n",
       "      <th>...</th>\n",
       "      <th colspan=\"5\" halign=\"left\">max</th>\n",
       "      <th colspan=\"4\" halign=\"left\">Label</th>\n",
       "      <th>Unit_encoding</th>\n",
       "    </tr>\n",
       "    <tr>\n",
       "      <th></th>\n",
       "      <th colspan=\"10\" halign=\"left\">FlowDuration</th>\n",
       "      <th>...</th>\n",
       "      <th colspan=\"5\" halign=\"left\">Bytes</th>\n",
       "      <th colspan=\"4\" halign=\"left\">Label</th>\n",
       "      <th></th>\n",
       "    </tr>\n",
       "    <tr>\n",
       "      <th></th>\n",
       "      <th>00</th>\n",
       "      <th>01</th>\n",
       "      <th>02</th>\n",
       "      <th>03</th>\n",
       "      <th>04</th>\n",
       "      <th>05</th>\n",
       "      <th>06</th>\n",
       "      <th>07</th>\n",
       "      <th>08</th>\n",
       "      <th>09</th>\n",
       "      <th>...</th>\n",
       "      <th>19</th>\n",
       "      <th>20</th>\n",
       "      <th>21</th>\n",
       "      <th>22</th>\n",
       "      <th>23</th>\n",
       "      <th>anon_net_range</th>\n",
       "      <th>addr_range</th>\n",
       "      <th>unit</th>\n",
       "      <th>subunit</th>\n",
       "      <th></th>\n",
       "    </tr>\n",
       "  </thead>\n",
       "  <tbody>\n",
       "    <tr>\n",
       "      <th>0</th>\n",
       "      <td>-0.007622</td>\n",
       "      <td>-0.006103</td>\n",
       "      <td>-0.009019</td>\n",
       "      <td>-0.006422</td>\n",
       "      <td>-0.012099</td>\n",
       "      <td>-0.007141</td>\n",
       "      <td>-0.007069</td>\n",
       "      <td>-0.012616</td>\n",
       "      <td>-0.009572</td>\n",
       "      <td>-0.011851</td>\n",
       "      <td>...</td>\n",
       "      <td>-0.015290</td>\n",
       "      <td>-0.014971</td>\n",
       "      <td>-0.016604</td>\n",
       "      <td>-0.016766</td>\n",
       "      <td>-0.016320</td>\n",
       "      <td>28</td>\n",
       "      <td>ef160f55b36bd48b37f22bc9c48819b1a0259c2dd27ccc...</td>\n",
       "      <td>CEITEC</td>\n",
       "      <td>frontendy diskovych poli a aplikacni servery ...</td>\n",
       "      <td>0</td>\n",
       "    </tr>\n",
       "    <tr>\n",
       "      <th>1</th>\n",
       "      <td>-0.009677</td>\n",
       "      <td>-0.011074</td>\n",
       "      <td>-0.010790</td>\n",
       "      <td>-0.008082</td>\n",
       "      <td>-0.013610</td>\n",
       "      <td>-0.009863</td>\n",
       "      <td>-0.009743</td>\n",
       "      <td>-0.014340</td>\n",
       "      <td>-0.011510</td>\n",
       "      <td>-0.014119</td>\n",
       "      <td>...</td>\n",
       "      <td>-0.015291</td>\n",
       "      <td>-0.014971</td>\n",
       "      <td>-0.016604</td>\n",
       "      <td>-0.016766</td>\n",
       "      <td>-0.016320</td>\n",
       "      <td>28</td>\n",
       "      <td>93b8f5a052053b0db4731b671f78b8c5e5817d38d51ba9...</td>\n",
       "      <td>CEITEC</td>\n",
       "      <td>frontendy diskovych poli a aplikacni servery ...</td>\n",
       "      <td>0</td>\n",
       "    </tr>\n",
       "    <tr>\n",
       "      <th>2</th>\n",
       "      <td>-0.009484</td>\n",
       "      <td>-0.010427</td>\n",
       "      <td>-0.010896</td>\n",
       "      <td>-0.008080</td>\n",
       "      <td>-0.013609</td>\n",
       "      <td>-0.009918</td>\n",
       "      <td>-0.009838</td>\n",
       "      <td>-0.014320</td>\n",
       "      <td>-0.011545</td>\n",
       "      <td>-0.013922</td>\n",
       "      <td>...</td>\n",
       "      <td>-0.015291</td>\n",
       "      <td>-0.014971</td>\n",
       "      <td>-0.016604</td>\n",
       "      <td>-0.016766</td>\n",
       "      <td>-0.016320</td>\n",
       "      <td>28</td>\n",
       "      <td>ac600c8985d0f198d532737ea9d58db00905c6c6bebb6b...</td>\n",
       "      <td>CEITEC</td>\n",
       "      <td>frontendy diskovych poli a aplikacni servery ...</td>\n",
       "      <td>0</td>\n",
       "    </tr>\n",
       "    <tr>\n",
       "      <th>3</th>\n",
       "      <td>-0.009932</td>\n",
       "      <td>-0.011126</td>\n",
       "      <td>-0.010762</td>\n",
       "      <td>-0.007984</td>\n",
       "      <td>-0.013595</td>\n",
       "      <td>-0.009918</td>\n",
       "      <td>-0.009470</td>\n",
       "      <td>-0.014341</td>\n",
       "      <td>-0.011979</td>\n",
       "      <td>-0.014230</td>\n",
       "      <td>...</td>\n",
       "      <td>-0.015291</td>\n",
       "      <td>-0.014971</td>\n",
       "      <td>-0.016604</td>\n",
       "      <td>-0.016766</td>\n",
       "      <td>-0.016320</td>\n",
       "      <td>28</td>\n",
       "      <td>48bab257d30b1c6eaa225275fe60fc5e1dfe61afe54ace...</td>\n",
       "      <td>CEITEC</td>\n",
       "      <td>frontendy diskovych poli a aplikacni servery ...</td>\n",
       "      <td>0</td>\n",
       "    </tr>\n",
       "    <tr>\n",
       "      <th>4</th>\n",
       "      <td>-0.007484</td>\n",
       "      <td>-0.005790</td>\n",
       "      <td>-0.008930</td>\n",
       "      <td>-0.006322</td>\n",
       "      <td>-0.012029</td>\n",
       "      <td>-0.007007</td>\n",
       "      <td>-0.006911</td>\n",
       "      <td>-0.012538</td>\n",
       "      <td>-0.009441</td>\n",
       "      <td>-0.011706</td>\n",
       "      <td>...</td>\n",
       "      <td>-0.015274</td>\n",
       "      <td>-0.014955</td>\n",
       "      <td>-0.016588</td>\n",
       "      <td>-0.016752</td>\n",
       "      <td>-0.016307</td>\n",
       "      <td>26</td>\n",
       "      <td>1cd00c373ace404b829e822bf076631b564bf2bc70db82...</td>\n",
       "      <td>CEITEC</td>\n",
       "      <td>CRS</td>\n",
       "      <td>0</td>\n",
       "    </tr>\n",
       "  </tbody>\n",
       "</table>\n",
       "<p>5 rows × 653 columns</p>\n",
       "</div>"
      ],
      "text/plain": [
       "          mean                                                              \\\n",
       "  FlowDuration                                                               \n",
       "            00        01        02        03        04        05        06   \n",
       "0    -0.007622 -0.006103 -0.009019 -0.006422 -0.012099 -0.007141 -0.007069   \n",
       "1    -0.009677 -0.011074 -0.010790 -0.008082 -0.013610 -0.009863 -0.009743   \n",
       "2    -0.009484 -0.010427 -0.010896 -0.008080 -0.013609 -0.009918 -0.009838   \n",
       "3    -0.009932 -0.011126 -0.010762 -0.007984 -0.013595 -0.009918 -0.009470   \n",
       "4    -0.007484 -0.005790 -0.008930 -0.006322 -0.012029 -0.007007 -0.006911   \n",
       "\n",
       "                                     ...            max                      \\\n",
       "                                     ...          Bytes                       \n",
       "         07        08        09      ...             19        20        21   \n",
       "0 -0.012616 -0.009572 -0.011851      ...      -0.015290 -0.014971 -0.016604   \n",
       "1 -0.014340 -0.011510 -0.014119      ...      -0.015291 -0.014971 -0.016604   \n",
       "2 -0.014320 -0.011545 -0.013922      ...      -0.015291 -0.014971 -0.016604   \n",
       "3 -0.014341 -0.011979 -0.014230      ...      -0.015291 -0.014971 -0.016604   \n",
       "4 -0.012538 -0.009441 -0.011706      ...      -0.015274 -0.014955 -0.016588   \n",
       "\n",
       "                               Label  \\\n",
       "                               Label   \n",
       "         22        23 anon_net_range   \n",
       "0 -0.016766 -0.016320             28   \n",
       "1 -0.016766 -0.016320             28   \n",
       "2 -0.016766 -0.016320             28   \n",
       "3 -0.016766 -0.016320             28   \n",
       "4 -0.016752 -0.016307             26   \n",
       "\n",
       "                                                              \\\n",
       "                                                               \n",
       "                                          addr_range    unit   \n",
       "0  ef160f55b36bd48b37f22bc9c48819b1a0259c2dd27ccc...  CEITEC   \n",
       "1  93b8f5a052053b0db4731b671f78b8c5e5817d38d51ba9...  CEITEC   \n",
       "2  ac600c8985d0f198d532737ea9d58db00905c6c6bebb6b...  CEITEC   \n",
       "3  48bab257d30b1c6eaa225275fe60fc5e1dfe61afe54ace...  CEITEC   \n",
       "4  1cd00c373ace404b829e822bf076631b564bf2bc70db82...  CEITEC   \n",
       "\n",
       "                                                     Unit_encoding  \n",
       "                                                                    \n",
       "                                             subunit                \n",
       "0   frontendy diskovych poli a aplikacni servery ...             0  \n",
       "1   frontendy diskovych poli a aplikacni servery ...             0  \n",
       "2   frontendy diskovych poli a aplikacni servery ...             0  \n",
       "3   frontendy diskovych poli a aplikacni servery ...             0  \n",
       "4                                                CRS             0  \n",
       "\n",
       "[5 rows x 653 columns]"
      ]
     },
     "execution_count": 2,
     "metadata": {},
     "output_type": "execute_result"
    }
   ],
   "source": [
    "df = pd.read_pickle('balanced_preprocessed_dataset.pkl')\n",
    "df.head()"
   ]
  },
  {
   "cell_type": "code",
   "execution_count": 3,
   "metadata": {},
   "outputs": [
    {
     "data": {
      "text/plain": [
       "array(['CEITEC', 'CESNET', 'CTT', 'ESF', 'FF', 'FI', 'FIeduroamnaFI',\n",
       "       'FNBrno', 'FSS', 'FSpS', 'IBA', 'LF', 'PedF', 'PravF', 'PrirF',\n",
       "       'RMU', 'SKM', 'Teiresias', 'Telc', 'UKB', 'UVT', 'VPN'],\n",
       "      dtype=object)"
      ]
     },
     "execution_count": 3,
     "metadata": {},
     "output_type": "execute_result"
    }
   ],
   "source": [
    "df['Label', 'Label', 'unit'].unique()"
   ]
  },
  {
   "cell_type": "code",
   "execution_count": 4,
   "metadata": {},
   "outputs": [
    {
     "data": {
      "text/plain": [
       "UVT              3500\n",
       "SKM              3246\n",
       "PrirF            2599\n",
       "CEITEC           2223\n",
       "LF               1475\n",
       "FI               1289\n",
       "FF               1089\n",
       "FIeduroamnaFI    1020\n",
       "FSS               802\n",
       "PedF              740\n",
       "UKB               649\n",
       "ESF               554\n",
       "PravF             536\n",
       "RMU               429\n",
       "FSpS              410\n",
       "Teiresias         130\n",
       "Telc               99\n",
       "IBA                96\n",
       "VPN                83\n",
       "CTT                19\n",
       "FNBrno              7\n",
       "CESNET              3\n",
       "Name: (Label, Label, unit), dtype: int64"
      ]
     },
     "execution_count": 4,
     "metadata": {},
     "output_type": "execute_result"
    }
   ],
   "source": [
    "df['Label', 'Label', 'unit'].value_counts()"
   ]
  },
  {
   "cell_type": "markdown",
   "metadata": {},
   "source": [
    "Cleanup the index"
   ]
  },
  {
   "cell_type": "code",
   "execution_count": 5,
   "metadata": {},
   "outputs": [],
   "source": [
    "df = df.reset_index(drop=True)"
   ]
  },
  {
   "cell_type": "markdown",
   "metadata": {},
   "source": [
    "### Divide dataset into train/test split"
   ]
  },
  {
   "cell_type": "code",
   "execution_count": 6,
   "metadata": {},
   "outputs": [
    {
     "data": {
      "text/html": [
       "<div>\n",
       "<style scoped>\n",
       "    .dataframe tbody tr th:only-of-type {\n",
       "        vertical-align: middle;\n",
       "    }\n",
       "\n",
       "    .dataframe tbody tr th {\n",
       "        vertical-align: top;\n",
       "    }\n",
       "\n",
       "    .dataframe thead tr th {\n",
       "        text-align: left;\n",
       "    }\n",
       "</style>\n",
       "<table border=\"1\" class=\"dataframe\">\n",
       "  <thead>\n",
       "    <tr>\n",
       "      <th></th>\n",
       "      <th colspan=\"10\" halign=\"left\">mean</th>\n",
       "      <th>...</th>\n",
       "      <th colspan=\"10\" halign=\"left\">max</th>\n",
       "    </tr>\n",
       "    <tr>\n",
       "      <th></th>\n",
       "      <th colspan=\"10\" halign=\"left\">FlowDuration</th>\n",
       "      <th>...</th>\n",
       "      <th colspan=\"10\" halign=\"left\">Bytes</th>\n",
       "    </tr>\n",
       "    <tr>\n",
       "      <th></th>\n",
       "      <th>00</th>\n",
       "      <th>01</th>\n",
       "      <th>02</th>\n",
       "      <th>03</th>\n",
       "      <th>04</th>\n",
       "      <th>05</th>\n",
       "      <th>06</th>\n",
       "      <th>07</th>\n",
       "      <th>08</th>\n",
       "      <th>09</th>\n",
       "      <th>...</th>\n",
       "      <th>14</th>\n",
       "      <th>15</th>\n",
       "      <th>16</th>\n",
       "      <th>17</th>\n",
       "      <th>18</th>\n",
       "      <th>19</th>\n",
       "      <th>20</th>\n",
       "      <th>21</th>\n",
       "      <th>22</th>\n",
       "      <th>23</th>\n",
       "    </tr>\n",
       "  </thead>\n",
       "  <tbody>\n",
       "    <tr>\n",
       "      <th>0</th>\n",
       "      <td>-0.007622</td>\n",
       "      <td>-0.006103</td>\n",
       "      <td>-0.009019</td>\n",
       "      <td>-0.006422</td>\n",
       "      <td>-0.012099</td>\n",
       "      <td>-0.007141</td>\n",
       "      <td>-0.007069</td>\n",
       "      <td>-0.012616</td>\n",
       "      <td>-0.009572</td>\n",
       "      <td>-0.011851</td>\n",
       "      <td>...</td>\n",
       "      <td>-0.018135</td>\n",
       "      <td>-0.017941</td>\n",
       "      <td>-0.017531</td>\n",
       "      <td>-0.017640</td>\n",
       "      <td>-0.015971</td>\n",
       "      <td>-0.015290</td>\n",
       "      <td>-0.014971</td>\n",
       "      <td>-0.016604</td>\n",
       "      <td>-0.016766</td>\n",
       "      <td>-0.016320</td>\n",
       "    </tr>\n",
       "    <tr>\n",
       "      <th>1</th>\n",
       "      <td>-0.009677</td>\n",
       "      <td>-0.011074</td>\n",
       "      <td>-0.010790</td>\n",
       "      <td>-0.008082</td>\n",
       "      <td>-0.013610</td>\n",
       "      <td>-0.009863</td>\n",
       "      <td>-0.009743</td>\n",
       "      <td>-0.014340</td>\n",
       "      <td>-0.011510</td>\n",
       "      <td>-0.014119</td>\n",
       "      <td>...</td>\n",
       "      <td>-0.018135</td>\n",
       "      <td>-0.017942</td>\n",
       "      <td>-0.017531</td>\n",
       "      <td>-0.017641</td>\n",
       "      <td>-0.015971</td>\n",
       "      <td>-0.015291</td>\n",
       "      <td>-0.014971</td>\n",
       "      <td>-0.016604</td>\n",
       "      <td>-0.016766</td>\n",
       "      <td>-0.016320</td>\n",
       "    </tr>\n",
       "    <tr>\n",
       "      <th>2</th>\n",
       "      <td>-0.009484</td>\n",
       "      <td>-0.010427</td>\n",
       "      <td>-0.010896</td>\n",
       "      <td>-0.008080</td>\n",
       "      <td>-0.013609</td>\n",
       "      <td>-0.009918</td>\n",
       "      <td>-0.009838</td>\n",
       "      <td>-0.014320</td>\n",
       "      <td>-0.011545</td>\n",
       "      <td>-0.013922</td>\n",
       "      <td>...</td>\n",
       "      <td>-0.018135</td>\n",
       "      <td>-0.017942</td>\n",
       "      <td>-0.017531</td>\n",
       "      <td>-0.017641</td>\n",
       "      <td>-0.015971</td>\n",
       "      <td>-0.015291</td>\n",
       "      <td>-0.014971</td>\n",
       "      <td>-0.016604</td>\n",
       "      <td>-0.016766</td>\n",
       "      <td>-0.016320</td>\n",
       "    </tr>\n",
       "    <tr>\n",
       "      <th>3</th>\n",
       "      <td>-0.009932</td>\n",
       "      <td>-0.011126</td>\n",
       "      <td>-0.010762</td>\n",
       "      <td>-0.007984</td>\n",
       "      <td>-0.013595</td>\n",
       "      <td>-0.009918</td>\n",
       "      <td>-0.009470</td>\n",
       "      <td>-0.014341</td>\n",
       "      <td>-0.011979</td>\n",
       "      <td>-0.014230</td>\n",
       "      <td>...</td>\n",
       "      <td>-0.018135</td>\n",
       "      <td>-0.017942</td>\n",
       "      <td>-0.017531</td>\n",
       "      <td>-0.017641</td>\n",
       "      <td>-0.015971</td>\n",
       "      <td>-0.015291</td>\n",
       "      <td>-0.014971</td>\n",
       "      <td>-0.016604</td>\n",
       "      <td>-0.016766</td>\n",
       "      <td>-0.016320</td>\n",
       "    </tr>\n",
       "    <tr>\n",
       "      <th>4</th>\n",
       "      <td>-0.007484</td>\n",
       "      <td>-0.005790</td>\n",
       "      <td>-0.008930</td>\n",
       "      <td>-0.006322</td>\n",
       "      <td>-0.012029</td>\n",
       "      <td>-0.007007</td>\n",
       "      <td>-0.006911</td>\n",
       "      <td>-0.012538</td>\n",
       "      <td>-0.009441</td>\n",
       "      <td>-0.011706</td>\n",
       "      <td>...</td>\n",
       "      <td>-0.018115</td>\n",
       "      <td>-0.017918</td>\n",
       "      <td>-0.017516</td>\n",
       "      <td>-0.017627</td>\n",
       "      <td>-0.015957</td>\n",
       "      <td>-0.015274</td>\n",
       "      <td>-0.014955</td>\n",
       "      <td>-0.016588</td>\n",
       "      <td>-0.016752</td>\n",
       "      <td>-0.016307</td>\n",
       "    </tr>\n",
       "  </tbody>\n",
       "</table>\n",
       "<p>5 rows × 648 columns</p>\n",
       "</div>"
      ],
      "text/plain": [
       "          mean                                                              \\\n",
       "  FlowDuration                                                               \n",
       "            00        01        02        03        04        05        06   \n",
       "0    -0.007622 -0.006103 -0.009019 -0.006422 -0.012099 -0.007141 -0.007069   \n",
       "1    -0.009677 -0.011074 -0.010790 -0.008082 -0.013610 -0.009863 -0.009743   \n",
       "2    -0.009484 -0.010427 -0.010896 -0.008080 -0.013609 -0.009918 -0.009838   \n",
       "3    -0.009932 -0.011126 -0.010762 -0.007984 -0.013595 -0.009918 -0.009470   \n",
       "4    -0.007484 -0.005790 -0.008930 -0.006322 -0.012029 -0.007007 -0.006911   \n",
       "\n",
       "                                   ...          max                      \\\n",
       "                                   ...        Bytes                       \n",
       "         07        08        09    ...           14        15        16   \n",
       "0 -0.012616 -0.009572 -0.011851    ...    -0.018135 -0.017941 -0.017531   \n",
       "1 -0.014340 -0.011510 -0.014119    ...    -0.018135 -0.017942 -0.017531   \n",
       "2 -0.014320 -0.011545 -0.013922    ...    -0.018135 -0.017942 -0.017531   \n",
       "3 -0.014341 -0.011979 -0.014230    ...    -0.018135 -0.017942 -0.017531   \n",
       "4 -0.012538 -0.009441 -0.011706    ...    -0.018115 -0.017918 -0.017516   \n",
       "\n",
       "                                                                         \n",
       "                                                                         \n",
       "         17        18        19        20        21        22        23  \n",
       "0 -0.017640 -0.015971 -0.015290 -0.014971 -0.016604 -0.016766 -0.016320  \n",
       "1 -0.017641 -0.015971 -0.015291 -0.014971 -0.016604 -0.016766 -0.016320  \n",
       "2 -0.017641 -0.015971 -0.015291 -0.014971 -0.016604 -0.016766 -0.016320  \n",
       "3 -0.017641 -0.015971 -0.015291 -0.014971 -0.016604 -0.016766 -0.016320  \n",
       "4 -0.017627 -0.015957 -0.015274 -0.014955 -0.016588 -0.016752 -0.016307  \n",
       "\n",
       "[5 rows x 648 columns]"
      ]
     },
     "execution_count": 6,
     "metadata": {},
     "output_type": "execute_result"
    }
   ],
   "source": [
    "x = df.drop(['Label', 'Unit_encoding'], level=0, axis=1)\n",
    "y = df['Unit_encoding']\n",
    "x.head()"
   ]
  },
  {
   "cell_type": "code",
   "execution_count": 7,
   "metadata": {},
   "outputs": [],
   "source": [
    "from sklearn.model_selection import train_test_split\n",
    "x_train, x_test, y_train, y_test = train_test_split(x, y, test_size = 0.20)"
   ]
  },
  {
   "cell_type": "markdown",
   "metadata": {},
   "source": [
    "## Apply SVM"
   ]
  },
  {
   "cell_type": "code",
   "execution_count": 8,
   "metadata": {},
   "outputs": [],
   "source": [
    "from sklearn.svm import SVC"
   ]
  },
  {
   "cell_type": "code",
   "execution_count": 9,
   "metadata": {},
   "outputs": [
    {
     "data": {
      "text/plain": [
       "SVC(C=1.0, cache_size=200, class_weight=None, coef0=0.0,\n",
       "  decision_function_shape='ovr', degree=3, gamma='auto', kernel='rbf',\n",
       "  max_iter=-1, probability=False, random_state=None, shrinking=True,\n",
       "  tol=0.001, verbose=False)"
      ]
     },
     "execution_count": 9,
     "metadata": {},
     "output_type": "execute_result"
    }
   ],
   "source": [
    "svc = SVC(gamma='auto')  \n",
    "svc.fit(x_train, y_train) "
   ]
  },
  {
   "cell_type": "code",
   "execution_count": 10,
   "metadata": {},
   "outputs": [],
   "source": [
    "prediction = svc.predict(x_test)"
   ]
  },
  {
   "cell_type": "markdown",
   "metadata": {},
   "source": [
    "## Evaluate classifier performance"
   ]
  },
  {
   "cell_type": "code",
   "execution_count": 11,
   "metadata": {},
   "outputs": [
    {
     "name": "stdout",
     "output_type": "stream",
     "text": [
      "              precision    recall  f1-score   support\n",
      "\n",
      "           0       0.44      0.81      0.57       448\n",
      "           1       0.00      0.00      0.00         1\n",
      "           2       0.00      0.00      0.00         1\n",
      "           3       0.74      0.26      0.39       106\n",
      "           4       0.33      0.50      0.40       220\n",
      "           5       0.56      0.29      0.38       262\n",
      "           6       0.78      0.95      0.86       197\n",
      "           7       0.00      0.00      0.00         2\n",
      "           8       0.52      0.50      0.51       173\n",
      "           9       0.00      0.00      0.00        64\n",
      "          10       0.00      0.00      0.00        25\n",
      "          11       0.26      0.02      0.04       303\n",
      "          12       0.59      0.11      0.18       149\n",
      "          13       0.93      0.54      0.69       114\n",
      "          14       0.37      0.73      0.49       515\n",
      "          15       1.00      0.01      0.02        86\n",
      "          16       0.76      0.84      0.80       657\n",
      "          17       0.00      0.00      0.00        21\n",
      "          18       0.80      0.60      0.69        20\n",
      "          19       0.00      0.00      0.00       125\n",
      "          20       0.83      0.67      0.74       695\n",
      "          21       1.00      0.06      0.12        16\n",
      "\n",
      "   micro avg       0.56      0.56      0.56      4200\n",
      "   macro avg       0.45      0.31      0.31      4200\n",
      "weighted avg       0.57      0.56      0.52      4200\n",
      "\n"
     ]
    },
    {
     "name": "stderr",
     "output_type": "stream",
     "text": [
      "/home/smeriga/anaconda3/lib/python3.7/site-packages/sklearn/metrics/classification.py:1143: UndefinedMetricWarning: Precision and F-score are ill-defined and being set to 0.0 in labels with no predicted samples.\n",
      "  'precision', 'predicted', average, warn_for)\n"
     ]
    }
   ],
   "source": [
    "from sklearn.metrics import classification_report, confusion_matrix  \n",
    "print(classification_report(y_test,prediction))"
   ]
  },
  {
   "cell_type": "code",
   "execution_count": 12,
   "metadata": {},
   "outputs": [
    {
     "name": "stdout",
     "output_type": "stream",
     "text": [
      "[[364   0   0   0   5   3   1   0  12   0   0   0   0   0  40   0  12   0\n",
      "    0   0  11   0]\n",
      " [  0   0   0   0   0   0   0   0   0   0   0   0   0   0   1   0   0   0\n",
      "    0   0   0   0]\n",
      " [  0   0   0   0   0   0   0   0   0   0   0   0   0   0   1   0   0   0\n",
      "    0   0   0   0]\n",
      " [  4   0   0  28  26   6   0   0   0   0   0   1   0   0  34   0   3   0\n",
      "    0   0   4   0]\n",
      " [ 16   0   0   6 111   5   1   0   5   0   0   1   3   1  51   0  16   0\n",
      "    0   0   4   0]\n",
      " [ 40   0   0   0  15  76  13   0  17   0   0   0   1   0  55   0  34   0\n",
      "    0   0  11   0]\n",
      " [  0   0   0   0   3   0 188   0   0   0   0   1   0   0   2   0   1   0\n",
      "    0   0   2   0]\n",
      " [  1   0   0   0   0   0   0   0   0   0   0   0   0   0   1   0   0   0\n",
      "    0   0   0   0]\n",
      " [  4   0   0   0  18   6   8   0  86   0   0   1   0   0  35   0  12   0\n",
      "    0   0   3   0]\n",
      " [ 49   0   0   0   2   1   0   0   2   0   0   0   0   1   7   0   2   0\n",
      "    0   0   0   0]\n",
      " [  3   0   0   0   4   0   0   0   0   0   0   1   3   1   7   0   2   0\n",
      "    0   0   4   0]\n",
      " [160   0   0   0  18   3   0   0   1   0   0   6   0   0  96   0  13   0\n",
      "    0   0   6   0]\n",
      " [  3   0   0   2  23   8   6   0   1   0   0   0  16   1  80   0   3   0\n",
      "    2   0   4   0]\n",
      " [ 17   0   0   0   6   6   2   0   3   0   0   1   0  62   7   0   5   0\n",
      "    0   0   5   0]\n",
      " [  9   0   0   1  52   9  11   0  11   0   0   5   1   0 376   0  26   0\n",
      "    1   0  13   0]\n",
      " [  2   0   0   0  14   2   0   0   3   0   0   0   1   0  61   1   0   0\n",
      "    0   0   2   0]\n",
      " [  9   0   0   0  28   2   1   0   4   0   0   5   1   1  28   0 554   0\n",
      "    0   0  24   0]\n",
      " [  1   0   0   1   1   2   0   0   2   0   0   0   1   0  10   0   3   0\n",
      "    0   0   0   0]\n",
      " [  1   0   0   0   1   0   0   0   0   0   0   0   0   0   6   0   0   0\n",
      "   12   0   0   0]\n",
      " [103   0   0   0   0   0   0   0   5   0   0   0   0   0  14   0   3   0\n",
      "    0   0   0   0]\n",
      " [ 38   0   0   0  13   6  11   0  12   0   0   1   0   0 114   0  34   0\n",
      "    0   0 466   0]\n",
      " [  0   0   0   0   0   1   0   0   0   0   0   0   0   0   1   0   8   0\n",
      "    0   0   5   1]]\n"
     ]
    }
   ],
   "source": [
    "print(confusion_matrix(y_test,prediction))"
   ]
  },
  {
   "cell_type": "markdown",
   "metadata": {},
   "source": [
    "### Try various parameter combinations using grid search"
   ]
  },
  {
   "cell_type": "code",
   "execution_count": 13,
   "metadata": {},
   "outputs": [],
   "source": [
    "param_grid = {'C': [0.001, 0.01, 0.1, 1], 'gamma': ['auto', 1, 0.1], 'kernel': ['poly'], 'degree':[3]}"
   ]
  },
  {
   "cell_type": "code",
   "execution_count": 14,
   "metadata": {},
   "outputs": [],
   "source": [
    "from sklearn.model_selection import GridSearchCV\n",
    "grid = GridSearchCV(SVC(),param_grid,refit=True,verbose=3)"
   ]
  },
  {
   "cell_type": "code",
   "execution_count": 15,
   "metadata": {},
   "outputs": [
    {
     "name": "stderr",
     "output_type": "stream",
     "text": [
      "/home/smeriga/anaconda3/lib/python3.7/site-packages/sklearn/model_selection/_split.py:2053: FutureWarning: You should specify a value for 'cv' instead of relying on the default value. The default value will change from 3 to 5 in version 0.22.\n",
      "  warnings.warn(CV_WARNING, FutureWarning)\n",
      "/home/smeriga/anaconda3/lib/python3.7/site-packages/sklearn/model_selection/_split.py:652: Warning: The least populated class in y has only 2 members, which is too few. The minimum number of members in any class cannot be less than n_splits=3.\n",
      "  % (min_groups, self.n_splits)), Warning)\n",
      "[Parallel(n_jobs=1)]: Using backend SequentialBackend with 1 concurrent workers.\n"
     ]
    },
    {
     "name": "stdout",
     "output_type": "stream",
     "text": [
      "Fitting 3 folds for each of 12 candidates, totalling 36 fits\n",
      "[CV] C=0.001, degree=3, gamma=auto, kernel=poly ......................\n",
      "[CV]  C=0.001, degree=3, gamma=auto, kernel=poly, score=0.16850927246790298, total= 3.0min\n",
      "[CV] C=0.001, degree=3, gamma=auto, kernel=poly ......................\n"
     ]
    },
    {
     "name": "stderr",
     "output_type": "stream",
     "text": [
      "[Parallel(n_jobs=1)]: Done   1 out of   1 | elapsed:  4.4min remaining:    0.0s\n"
     ]
    },
    {
     "name": "stdout",
     "output_type": "stream",
     "text": [
      "[CV]  C=0.001, degree=3, gamma=auto, kernel=poly, score=0.1680357142857143, total= 3.0min\n",
      "[CV] C=0.001, degree=3, gamma=auto, kernel=poly ......................\n"
     ]
    },
    {
     "name": "stderr",
     "output_type": "stream",
     "text": [
      "[Parallel(n_jobs=1)]: Done   2 out of   2 | elapsed:  8.8min remaining:    0.0s\n"
     ]
    },
    {
     "name": "stdout",
     "output_type": "stream",
     "text": [
      "[CV]  C=0.001, degree=3, gamma=auto, kernel=poly, score=0.16833631484794276, total= 3.1min\n",
      "[CV] C=0.001, degree=3, gamma=1, kernel=poly .........................\n",
      "[CV]  C=0.001, degree=3, gamma=1, kernel=poly, score=0.5962910128388017, total= 1.8min\n",
      "[CV] C=0.001, degree=3, gamma=1, kernel=poly .........................\n",
      "[CV]  C=0.001, degree=3, gamma=1, kernel=poly, score=0.5891071428571428, total= 1.8min\n",
      "[CV] C=0.001, degree=3, gamma=1, kernel=poly .........................\n",
      "[CV]  C=0.001, degree=3, gamma=1, kernel=poly, score=0.5898032200357782, total= 1.7min\n",
      "[CV] C=0.001, degree=3, gamma=0.1, kernel=poly .......................\n",
      "[CV]  C=0.001, degree=3, gamma=0.1, kernel=poly, score=0.5987874465049928, total= 1.9min\n",
      "[CV] C=0.001, degree=3, gamma=0.1, kernel=poly .......................\n",
      "[CV]  C=0.001, degree=3, gamma=0.1, kernel=poly, score=0.5885714285714285, total= 1.8min\n",
      "[CV] C=0.001, degree=3, gamma=0.1, kernel=poly .......................\n",
      "[CV]  C=0.001, degree=3, gamma=0.1, kernel=poly, score=0.5987477638640429, total= 1.9min\n",
      "[CV] C=0.01, degree=3, gamma=auto, kernel=poly .......................\n",
      "[CV]  C=0.01, degree=3, gamma=auto, kernel=poly, score=0.1704707560627675, total= 2.8min\n",
      "[CV] C=0.01, degree=3, gamma=auto, kernel=poly .......................\n",
      "[CV]  C=0.01, degree=3, gamma=auto, kernel=poly, score=0.16910714285714284, total= 2.9min\n",
      "[CV] C=0.01, degree=3, gamma=auto, kernel=poly .......................\n",
      "[CV]  C=0.01, degree=3, gamma=auto, kernel=poly, score=0.1701252236135957, total= 2.8min\n",
      "[CV] C=0.01, degree=3, gamma=1, kernel=poly ..........................\n",
      "[CV]  C=0.01, degree=3, gamma=1, kernel=poly, score=0.5927246790299572, total= 1.7min\n",
      "[CV] C=0.01, degree=3, gamma=1, kernel=poly ..........................\n",
      "[CV]  C=0.01, degree=3, gamma=1, kernel=poly, score=0.5864285714285714, total= 1.7min\n",
      "[CV] C=0.01, degree=3, gamma=1, kernel=poly ..........................\n",
      "[CV]  C=0.01, degree=3, gamma=1, kernel=poly, score=0.5892665474060823, total= 1.7min\n",
      "[CV] C=0.01, degree=3, gamma=0.1, kernel=poly ........................\n",
      "[CV]  C=0.01, degree=3, gamma=0.1, kernel=poly, score=0.6173323823109843, total= 1.8min\n",
      "[CV] C=0.01, degree=3, gamma=0.1, kernel=poly ........................\n",
      "[CV]  C=0.01, degree=3, gamma=0.1, kernel=poly, score=0.6076785714285714, total= 1.8min\n",
      "[CV] C=0.01, degree=3, gamma=0.1, kernel=poly ........................\n",
      "[CV]  C=0.01, degree=3, gamma=0.1, kernel=poly, score=0.6103756708407871, total= 1.8min\n",
      "[CV] C=0.1, degree=3, gamma=auto, kernel=poly ........................\n",
      "[CV]  C=0.1, degree=3, gamma=auto, kernel=poly, score=0.17261055634807418, total= 2.9min\n",
      "[CV] C=0.1, degree=3, gamma=auto, kernel=poly ........................\n",
      "[CV]  C=0.1, degree=3, gamma=auto, kernel=poly, score=0.17232142857142857, total= 2.9min\n",
      "[CV] C=0.1, degree=3, gamma=auto, kernel=poly ........................\n",
      "[CV]  C=0.1, degree=3, gamma=auto, kernel=poly, score=0.17137745974955276, total= 2.9min\n",
      "[CV] C=0.1, degree=3, gamma=1, kernel=poly ...........................\n",
      "[CV]  C=0.1, degree=3, gamma=1, kernel=poly, score=0.6005706134094151, total= 1.8min\n",
      "[CV] C=0.1, degree=3, gamma=1, kernel=poly ...........................\n",
      "[CV]  C=0.1, degree=3, gamma=1, kernel=poly, score=0.5883928571428572, total= 1.8min\n",
      "[CV] C=0.1, degree=3, gamma=1, kernel=poly ...........................\n",
      "[CV]  C=0.1, degree=3, gamma=1, kernel=poly, score=0.5976744186046512, total= 1.9min\n",
      "[CV] C=0.1, degree=3, gamma=0.1, kernel=poly .........................\n",
      "[CV]  C=0.1, degree=3, gamma=0.1, kernel=poly, score=0.6093081312410842, total= 1.8min\n",
      "[CV] C=0.1, degree=3, gamma=0.1, kernel=poly .........................\n",
      "[CV]  C=0.1, degree=3, gamma=0.1, kernel=poly, score=0.59125, total= 1.8min\n",
      "[CV] C=0.1, degree=3, gamma=0.1, kernel=poly .........................\n",
      "[CV]  C=0.1, degree=3, gamma=0.1, kernel=poly, score=0.5991055456171736, total= 1.8min\n",
      "[CV] C=1, degree=3, gamma=auto, kernel=poly ..........................\n",
      "[CV]  C=1, degree=3, gamma=auto, kernel=poly, score=0.320435092724679, total= 2.9min\n",
      "[CV] C=1, degree=3, gamma=auto, kernel=poly ..........................\n",
      "[CV]  C=1, degree=3, gamma=auto, kernel=poly, score=0.31607142857142856, total= 2.8min\n",
      "[CV] C=1, degree=3, gamma=auto, kernel=poly ..........................\n",
      "[CV]  C=1, degree=3, gamma=auto, kernel=poly, score=0.3254025044722719, total= 2.8min\n",
      "[CV] C=1, degree=3, gamma=1, kernel=poly .............................\n",
      "[CV]  C=1, degree=3, gamma=1, kernel=poly, score=0.603601997146933, total= 2.0min\n",
      "[CV] C=1, degree=3, gamma=1, kernel=poly .............................\n",
      "[CV]  C=1, degree=3, gamma=1, kernel=poly, score=0.5883928571428572, total= 2.1min\n",
      "[CV] C=1, degree=3, gamma=1, kernel=poly .............................\n",
      "[CV]  C=1, degree=3, gamma=1, kernel=poly, score=0.5992844364937389, total= 2.0min\n",
      "[CV] C=1, degree=3, gamma=0.1, kernel=poly ...........................\n",
      "[CV]  C=1, degree=3, gamma=0.1, kernel=poly, score=0.5961126961483595, total= 1.9min\n",
      "[CV] C=1, degree=3, gamma=0.1, kernel=poly ...........................\n",
      "[CV]  C=1, degree=3, gamma=0.1, kernel=poly, score=0.5894642857142857, total= 1.8min\n",
      "[CV] C=1, degree=3, gamma=0.1, kernel=poly ...........................\n",
      "[CV]  C=1, degree=3, gamma=0.1, kernel=poly, score=0.5898032200357782, total= 1.8min\n"
     ]
    },
    {
     "name": "stderr",
     "output_type": "stream",
     "text": [
      "[Parallel(n_jobs=1)]: Done  36 out of  36 | elapsed: 122.7min finished\n"
     ]
    }
   ],
   "source": [
    "grid.fit(x_train, y_train)\n",
    "grid_prediction = grid.predict(x_test)"
   ]
  },
  {
   "cell_type": "code",
   "execution_count": 16,
   "metadata": {},
   "outputs": [
    {
     "data": {
      "text/plain": [
       "{'C': 0.01, 'degree': 3, 'gamma': 0.1, 'kernel': 'poly'}"
      ]
     },
     "execution_count": 16,
     "metadata": {},
     "output_type": "execute_result"
    }
   ],
   "source": [
    "grid.best_params_"
   ]
  },
  {
   "cell_type": "code",
   "execution_count": 17,
   "metadata": {},
   "outputs": [
    {
     "name": "stdout",
     "output_type": "stream",
     "text": [
      "              precision    recall  f1-score   support\n",
      "\n",
      "           0       0.47      0.84      0.61       448\n",
      "           1       0.00      0.00      0.00         1\n",
      "           2       0.00      0.00      0.00         1\n",
      "           3       0.43      0.41      0.42       106\n",
      "           4       0.48      0.53      0.50       220\n",
      "           5       0.49      0.52      0.50       262\n",
      "           6       0.84      0.88      0.86       197\n",
      "           7       0.00      0.00      0.00         2\n",
      "           8       0.62      0.58      0.60       173\n",
      "           9       0.58      0.17      0.27        64\n",
      "          10       0.25      0.16      0.20        25\n",
      "          11       0.30      0.13      0.18       303\n",
      "          12       0.51      0.47      0.49       149\n",
      "          13       0.79      0.60      0.68       114\n",
      "          14       0.53      0.63      0.58       515\n",
      "          15       0.44      0.33      0.38        86\n",
      "          16       0.82      0.85      0.84       657\n",
      "          17       0.67      0.57      0.62        21\n",
      "          18       0.82      0.70      0.76        20\n",
      "          19       0.41      0.14      0.21       125\n",
      "          20       0.89      0.73      0.80       695\n",
      "          21       0.28      0.31      0.29        16\n",
      "\n",
      "   micro avg       0.62      0.62      0.62      4200\n",
      "   macro avg       0.48      0.43      0.44      4200\n",
      "weighted avg       0.62      0.62      0.61      4200\n",
      "\n"
     ]
    },
    {
     "name": "stderr",
     "output_type": "stream",
     "text": [
      "/home/smeriga/anaconda3/lib/python3.7/site-packages/sklearn/metrics/classification.py:1143: UndefinedMetricWarning: Precision and F-score are ill-defined and being set to 0.0 in labels with no predicted samples.\n",
      "  'precision', 'predicted', average, warn_for)\n"
     ]
    }
   ],
   "source": [
    "print(classification_report(y_test,grid_prediction))"
   ]
  },
  {
   "cell_type": "code",
   "execution_count": 18,
   "metadata": {},
   "outputs": [
    {
     "name": "stdout",
     "output_type": "stream",
     "text": [
      "[[378   0   1   2   5  10   0   0   4   3   1   3   2   1  20   0   5   0\n",
      "    0   7   6   0]\n",
      " [  0   0   0   0   0   0   0   0   0   0   0   0   0   0   1   0   0   0\n",
      "    0   0   0   0]\n",
      " [  0   0   0   0   0   0   0   0   0   0   0   0   0   0   0   1   0   0\n",
      "    0   0   0   0]\n",
      " [  4   0   0  43  16   0   0   0   1   0   1   6   3   1  21   2   7   1\n",
      "    0   0   0   0]\n",
      " [ 14   0   0  12 117  10   1   0   5   0   0  16   2   1  29   1   9   1\n",
      "    0   1   1   0]\n",
      " [ 24   0   0   6  17 135   6   0  10   0   1   7   5   2  24   2  10   0\n",
      "    1   1  11   0]\n",
      " [  0   0   0   1   1   4 173   0   0   0   0   3   3   0   7   0   0   0\n",
      "    0   0   5   0]\n",
      " [  1   0   0   0   0   0   0   0   0   0   0   0   0   0   1   0   0   0\n",
      "    0   0   0   0]\n",
      " [  4   0   0   3   9  15   5   0 101   0   1   2   2   0  18   2  10   0\n",
      "    0   1   0   0]\n",
      " [ 37   0   0   0   3   3   0   0   1  11   0   1   0   0   2   0   1   0\n",
      "    0   3   2   0]\n",
      " [  2   0   0   0   2   3   0   0   0   0   4   4   1   0   3   0   4   0\n",
      "    0   0   2   0]\n",
      " [162   0   0   7  16  10   0   0   4   0   0  40  10   2  30   8   8   0\n",
      "    0   3   3   0]\n",
      " [  4   0   1   4   8   7   2   0   3   0   0   6  70   1  31   4   3   3\n",
      "    1   0   1   0]\n",
      " [ 14   0   0   0   6   6   2   0   4   0   0   1   1  68   6   0   3   0\n",
      "    0   1   2   0]\n",
      " [ 22   0   0  11  29  25   6   0   7   0   1  17  24   1 322   7  20   0\n",
      "    1   2  20   0]\n",
      " [  5   0   1   2   4   1   0   0   2   0   2  12   5   1  20  28   1   1\n",
      "    0   1   0   0]\n",
      " [  9   1   0   4  10  20   3   0   9   1   4   4   2   4  12   1 559   0\n",
      "    0   3   5   6]\n",
      " [  2   0   0   3   0   0   0   0   0   0   0   1   1   0   0   0   2  12\n",
      "    0   0   0   0]\n",
      " [  1   0   0   1   0   0   0   0   0   0   0   2   0   0   0   1   0   0\n",
      "   14   0   1   0]\n",
      " [ 85   0   0   0   0   2   0   0   6   2   0   1   0   0   6   0   2   0\n",
      "    0  18   3   0]\n",
      " [ 28   0   3   1   2  24   8   0   5   2   1   6   5   3  51   6  30   0\n",
      "    0   3 510   7]\n",
      " [  0   0   0   0   0   0   0   0   0   0   0   0   0   1   0   0   6   0\n",
      "    0   0   4   5]]\n"
     ]
    }
   ],
   "source": [
    "print(confusion_matrix(y_test,grid_prediction))"
   ]
  }
 ],
 "metadata": {
  "kernelspec": {
   "display_name": "Python 3",
   "language": "python",
   "name": "python3"
  },
  "language_info": {
   "codemirror_mode": {
    "name": "ipython",
    "version": 3
   },
   "file_extension": ".py",
   "mimetype": "text/x-python",
   "name": "python",
   "nbconvert_exporter": "python",
   "pygments_lexer": "ipython3",
   "version": "3.7.1"
  }
 },
 "nbformat": 4,
 "nbformat_minor": 1
}
