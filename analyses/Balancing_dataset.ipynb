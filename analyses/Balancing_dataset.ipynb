{
 "cells": [
  {
   "cell_type": "markdown",
   "metadata": {},
   "source": [
    "# Balancing dataset"
   ]
  },
  {
   "cell_type": "markdown",
   "metadata": {},
   "source": [
    "## Imports"
   ]
  },
  {
   "cell_type": "code",
   "execution_count": 1,
   "metadata": {},
   "outputs": [],
   "source": [
    "import pandas as pd\n",
    "import numpy as np\n",
    "import seaborn as sns\n",
    "import matplotlib.pyplot as plt\n",
    "from imblearn.under_sampling import RandomUnderSampler\n",
    "%matplotlib inline"
   ]
  },
  {
   "cell_type": "markdown",
   "metadata": {},
   "source": [
    "### Import dataset"
   ]
  },
  {
   "cell_type": "code",
   "execution_count": 2,
   "metadata": {},
   "outputs": [
    {
     "data": {
      "text/html": [
       "<div>\n",
       "<style scoped>\n",
       "    .dataframe tbody tr th:only-of-type {\n",
       "        vertical-align: middle;\n",
       "    }\n",
       "\n",
       "    .dataframe tbody tr th {\n",
       "        vertical-align: top;\n",
       "    }\n",
       "\n",
       "    .dataframe thead tr th {\n",
       "        text-align: left;\n",
       "    }\n",
       "</style>\n",
       "<table border=\"1\" class=\"dataframe\">\n",
       "  <thead>\n",
       "    <tr>\n",
       "      <th></th>\n",
       "      <th colspan=\"10\" halign=\"left\">mean</th>\n",
       "      <th>...</th>\n",
       "      <th colspan=\"5\" halign=\"left\">max</th>\n",
       "      <th colspan=\"4\" halign=\"left\">Label</th>\n",
       "      <th>Unit_encoding</th>\n",
       "    </tr>\n",
       "    <tr>\n",
       "      <th></th>\n",
       "      <th colspan=\"10\" halign=\"left\">FlowDuration</th>\n",
       "      <th>...</th>\n",
       "      <th colspan=\"5\" halign=\"left\">Bytes</th>\n",
       "      <th colspan=\"4\" halign=\"left\">Label</th>\n",
       "      <th></th>\n",
       "    </tr>\n",
       "    <tr>\n",
       "      <th></th>\n",
       "      <th>00</th>\n",
       "      <th>01</th>\n",
       "      <th>02</th>\n",
       "      <th>03</th>\n",
       "      <th>04</th>\n",
       "      <th>05</th>\n",
       "      <th>06</th>\n",
       "      <th>07</th>\n",
       "      <th>08</th>\n",
       "      <th>09</th>\n",
       "      <th>...</th>\n",
       "      <th>19</th>\n",
       "      <th>20</th>\n",
       "      <th>21</th>\n",
       "      <th>22</th>\n",
       "      <th>23</th>\n",
       "      <th>anon_net_range</th>\n",
       "      <th>addr_range</th>\n",
       "      <th>unit</th>\n",
       "      <th>subunit</th>\n",
       "      <th></th>\n",
       "    </tr>\n",
       "  </thead>\n",
       "  <tbody>\n",
       "    <tr>\n",
       "      <th>0</th>\n",
       "      <td>-0.010075</td>\n",
       "      <td>-0.011899</td>\n",
       "      <td>-0.011080</td>\n",
       "      <td>-0.008082</td>\n",
       "      <td>-0.013610</td>\n",
       "      <td>-0.009919</td>\n",
       "      <td>-0.009839</td>\n",
       "      <td>-0.014341</td>\n",
       "      <td>-0.011996</td>\n",
       "      <td>-0.014402</td>\n",
       "      <td>...</td>\n",
       "      <td>-0.015291</td>\n",
       "      <td>-0.014971</td>\n",
       "      <td>-0.016604</td>\n",
       "      <td>-0.016766</td>\n",
       "      <td>-0.016320</td>\n",
       "      <td>26.0</td>\n",
       "      <td>ec53ecd75327bafb5534fc04eb3b7f41cac0cd7664a19f...</td>\n",
       "      <td>UVT</td>\n",
       "      <td>pracovni sit pro sitare</td>\n",
       "      <td>20</td>\n",
       "    </tr>\n",
       "    <tr>\n",
       "      <th>1</th>\n",
       "      <td>-0.007491</td>\n",
       "      <td>-0.005755</td>\n",
       "      <td>-0.008916</td>\n",
       "      <td>-0.006318</td>\n",
       "      <td>-0.012004</td>\n",
       "      <td>-0.007014</td>\n",
       "      <td>-0.006875</td>\n",
       "      <td>-0.012524</td>\n",
       "      <td>-0.009454</td>\n",
       "      <td>-0.011688</td>\n",
       "      <td>...</td>\n",
       "      <td>-0.015272</td>\n",
       "      <td>-0.014951</td>\n",
       "      <td>-0.016588</td>\n",
       "      <td>-0.016749</td>\n",
       "      <td>-0.016304</td>\n",
       "      <td>26.0</td>\n",
       "      <td>7408e51607e13c73bda262bcec8a9a125a8fd13407bfbe...</td>\n",
       "      <td>UVT</td>\n",
       "      <td>pracovni sit pro sitare</td>\n",
       "      <td>20</td>\n",
       "    </tr>\n",
       "    <tr>\n",
       "      <th>2</th>\n",
       "      <td>-0.010075</td>\n",
       "      <td>-0.011899</td>\n",
       "      <td>-0.011080</td>\n",
       "      <td>-0.008082</td>\n",
       "      <td>-0.013610</td>\n",
       "      <td>-0.009919</td>\n",
       "      <td>-0.009839</td>\n",
       "      <td>-0.013046</td>\n",
       "      <td>-0.009527</td>\n",
       "      <td>-0.011701</td>\n",
       "      <td>...</td>\n",
       "      <td>-0.015291</td>\n",
       "      <td>-0.014971</td>\n",
       "      <td>-0.016604</td>\n",
       "      <td>-0.016766</td>\n",
       "      <td>-0.016320</td>\n",
       "      <td>26.0</td>\n",
       "      <td>a4ad915be80ba3536c409f3181298b3f86c57cd3db64fc...</td>\n",
       "      <td>UVT</td>\n",
       "      <td>pracovni sit pro sitare</td>\n",
       "      <td>20</td>\n",
       "    </tr>\n",
       "    <tr>\n",
       "      <th>3</th>\n",
       "      <td>-0.010075</td>\n",
       "      <td>-0.011899</td>\n",
       "      <td>-0.011080</td>\n",
       "      <td>-0.008082</td>\n",
       "      <td>-0.013610</td>\n",
       "      <td>-0.009919</td>\n",
       "      <td>-0.009702</td>\n",
       "      <td>-0.012816</td>\n",
       "      <td>-0.009726</td>\n",
       "      <td>-0.012442</td>\n",
       "      <td>...</td>\n",
       "      <td>-0.015218</td>\n",
       "      <td>-0.014914</td>\n",
       "      <td>-0.016604</td>\n",
       "      <td>-0.016766</td>\n",
       "      <td>-0.016320</td>\n",
       "      <td>26.0</td>\n",
       "      <td>ce6015ad550d384fc556b815893909f016d19aa988107f...</td>\n",
       "      <td>UVT</td>\n",
       "      <td>pracovni sit pro sitare</td>\n",
       "      <td>20</td>\n",
       "    </tr>\n",
       "    <tr>\n",
       "      <th>4</th>\n",
       "      <td>-0.007494</td>\n",
       "      <td>-0.005762</td>\n",
       "      <td>-0.008920</td>\n",
       "      <td>-0.006337</td>\n",
       "      <td>-0.012023</td>\n",
       "      <td>-0.006979</td>\n",
       "      <td>-0.006933</td>\n",
       "      <td>-0.012532</td>\n",
       "      <td>-0.009452</td>\n",
       "      <td>-0.011691</td>\n",
       "      <td>...</td>\n",
       "      <td>-0.015270</td>\n",
       "      <td>-0.014933</td>\n",
       "      <td>-0.016579</td>\n",
       "      <td>-0.016739</td>\n",
       "      <td>-0.016297</td>\n",
       "      <td>26.0</td>\n",
       "      <td>25b945e7272206d17fe1371826ae7e9b01b7b9a1fe09e9...</td>\n",
       "      <td>UVT</td>\n",
       "      <td>pracovni sit pro sitare</td>\n",
       "      <td>20</td>\n",
       "    </tr>\n",
       "  </tbody>\n",
       "</table>\n",
       "<p>5 rows × 653 columns</p>\n",
       "</div>"
      ],
      "text/plain": [
       "          mean                                                              \\\n",
       "  FlowDuration                                                               \n",
       "            00        01        02        03        04        05        06   \n",
       "0    -0.010075 -0.011899 -0.011080 -0.008082 -0.013610 -0.009919 -0.009839   \n",
       "1    -0.007491 -0.005755 -0.008916 -0.006318 -0.012004 -0.007014 -0.006875   \n",
       "2    -0.010075 -0.011899 -0.011080 -0.008082 -0.013610 -0.009919 -0.009839   \n",
       "3    -0.010075 -0.011899 -0.011080 -0.008082 -0.013610 -0.009919 -0.009702   \n",
       "4    -0.007494 -0.005762 -0.008920 -0.006337 -0.012023 -0.006979 -0.006933   \n",
       "\n",
       "                                     ...            max                      \\\n",
       "                                     ...          Bytes                       \n",
       "         07        08        09      ...             19        20        21   \n",
       "0 -0.014341 -0.011996 -0.014402      ...      -0.015291 -0.014971 -0.016604   \n",
       "1 -0.012524 -0.009454 -0.011688      ...      -0.015272 -0.014951 -0.016588   \n",
       "2 -0.013046 -0.009527 -0.011701      ...      -0.015291 -0.014971 -0.016604   \n",
       "3 -0.012816 -0.009726 -0.012442      ...      -0.015218 -0.014914 -0.016604   \n",
       "4 -0.012532 -0.009452 -0.011691      ...      -0.015270 -0.014933 -0.016579   \n",
       "\n",
       "                               Label  \\\n",
       "                               Label   \n",
       "         22        23 anon_net_range   \n",
       "0 -0.016766 -0.016320           26.0   \n",
       "1 -0.016749 -0.016304           26.0   \n",
       "2 -0.016766 -0.016320           26.0   \n",
       "3 -0.016766 -0.016320           26.0   \n",
       "4 -0.016739 -0.016297           26.0   \n",
       "\n",
       "                                                           \\\n",
       "                                                            \n",
       "                                          addr_range unit   \n",
       "0  ec53ecd75327bafb5534fc04eb3b7f41cac0cd7664a19f...  UVT   \n",
       "1  7408e51607e13c73bda262bcec8a9a125a8fd13407bfbe...  UVT   \n",
       "2  a4ad915be80ba3536c409f3181298b3f86c57cd3db64fc...  UVT   \n",
       "3  ce6015ad550d384fc556b815893909f016d19aa988107f...  UVT   \n",
       "4  25b945e7272206d17fe1371826ae7e9b01b7b9a1fe09e9...  UVT   \n",
       "\n",
       "                            Unit_encoding  \n",
       "                                           \n",
       "                    subunit                \n",
       "0   pracovni sit pro sitare            20  \n",
       "1   pracovni sit pro sitare            20  \n",
       "2   pracovni sit pro sitare            20  \n",
       "3   pracovni sit pro sitare            20  \n",
       "4   pracovni sit pro sitare            20  \n",
       "\n",
       "[5 rows x 653 columns]"
      ]
     },
     "execution_count": 2,
     "metadata": {},
     "output_type": "execute_result"
    }
   ],
   "source": [
    "df = pd.read_pickle('extended_dataset_preprocessed.pkl')\n",
    "df.head()"
   ]
  },
  {
   "cell_type": "code",
   "execution_count": 3,
   "metadata": {},
   "outputs": [
    {
     "data": {
      "text/plain": [
       "(31501, 653)"
      ]
     },
     "execution_count": 3,
     "metadata": {},
     "output_type": "execute_result"
    }
   ],
   "source": [
    "df.shape"
   ]
  },
  {
   "cell_type": "markdown",
   "metadata": {},
   "source": [
    "## Visualize the imbalances"
   ]
  },
  {
   "cell_type": "code",
   "execution_count": 4,
   "metadata": {},
   "outputs": [
    {
     "data": {
      "text/plain": [
       "UVT              14003\n",
       "SKM               3246\n",
       "PrirF             2599\n",
       "CEITEC            2223\n",
       "LF                1475\n",
       "FI                1289\n",
       "FF                1089\n",
       "FIeduroamnaFI     1020\n",
       "FSS                802\n",
       "PedF               740\n",
       "UKB                649\n",
       "ESF                554\n",
       "PravF              536\n",
       "RMU                429\n",
       "FSpS               410\n",
       "Teiresias          130\n",
       "Telc                99\n",
       "IBA                 96\n",
       "VPN                 83\n",
       "CTT                 19\n",
       "FNBrno               7\n",
       "CESNET               3\n",
       "Name: (Label, Label, unit), dtype: int64"
      ]
     },
     "execution_count": 4,
     "metadata": {},
     "output_type": "execute_result"
    }
   ],
   "source": [
    "df['Label', 'Label', 'unit'].value_counts()"
   ]
  },
  {
   "cell_type": "code",
   "execution_count": 5,
   "metadata": {},
   "outputs": [
    {
     "data": {
      "text/plain": [
       "<matplotlib.axes._subplots.AxesSubplot at 0x7f3c96f0b4e0>"
      ]
     },
     "execution_count": 5,
     "metadata": {},
     "output_type": "execute_result"
    },
    {
     "data": {
      "image/png": "[encoded data removed]",
      "text/plain": [
       "<Figure size 1152x720 with 1 Axes>"
      ]
     },
     "metadata": {
      "needs_background": "light"
     },
     "output_type": "display_data"
    }
   ],
   "source": [
    "fig, ax = plt.subplots(figsize=(16,10))\n",
    "sns.countplot(x=('Label', 'Label', 'unit'), data=df, ax=ax)"
   ]
  },
  {
   "cell_type": "markdown",
   "metadata": {},
   "source": [
    "## Undersampling of dominant host unit in extended dataset\n",
    "\n",
    "Since **UVT** hosts represent an overwhelming majority in our dataset. We will use random undersampler to balance the unit counts"
   ]
  },
  {
   "cell_type": "markdown",
   "metadata": {},
   "source": [
    "set a number to undersample to:"
   ]
  },
  {
   "cell_type": "code",
   "execution_count": 6,
   "metadata": {},
   "outputs": [],
   "source": [
    "m_resample = int(df[df['Label', 'Label', 'unit'] == 'UVT'].shape[0] / 4)"
   ]
  },
  {
   "cell_type": "markdown",
   "metadata": {},
   "source": [
    "#### Setting up random undersampler"
   ]
  },
  {
   "cell_type": "code",
   "execution_count": 7,
   "metadata": {},
   "outputs": [],
   "source": [
    "sampler = RandomUnderSampler(sampling_strategy={20 : m_resample})"
   ]
  },
  {
   "cell_type": "markdown",
   "metadata": {},
   "source": [
    "_for randomundersampler_"
   ]
  },
  {
   "cell_type": "code",
   "execution_count": 8,
   "metadata": {},
   "outputs": [
    {
     "data": {
      "text/html": [
       "<div>\n",
       "<style scoped>\n",
       "    .dataframe tbody tr th:only-of-type {\n",
       "        vertical-align: middle;\n",
       "    }\n",
       "\n",
       "    .dataframe tbody tr th {\n",
       "        vertical-align: top;\n",
       "    }\n",
       "\n",
       "    .dataframe thead tr th {\n",
       "        text-align: left;\n",
       "    }\n",
       "</style>\n",
       "<table border=\"1\" class=\"dataframe\">\n",
       "  <thead>\n",
       "    <tr>\n",
       "      <th></th>\n",
       "      <th colspan=\"10\" halign=\"left\">mean</th>\n",
       "      <th>...</th>\n",
       "      <th colspan=\"5\" halign=\"left\">max</th>\n",
       "      <th colspan=\"4\" halign=\"left\">Label</th>\n",
       "      <th>Unit_encoding</th>\n",
       "    </tr>\n",
       "    <tr>\n",
       "      <th></th>\n",
       "      <th colspan=\"10\" halign=\"left\">FlowDuration</th>\n",
       "      <th>...</th>\n",
       "      <th colspan=\"5\" halign=\"left\">Bytes</th>\n",
       "      <th colspan=\"4\" halign=\"left\">Label</th>\n",
       "      <th></th>\n",
       "    </tr>\n",
       "    <tr>\n",
       "      <th></th>\n",
       "      <th>00</th>\n",
       "      <th>01</th>\n",
       "      <th>02</th>\n",
       "      <th>03</th>\n",
       "      <th>04</th>\n",
       "      <th>05</th>\n",
       "      <th>06</th>\n",
       "      <th>07</th>\n",
       "      <th>08</th>\n",
       "      <th>09</th>\n",
       "      <th>...</th>\n",
       "      <th>19</th>\n",
       "      <th>20</th>\n",
       "      <th>21</th>\n",
       "      <th>22</th>\n",
       "      <th>23</th>\n",
       "      <th>anon_net_range</th>\n",
       "      <th>addr_range</th>\n",
       "      <th>unit</th>\n",
       "      <th>subunit</th>\n",
       "      <th></th>\n",
       "    </tr>\n",
       "  </thead>\n",
       "  <tbody>\n",
       "    <tr>\n",
       "      <th>0</th>\n",
       "      <td>-0.0076218</td>\n",
       "      <td>-0.0061033</td>\n",
       "      <td>-0.00901875</td>\n",
       "      <td>-0.0064218</td>\n",
       "      <td>-0.0120994</td>\n",
       "      <td>-0.00714079</td>\n",
       "      <td>-0.00706907</td>\n",
       "      <td>-0.0126159</td>\n",
       "      <td>-0.00957151</td>\n",
       "      <td>-0.0118509</td>\n",
       "      <td>...</td>\n",
       "      <td>-0.0152904</td>\n",
       "      <td>-0.0149713</td>\n",
       "      <td>-0.0166037</td>\n",
       "      <td>-0.016766</td>\n",
       "      <td>-0.0163198</td>\n",
       "      <td>28</td>\n",
       "      <td>ef160f55b36bd48b37f22bc9c48819b1a0259c2dd27ccc...</td>\n",
       "      <td>CEITEC</td>\n",
       "      <td>frontendy diskovych poli a aplikacni servery ...</td>\n",
       "      <td>0</td>\n",
       "    </tr>\n",
       "    <tr>\n",
       "      <th>1</th>\n",
       "      <td>-0.00967743</td>\n",
       "      <td>-0.0110739</td>\n",
       "      <td>-0.0107901</td>\n",
       "      <td>-0.00808154</td>\n",
       "      <td>-0.0136098</td>\n",
       "      <td>-0.00986328</td>\n",
       "      <td>-0.00974263</td>\n",
       "      <td>-0.0143397</td>\n",
       "      <td>-0.0115096</td>\n",
       "      <td>-0.0141186</td>\n",
       "      <td>...</td>\n",
       "      <td>-0.0152906</td>\n",
       "      <td>-0.0149715</td>\n",
       "      <td>-0.0166038</td>\n",
       "      <td>-0.0167662</td>\n",
       "      <td>-0.01632</td>\n",
       "      <td>28</td>\n",
       "      <td>93b8f5a052053b0db4731b671f78b8c5e5817d38d51ba9...</td>\n",
       "      <td>CEITEC</td>\n",
       "      <td>frontendy diskovych poli a aplikacni servery ...</td>\n",
       "      <td>0</td>\n",
       "    </tr>\n",
       "    <tr>\n",
       "      <th>2</th>\n",
       "      <td>-0.00948369</td>\n",
       "      <td>-0.0104265</td>\n",
       "      <td>-0.0108963</td>\n",
       "      <td>-0.00808009</td>\n",
       "      <td>-0.0136085</td>\n",
       "      <td>-0.00991762</td>\n",
       "      <td>-0.00983781</td>\n",
       "      <td>-0.0143201</td>\n",
       "      <td>-0.0115449</td>\n",
       "      <td>-0.0139219</td>\n",
       "      <td>...</td>\n",
       "      <td>-0.0152906</td>\n",
       "      <td>-0.0149715</td>\n",
       "      <td>-0.0166038</td>\n",
       "      <td>-0.0167662</td>\n",
       "      <td>-0.01632</td>\n",
       "      <td>28</td>\n",
       "      <td>ac600c8985d0f198d532737ea9d58db00905c6c6bebb6b...</td>\n",
       "      <td>CEITEC</td>\n",
       "      <td>frontendy diskovych poli a aplikacni servery ...</td>\n",
       "      <td>0</td>\n",
       "    </tr>\n",
       "    <tr>\n",
       "      <th>3</th>\n",
       "      <td>-0.00993164</td>\n",
       "      <td>-0.0111256</td>\n",
       "      <td>-0.0107616</td>\n",
       "      <td>-0.00798433</td>\n",
       "      <td>-0.0135953</td>\n",
       "      <td>-0.0099185</td>\n",
       "      <td>-0.00947003</td>\n",
       "      <td>-0.0143409</td>\n",
       "      <td>-0.0119786</td>\n",
       "      <td>-0.0142301</td>\n",
       "      <td>...</td>\n",
       "      <td>-0.0152906</td>\n",
       "      <td>-0.0149715</td>\n",
       "      <td>-0.0166038</td>\n",
       "      <td>-0.0167662</td>\n",
       "      <td>-0.01632</td>\n",
       "      <td>28</td>\n",
       "      <td>48bab257d30b1c6eaa225275fe60fc5e1dfe61afe54ace...</td>\n",
       "      <td>CEITEC</td>\n",
       "      <td>frontendy diskovych poli a aplikacni servery ...</td>\n",
       "      <td>0</td>\n",
       "    </tr>\n",
       "    <tr>\n",
       "      <th>4</th>\n",
       "      <td>-0.00748368</td>\n",
       "      <td>-0.00578955</td>\n",
       "      <td>-0.00893008</td>\n",
       "      <td>-0.00632163</td>\n",
       "      <td>-0.012029</td>\n",
       "      <td>-0.00700721</td>\n",
       "      <td>-0.00691079</td>\n",
       "      <td>-0.0125376</td>\n",
       "      <td>-0.00944081</td>\n",
       "      <td>-0.0117058</td>\n",
       "      <td>...</td>\n",
       "      <td>-0.0152744</td>\n",
       "      <td>-0.0149548</td>\n",
       "      <td>-0.0165885</td>\n",
       "      <td>-0.0167515</td>\n",
       "      <td>-0.0163074</td>\n",
       "      <td>26</td>\n",
       "      <td>1cd00c373ace404b829e822bf076631b564bf2bc70db82...</td>\n",
       "      <td>CEITEC</td>\n",
       "      <td>CRS</td>\n",
       "      <td>0</td>\n",
       "    </tr>\n",
       "  </tbody>\n",
       "</table>\n",
       "<p>5 rows × 653 columns</p>\n",
       "</div>"
      ],
      "text/plain": [
       "          mean                                                             \\\n",
       "  FlowDuration                                                              \n",
       "            00          01          02          03         04          05   \n",
       "0   -0.0076218  -0.0061033 -0.00901875  -0.0064218 -0.0120994 -0.00714079   \n",
       "1  -0.00967743  -0.0110739  -0.0107901 -0.00808154 -0.0136098 -0.00986328   \n",
       "2  -0.00948369  -0.0104265  -0.0108963 -0.00808009 -0.0136085 -0.00991762   \n",
       "3  -0.00993164  -0.0111256  -0.0107616 -0.00798433 -0.0135953  -0.0099185   \n",
       "4  -0.00748368 -0.00578955 -0.00893008 -0.00632163  -0.012029 -0.00700721   \n",
       "\n",
       "                                                     ...             max  \\\n",
       "                                                     ...           Bytes   \n",
       "           06         07          08         09      ...              19   \n",
       "0 -0.00706907 -0.0126159 -0.00957151 -0.0118509      ...      -0.0152904   \n",
       "1 -0.00974263 -0.0143397  -0.0115096 -0.0141186      ...      -0.0152906   \n",
       "2 -0.00983781 -0.0143201  -0.0115449 -0.0139219      ...      -0.0152906   \n",
       "3 -0.00947003 -0.0143409  -0.0119786 -0.0142301      ...      -0.0152906   \n",
       "4 -0.00691079 -0.0125376 -0.00944081 -0.0117058      ...      -0.0152744   \n",
       "\n",
       "                                                       Label  \\\n",
       "                                                       Label   \n",
       "          20         21         22         23 anon_net_range   \n",
       "0 -0.0149713 -0.0166037  -0.016766 -0.0163198             28   \n",
       "1 -0.0149715 -0.0166038 -0.0167662   -0.01632             28   \n",
       "2 -0.0149715 -0.0166038 -0.0167662   -0.01632             28   \n",
       "3 -0.0149715 -0.0166038 -0.0167662   -0.01632             28   \n",
       "4 -0.0149548 -0.0165885 -0.0167515 -0.0163074             26   \n",
       "\n",
       "                                                              \\\n",
       "                                                               \n",
       "                                          addr_range    unit   \n",
       "0  ef160f55b36bd48b37f22bc9c48819b1a0259c2dd27ccc...  CEITEC   \n",
       "1  93b8f5a052053b0db4731b671f78b8c5e5817d38d51ba9...  CEITEC   \n",
       "2  ac600c8985d0f198d532737ea9d58db00905c6c6bebb6b...  CEITEC   \n",
       "3  48bab257d30b1c6eaa225275fe60fc5e1dfe61afe54ace...  CEITEC   \n",
       "4  1cd00c373ace404b829e822bf076631b564bf2bc70db82...  CEITEC   \n",
       "\n",
       "                                                     Unit_encoding  \n",
       "                                                                    \n",
       "                                             subunit                \n",
       "0   frontendy diskovych poli a aplikacni servery ...             0  \n",
       "1   frontendy diskovych poli a aplikacni servery ...             0  \n",
       "2   frontendy diskovych poli a aplikacni servery ...             0  \n",
       "3   frontendy diskovych poli a aplikacni servery ...             0  \n",
       "4                                                CRS             0  \n",
       "\n",
       "[5 rows x 653 columns]"
      ]
     },
     "execution_count": 8,
     "metadata": {},
     "output_type": "execute_result"
    }
   ],
   "source": [
    "\n",
    "x = df.drop(('Unit_encoding', '', ''), level=0, axis=1)\n",
    "y = df['Unit_encoding']\n",
    "resample_x, resample_y = sampler.fit_resample(x, y)\n",
    "df = pd.DataFrame(resample_x, columns=x.columns)\n",
    "df['Unit_encoding', '', ''] = resample_y\n",
    "df.head()"
   ]
  },
  {
   "cell_type": "code",
   "execution_count": 9,
   "metadata": {},
   "outputs": [
    {
     "data": {
      "text/plain": [
       "UVT              3500\n",
       "SKM              3246\n",
       "PrirF            2599\n",
       "CEITEC           2223\n",
       "LF               1475\n",
       "FI               1289\n",
       "FF               1089\n",
       "FIeduroamnaFI    1020\n",
       "FSS               802\n",
       "PedF              740\n",
       "UKB               649\n",
       "ESF               554\n",
       "PravF             536\n",
       "RMU               429\n",
       "FSpS              410\n",
       "Teiresias         130\n",
       "Telc               99\n",
       "IBA                96\n",
       "VPN                83\n",
       "CTT                19\n",
       "FNBrno              7\n",
       "CESNET              3\n",
       "Name: (Label, Label, unit), dtype: int64"
      ]
     },
     "execution_count": 9,
     "metadata": {},
     "output_type": "execute_result"
    }
   ],
   "source": [
    "df['Label', 'Label', 'unit'].value_counts()"
   ]
  },
  {
   "cell_type": "code",
   "execution_count": 10,
   "metadata": {},
   "outputs": [
    {
     "data": {
      "text/plain": [
       "<matplotlib.axes._subplots.AxesSubplot at 0x7f3c96b49e80>"
      ]
     },
     "execution_count": 10,
     "metadata": {},
     "output_type": "execute_result"
    },
    {
     "data": {
      "image/png": "[encoded data removed]",
      "text/plain": [
       "<Figure size 1152x720 with 1 Axes>"
      ]
     },
     "metadata": {
      "needs_background": "light"
     },
     "output_type": "display_data"
    }
   ],
   "source": [
    "fig, ax = plt.subplots(figsize=(16,10))\n",
    "sns.countplot(x=('Label', 'Label', 'unit'), data=df, ax=ax)"
   ]
  },
  {
   "cell_type": "markdown",
   "metadata": {},
   "source": [
    "### Fix column dtypes\n",
    "\n",
    "Our feature columns should be of dtype **float64** "
   ]
  },
  {
   "cell_type": "code",
   "execution_count": 11,
   "metadata": {},
   "outputs": [
    {
     "data": {
      "text/plain": [
       "mean           FlowDuration  00                object\n",
       "                             01                object\n",
       "                             02                object\n",
       "                             03                object\n",
       "                             04                object\n",
       "                             05                object\n",
       "                             06                object\n",
       "                             07                object\n",
       "                             08                object\n",
       "                             09                object\n",
       "                             10                object\n",
       "                             11                object\n",
       "                             12                object\n",
       "                             13                object\n",
       "                             14                object\n",
       "                             15                object\n",
       "                             16                object\n",
       "                             17                object\n",
       "                             18                object\n",
       "                             19                object\n",
       "                             20                object\n",
       "                             21                object\n",
       "                             22                object\n",
       "                             23                object\n",
       "min            FlowDuration  00                object\n",
       "                             01                object\n",
       "                             02                object\n",
       "                             03                object\n",
       "                             04                object\n",
       "                             05                object\n",
       "                                                ...  \n",
       "               Bytes         23                object\n",
       "max            Bytes         00                object\n",
       "                             01                object\n",
       "                             02                object\n",
       "                             03                object\n",
       "                             04                object\n",
       "                             05                object\n",
       "                             06                object\n",
       "                             07                object\n",
       "                             08                object\n",
       "                             09                object\n",
       "                             10                object\n",
       "                             11                object\n",
       "                             12                object\n",
       "                             13                object\n",
       "                             14                object\n",
       "                             15                object\n",
       "                             16                object\n",
       "                             17                object\n",
       "                             18                object\n",
       "                             19                object\n",
       "                             20                object\n",
       "                             21                object\n",
       "                             22                object\n",
       "                             23                object\n",
       "Label          Label         anon_net_range    object\n",
       "                             addr_range        object\n",
       "                             unit              object\n",
       "                             subunit           object\n",
       "Unit_encoding                                   int64\n",
       "Length: 653, dtype: object"
      ]
     },
     "execution_count": 11,
     "metadata": {},
     "output_type": "execute_result"
    }
   ],
   "source": [
    "df.dtypes"
   ]
  },
  {
   "cell_type": "code",
   "execution_count": 12,
   "metadata": {},
   "outputs": [],
   "source": [
    "for column in df:\n",
    "    if column[0] == 'Label':\n",
    "        break\n",
    "    df[column] = pd.to_numeric(df[column])"
   ]
  },
  {
   "cell_type": "code",
   "execution_count": 13,
   "metadata": {},
   "outputs": [
    {
     "data": {
      "text/plain": [
       "mean           FlowDuration  00                float64\n",
       "                             01                float64\n",
       "                             02                float64\n",
       "                             03                float64\n",
       "                             04                float64\n",
       "                             05                float64\n",
       "                             06                float64\n",
       "                             07                float64\n",
       "                             08                float64\n",
       "                             09                float64\n",
       "                             10                float64\n",
       "                             11                float64\n",
       "                             12                float64\n",
       "                             13                float64\n",
       "                             14                float64\n",
       "                             15                float64\n",
       "                             16                float64\n",
       "                             17                float64\n",
       "                             18                float64\n",
       "                             19                float64\n",
       "                             20                float64\n",
       "                             21                float64\n",
       "                             22                float64\n",
       "                             23                float64\n",
       "min            FlowDuration  00                float64\n",
       "                             01                float64\n",
       "                             02                float64\n",
       "                             03                float64\n",
       "                             04                float64\n",
       "                             05                float64\n",
       "                                                ...   \n",
       "               Bytes         23                float64\n",
       "max            Bytes         00                float64\n",
       "                             01                float64\n",
       "                             02                float64\n",
       "                             03                float64\n",
       "                             04                float64\n",
       "                             05                float64\n",
       "                             06                float64\n",
       "                             07                float64\n",
       "                             08                float64\n",
       "                             09                float64\n",
       "                             10                float64\n",
       "                             11                float64\n",
       "                             12                float64\n",
       "                             13                float64\n",
       "                             14                float64\n",
       "                             15                float64\n",
       "                             16                float64\n",
       "                             17                float64\n",
       "                             18                float64\n",
       "                             19                float64\n",
       "                             20                float64\n",
       "                             21                float64\n",
       "                             22                float64\n",
       "                             23                float64\n",
       "Label          Label         anon_net_range     object\n",
       "                             addr_range         object\n",
       "                             unit               object\n",
       "                             subunit            object\n",
       "Unit_encoding                                    int64\n",
       "Length: 653, dtype: object"
      ]
     },
     "execution_count": 13,
     "metadata": {},
     "output_type": "execute_result"
    }
   ],
   "source": [
    "df.dtypes"
   ]
  },
  {
   "cell_type": "code",
   "execution_count": 14,
   "metadata": {},
   "outputs": [],
   "source": [
    "pd.to_pickle(df, 'balanced_preprocessed_dataset.pkl')"
   ]
  }
 ],
 "metadata": {
  "kernelspec": {
   "display_name": "Python 3",
   "language": "python",
   "name": "python3"
  },
  "language_info": {
   "codemirror_mode": {
    "name": "ipython",
    "version": 3
   },
   "file_extension": ".py",
   "mimetype": "text/x-python",
   "name": "python",
   "nbconvert_exporter": "python",
   "pygments_lexer": "ipython3",
   "version": "3.7.1"
  }
 },
 "nbformat": 4,
 "nbformat_minor": 2
}
